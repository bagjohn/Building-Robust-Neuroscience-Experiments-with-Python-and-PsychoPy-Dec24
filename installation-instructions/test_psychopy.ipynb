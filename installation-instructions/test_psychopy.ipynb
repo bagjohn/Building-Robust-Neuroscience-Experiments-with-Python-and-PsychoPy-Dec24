{
 "cells": [
  {
   "cell_type": "markdown",
   "metadata": {},
   "source": [
    "# Test PsychoPy\n",
    "\n",
    "Welcome to the course! Execute the cell below to test PsychoPy is working.\n",
    "You should see a gray Window and some text appear.\n"
   ]
  },
  {
   "cell_type": "code",
   "execution_count": 2,
   "metadata": {},
   "outputs": [
    {
     "name": "stdout",
     "output_type": "stream",
     "text": [
      "20.8439 \tWARNING \tMonitor specification not found. Creating a temporary one...\n"
     ]
    }
   ],
   "source": [
    "from psychopy import visual\n",
    "from psychopy.hardware import keyboard\n",
    "\n",
    "kb = keyboard.Keyboard()\n",
    "win = visual.Window(fullscr=False)\n",
    "text = visual.TextStim(win, text=\"Welcome to the course!\\n Press SPACE to exit\")\n",
    "text.draw()\n",
    "win.flip()\n",
    "kb.waitKeys(keyList=[\"space\"])\n",
    "win.close()"
   ]
  },
  {
   "cell_type": "code",
   "execution_count": null,
   "metadata": {},
   "outputs": [],
   "source": []
  }
 ],
 "metadata": {
  "kernelspec": {
   "display_name": "psychopy39",
   "language": "python",
   "name": "python3"
  },
  "language_info": {
   "codemirror_mode": {
    "name": "ipython",
    "version": 3
   },
   "file_extension": ".py",
   "mimetype": "text/x-python",
   "name": "python",
   "nbconvert_exporter": "python",
   "pygments_lexer": "ipython3",
   "version": "3.9.13"
  }
 },
 "nbformat": 4,
 "nbformat_minor": 2
}
