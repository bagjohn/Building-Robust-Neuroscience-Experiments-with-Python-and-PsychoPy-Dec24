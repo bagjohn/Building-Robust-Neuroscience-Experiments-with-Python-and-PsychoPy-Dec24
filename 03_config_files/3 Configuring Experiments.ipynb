{
 "cells": [
  {
   "cell_type": "markdown",
   "metadata": {},
   "source": [
    "# Configuring an Experiment\n",
    "\n",
    "Designing an experiment involves making lots of different choices, for example: What different conditions are being tested? What stimuli are presented? How many trials does the experiment contain?\n",
    "Often, as we pilot our studies or run additional control experiments, we want to change some aspect of our experiment.\n",
    "If all these parameters are directly stored in the code, we have to modify our program for every little change.\n",
    "Thus, it is convenient to store our parameters in a configuration file and load this file into our program.\n",
    "This way, we can run endless variations of our experiment without ever touching the code - this makes our program much more resuable!"
   ]
  },
  {
   "cell_type": "code",
   "execution_count": null,
   "metadata": {},
   "outputs": [],
   "source": [
    "%pip install psychopy"
   ]
  },
  {
   "cell_type": "code",
   "execution_count": 2,
   "metadata": {},
   "outputs": [],
   "source": [
    "import json\n",
    "from psychopy.event import waitKeys\n",
    "from psychopy.visual import Rect, Circle, TextStim, Window"
   ]
  },
  {
   "cell_type": "markdown",
   "metadata": {},
   "source": [
    "## 1. File Handling\n",
    "\n",
    "To store and load data, we have to interact with files.\n",
    "Python's builtin `open()` function allows to do exactly that: it returns a file object that we can use to read from and write to a specific file.\n",
    "The `open()` function is usually used within a context manager that is declared using the keyword `with`.\n",
    "This context manager makes our code more readable and also makes sure that our file is closed after we are done.\n",
    "\n",
    "### Reference Table\n",
    "|Code | Description |\n",
    "|---  | ---|\n",
    "|`f = open(\"novel.txt\", \"w\")` | `open` the file `\"novel.txt\"` in `\"w\"` (writing) mode |\n",
    "|`f = write(\"Once upon a time ...\")` | Write to the opened file |\n",
    "| `f.close()`  | Close the file again |\n",
    "| `f = open(\"novel.txt\", \"r\")` | `open` the file `\"novel.txt\"` in \"r\" (reading) mode |\n",
    "| `text = f.read()` | Read the opened file |\n",
    "| `with open(\"novel.txt\", \"w\") as f:` <br> &nbsp;&nbsp;&nbsp;&nbsp; `f.write(\"...and they lived happily ever after.\")` | Write to a file within a context manager that opens and automatically closes the file again. |"
   ]
  },
  {
   "cell_type": "markdown",
   "metadata": {},
   "source": [
    "**Exercise**: `open` the file `\"paper.txt\"` in `\"w\"` mode, `write` the string `\"Introduction\"` to that file and `close` it again. Then, open the file in your editor."
   ]
  },
  {
   "cell_type": "code",
   "execution_count": null,
   "metadata": {},
   "outputs": [],
   "source": [
    "with open('paper.txt', \"w\") as f:\n",
    "    f.write('Introduction')"
   ]
  },
  {
   "cell_type": "markdown",
   "metadata": {},
   "source": [
    "Now, open `\"paper.txt\"` in `\"r\"` mode and `read` the file's content"
   ]
  },
  {
   "cell_type": "code",
   "execution_count": 8,
   "metadata": {},
   "outputs": [
    {
     "data": {
      "text/plain": [
       "'Introduction\\n'"
      ]
     },
     "execution_count": 8,
     "metadata": {},
     "output_type": "execute_result"
    }
   ],
   "source": [
    "with open('paper.txt', \"r\") as f:\n",
    "    text=f.read()\n",
    "text"
   ]
  },
  {
   "cell_type": "markdown",
   "metadata": {},
   "source": [
    "---\n",
    "**Exercise**: `open` a file called `\"data.txt\"` in `\"w\"` mode, `write` the string `\"1,2,3,4,5,6\"` to that file and `close` it again:"
   ]
  },
  {
   "cell_type": "code",
   "execution_count": 21,
   "metadata": {},
   "outputs": [],
   "source": [
    "with open('data.txt', \"w\") as f:\n",
    "    f.write(\"1,2,3,4,5,6\")"
   ]
  },
  {
   "cell_type": "markdown",
   "metadata": {},
   "source": [
    "Open `\"data.txt\"` in your editor and, on a new line, add thee numbers **7,8,9,10,11,12** and save. Then open `\"data.txt\"` in `\"r\"` mode and `read` the file's content"
   ]
  },
  {
   "cell_type": "code",
   "execution_count": 22,
   "metadata": {},
   "outputs": [
    {
     "name": "stdout",
     "output_type": "stream",
     "text": [
      "1,2,3,4,5,6\n",
      "7,8,9,10,11,12\n"
     ]
    }
   ],
   "source": [
    "with open('data.txt', \"a\") as f:\n",
    "    f.write(\"\\n7,8,9,10,11,12\")\n",
    "\n",
    "with open('data.txt', \"r\") as f:\n",
    "    text=f.read()\n",
    "print(text)"
   ]
  },
  {
   "cell_type": "markdown",
   "metadata": {},
   "source": [
    "---\n",
    "**Exercise**: `open` the file `\"conditions.txt\"` in `\"w\"` mode `with` a context manager write the string `\"a,b,c\"` to that file:"
   ]
  },
  {
   "cell_type": "markdown",
   "metadata": {},
   "source": [
    "Open `\"conditions.txt\"` in your text editor and append **d** to the sequence of conditions. Then, open the file in `\"r\"` mode `with` a context manager and read the file and print its content\n"
   ]
  },
  {
   "cell_type": "markdown",
   "metadata": {},
   "source": [
    "---\n",
    "**Exercise**: `open` the file `\"trials.txt\"` in `\"w\"` mode `with` a context manager. Use a `for` loop within that contex to convert each element in `trials` to a string and write it on a new line in the file. (Hint: the string `\"\\n\"` represents a line break)"
   ]
  },
  {
   "cell_type": "markdown",
   "metadata": {},
   "source": [
    "Open `\"trials.txt\"` in \"r\" mode `with` a context manager, `read` it and print its content"
   ]
  },
  {
   "cell_type": "code",
   "execution_count": 25,
   "metadata": {},
   "outputs": [
    {
     "name": "stdout",
     "output_type": "stream",
     "text": [
      "t\n",
      "r\n",
      "i\n",
      "a\n",
      "l\n",
      "s\n",
      "\n"
     ]
    }
   ],
   "source": [
    "with open('trials.txt', \"w\") as f:\n",
    "    for i in \"trials\":\n",
    "        f.write(f\"{i}\\n\")\n",
    "\n",
    "with open('trials.txt', \"r\") as f:\n",
    "    text=f.read()\n",
    "print(text)"
   ]
  },
  {
   "cell_type": "markdown",
   "metadata": {},
   "source": [
    "## 2. Reading and Writing Configuration Files\n",
    "\n",
    "To work with configuration files, we need a data structure to represent them in Python.\n",
    "We are going to use dictionaries, which store data as a combination of keys and values.\n",
    "This is useful because we can give informative names to our parameters and make our code easier to read.\n",
    "When we save these dictionaries to our computer we are going to use the JSON format (this stands for JavaScript Object Notation).\n",
    "JSON has a syntax that is highly similar to Python dictionaries, so they can easily be converted to one another.\n",
    "Also, JSON files can be opened in any text editor, so we can edit them by hand which is very convenient!\n",
    "\n",
    "|Code | Description |\n",
    "|---|---|\n",
    "|`x = {\"n\": 100, \"p\": 0.5}`| Define a dictionary `x` with the keys `\"n\"` and `\"p\"` and the values `100` and `0.5`|\n",
    "| `with open(\"p.json\", \"w\") as f:` <br> &nbsp;&nbsp;&nbsp;&nbsp; `json.dump(x, f)` | Write the dictionary `x` to the file `\"p.json\"`|\n",
    "| `with open(\"p.json\", \"w\") as f:` <br> &nbsp;&nbsp;&nbsp;&nbsp; `json.dump(x, f, indent=3)` | Write the dictionary `x` to the file `\"p.json\"` and `indent` each level with `3` spaces|\n",
    "| `with open(\"p.json\", \"w\") as f:` <br> &nbsp;&nbsp;&nbsp;&nbsp; `x = json.load(f)` | Load the file `\"p.json\"` and store its content in the dictionary `x`|"
   ]
  },
  {
   "cell_type": "markdown",
   "metadata": {},
   "source": [
    "**Exercise**: Create a dictionary with `\"n_trials\": 100` and `\"training\": true\"` and `\"feedback\": None` and write it to a file called `\"parameters.json\"`:"
   ]
  },
  {
   "cell_type": "code",
   "execution_count": 28,
   "metadata": {},
   "outputs": [],
   "source": [
    "d={\n",
    "    \"n_trials\": 10,\n",
    "    \"training\": True,\n",
    "    \"feedback\": None\n",
    "}\n",
    "with open('parameters.json', \"w\") as f:\n",
    "    json.dump(d, f)"
   ]
  },
  {
   "cell_type": "markdown",
   "metadata": {},
   "source": [
    "Open `\"parameters.json\"` in your editor --- how are the values `True` and `None` represented? Load the file's contents into a dictionary called `p` and print the values stored in `p[\"training\"]` and `p[\"feedback\"]`."
   ]
  },
  {
   "cell_type": "code",
   "execution_count": 30,
   "metadata": {},
   "outputs": [
    {
     "name": "stdout",
     "output_type": "stream",
     "text": [
      "True None\n"
     ]
    }
   ],
   "source": [
    "with open('parameters.json', \"r\") as f:\n",
    "    x=json.load(f)\n",
    "    \n",
    "print(x[\"training\"], x[\"feedback\"])"
   ]
  },
  {
   "cell_type": "markdown",
   "metadata": {},
   "source": [
    "---\n",
    "**Exercise**: Create a dictionary with `\"condition\": [\"a\", \"b\", \"c\"]\"` and `\"probability\": [0.2, 0.2, 0.6]\"` and write it to a file called `\"config.json\"` with `indent=4`:"
   ]
  },
  {
   "cell_type": "markdown",
   "metadata": {},
   "source": [
    "Open `\"config.json\"` in your editor, add a field `\"n_blocks\":3` and save. Then, load the file into a dictionary called `config` and print the value stored in `config[\"n_blocks\"]`:"
   ]
  },
  {
   "cell_type": "markdown",
   "metadata": {},
   "source": [
    "---\n",
    "**Exercise**: In your editor, create a new file called `params.json` and write a JSON file that contains `\"keys\": [\"left\", \"right\"]`, `\"conditions\": [1,2,3]` and `\"training\": null`. Then, load this file into a dictionary called `params` and print the values stored in `params[\"keys\"]`"
   ]
  },
  {
   "cell_type": "markdown",
   "metadata": {},
   "source": [
    "## 3. Configuring Visual Stimuli\n",
    "\n",
    "Now that we understand how to read and write config files, we can start to dive into PsychoPy which is the package we will use to present images and audio to and record responses from our subjects. In this section we will explore the presentation of visual stimuli with PsychoPy.\n",
    "A PsychoPy program usually starts by opening a `Window`, where images are shown to the subject.\n",
    "Just like our opened files, we can handle the `Window` using a context manager.\n",
    "This is very convenient because it prevents us from ending up with a frozen window - if our experiment crashes, the context manager will make sure that everything is cleaned up and the window is close.\n",
    "PsychoPy used a dual-buffer system which means that there are two screens: one that we are seeing and one that is hidden.\n",
    "When we draw images, we are always drawing to the hidden screen.\n",
    "The images are only revealed once we call `.flip()`.\n",
    "\n",
    "\n",
    "| Code                                                            | Description                                                   |\n",
    "| ---                                                             | ---                                                           |\n",
    "| `with Window() as win:`                           | Open a `Window` within a context manager                  |\n",
    "| `win.flip()`                                                    | Clear the screen and display new image                        |\n",
    "| `text = TextStim(win, text=\"Hi!\")`                       | Create a text object for the given `Window`                   |\n",
    "| `rect = Rect(win, pos=(0,0), width=1, height=1, lineColor=\"white\")` | Create a rectangle for the given `Window`                     |\n",
    "| `circle = Circle(win, radius=0.2, fillColor=\"blue\")` | Create a circle for the given `Window`                     |\n",
    "| `rect.draw(), circle.draw(), text.draw()`                                                   | Draw a visual stimulus (e.g. rectangle) to the window buffer        |\n",
    "| `waitKeys()`                                                   | Wait until a key was pressed |\n",
    "| `waitKeys(keyList=[\"left\", \"right\"])`                                                   | Wait until the left or right arrow key was pressed |"
   ]
  },
  {
   "cell_type": "markdown",
   "metadata": {},
   "source": [
    "**Example**: Open a window within a context manager, then draw a white rectangle, `flip()` the window and wait for a key press "
   ]
  },
  {
   "cell_type": "code",
   "execution_count": null,
   "metadata": {},
   "outputs": [],
   "source": [
    "with Window() as win:\n",
    "    rect = Rect(win, lineColor=\"white\")\n",
    "    rect.draw()\n",
    "    win.flip() # show the drawn rectangle\n",
    "    waitKeys()"
   ]
  },
  {
   "cell_type": "markdown",
   "metadata": {},
   "source": [
    "---\n",
    "**Exercise**: Create a dictionary with, `\"height\":1`, `\"width\":1` and `\"color\":\"white\"` and write it to a file called `rect_config.json`"
   ]
  },
  {
   "cell_type": "markdown",
   "metadata": {},
   "source": [
    "Read `rect_config.json` into a dictionary `cfg`, then open a window within a context manager, draw a **rectangle** with `height=cfg[\"height\"]`, `width=cfg[\"width\"]` and `lineColor=cfg[\"color\"]`, then `flip()` the window and wait for a key. "
   ]
  },
  {
   "cell_type": "markdown",
   "metadata": {},
   "source": [
    "Now modify `rect_config.json` in your editor and set `\"height\":1.5`, `\"width\":0.75` and `\"color\":\"pink\"`, then rerun the cell above"
   ]
  },
  {
   "cell_type": "markdown",
   "metadata": {},
   "source": [
    "---\n",
    "**Exercise**: Create a dictionary with `\"pos\":(0, 0.5)`, `\"color\":\"red\"` and `\"keys\":[\"x\", \"m\"]` and write it to a file `circle_config.json`"
   ]
  },
  {
   "cell_type": "markdown",
   "metadata": {},
   "source": [
    "Read `circle_config.json` into a dictionary `cfg`, then open a window within a context manager, draw a **circle** at `pos=cfg[\"pos\"]`, with `fillColor=cfg[\"color\"]`, then `flip()` the window and wait for `cfg[\"keys\"]`. "
   ]
  },
  {
   "cell_type": "markdown",
   "metadata": {},
   "source": [
    "Now modify `circle_config.json` in your editor and set `\"pos\":(0.2, -0.1)`, `\"color\":pink` and `\"keys\":[\"space\"]`, then rerun the cell above."
   ]
  },
  {
   "cell_type": "markdown",
   "metadata": {},
   "source": [
    "---\n",
    "**Exercise**: Create a dictionary with `\"width\":2`, `\"height\":2`, `\"color\":\"teal\"` and `\"text\":\"Welcome!\"` and  and write it to a file `text_config.json`"
   ]
  },
  {
   "cell_type": "markdown",
   "metadata": {},
   "source": [
    "Read `text_config.json` into a dictionary `cfg`, then open a window within a context manager, draw a **rectangle** with `heigh=cfg[\"height\"]`, `width=cfg[\"width\"]` and `fillColor=cfg[\"color\"]` and draw a **text stimulus** with `text=cfg[\"text\"]` then `flip()` the window and wait for a key press. "
   ]
  },
  {
   "cell_type": "markdown",
   "metadata": {},
   "source": [
    "Now modify `text_config.json` in your editor and set `\"height\":1.9`, `\"width\":1.9` and `\"text\":\"Hello!\"`, then rerun the cell above."
   ]
  },
  {
   "cell_type": "markdown",
   "metadata": {},
   "source": [
    "---\n",
    "**Exercise**: Create a dictionary that contains two other dictionaries `\"circle\":{\"radius\":0.1, \"color\":\"magenta\"}` and `\"rect\":{\"height\":1,\"width\":1, \"color\":\"orange\"}` and write it to a file `visual_config.json`"
   ]
  },
  {
   "cell_type": "markdown",
   "metadata": {},
   "source": [
    "Read `visual_config.json` into a dictionary `cfg`, then open a window within a context manager, draw a **rectangle** with `heigh=cfg[\"rect\"][\"height\"]`, `width=cfg[\"rect\"][\"width\"]` and `fillColor=cfg[\"rect\"][\"color\"]`, `flip()` the window and wait for a key. Then, draw a **circle** with `radius=cfg[\"circle\"][\"radius\"]` and `fillColor=cfg[\"circle\"][\"color\"]`, `flip()` the window and wait for a key again."
   ]
  },
  {
   "cell_type": "markdown",
   "metadata": {},
   "source": [
    "Now modify `visual_config.json` in your editor and reduce the rectangle's width and height to **0.6** and increase the circle's radius to **0.3** and rerun the cell above."
   ]
  },
  {
   "cell_type": "markdown",
   "metadata": {},
   "source": [
    "## 4. Refactoring an Experiment to Make it Configurable\n",
    "\n",
    "This folder contains a script called `posner_task.py` that contains an implementation of the [Posner cueing task](https://en.wikipedia.org/wiki/Posner_cueing_task), a classic psychophysical experiment that tests how spatial attention is deployed in a reaction task.\n",
    "Execute the cell below to run the experiment - the instructions will be displayed on screen."
   ]
  },
  {
   "cell_type": "code",
   "execution_count": 1,
   "metadata": {},
   "outputs": [
    {
     "name": "stdout",
     "output_type": "stream",
     "text": [
      "Trial 1: correct response with rt=0.0101\n",
      "Trial 2: wrong response with rt=2.7508\n",
      "Trial 3: wrong response with rt=2.4932\n",
      "Trial 4: wrong response with rt=4.5801\n",
      "Trial 5: correct response with rt=0.2109\n",
      "Trial 6: correct response with rt=0.1538\n",
      "Trial 7: correct response with rt=0.183\n",
      "Trial 8: correct response with rt=0.2464\n",
      "Trial 9: correct response with rt=0.0282\n",
      "Trial 10: wrong response with rt=0.11\n",
      "14.2262 \tWARNING \tMonitor specification not found. Creating a temporary one...\n",
      "18.8485 \tWARNING \tCouldn't measure a consistent frame rate!\n",
      "  - Is your graphics card set to sync to vertical blank?\n",
      "  - Are you running other processes on your computer?\n",
      "\n",
      "19.4624 \tWARNING \tt of last frame was 614.50ms (=1/1)\n",
      "28.9451 \tWARNING \tt of last frame was 9482.77ms (=1/0)\n",
      "29.4784 \tWARNING \tt of last frame was 533.22ms (=1/1)\n",
      "30.0618 \tWARNING \tt of last frame was 583.42ms (=1/1)\n",
      "30.1782 \tWARNING \tMultiple dropped frames have occurred - I'll stop bothering you about them!\n"
     ]
    }
   ],
   "source": [
    "!python posner_task.py"
   ]
  },
  {
   "cell_type": "markdown",
   "metadata": {},
   "source": [
    "**Exercise**: In the beginning of the script `posner_task.py`, multiple parameters are defined (e.g. `N_TRIALS`). Create a file called `posner_task_config.json` that stores these parameters. Then, modify `posner_task.py` so that it loads `posner_task_config.json` and replace the parameters with the values stored in the file. Modify `posner_task_config.json` to set the **number of trials** to 8, the **probability that a cue is valid** to 0.5 and the **cue duration** to 0.75 and rerun `posner_task.py`."
   ]
  },
  {
   "cell_type": "markdown",
   "metadata": {},
   "source": [
    "**Exercise**: Include the positions of the visual objects in `posner_task_config.json` and replace the values passed to the `pos` arguments with the values from that file. Modify the configuration so that the boxes and targets are displayed further to the left and right and rerun `posner_task.py` "
   ]
  }
 ],
 "metadata": {
  "kernelspec": {
   "display_name": "psychopy39",
   "language": "python",
   "name": "python3"
  },
  "language_info": {
   "codemirror_mode": {
    "name": "ipython",
    "version": 3
   },
   "file_extension": ".py",
   "mimetype": "text/x-python",
   "name": "python",
   "nbconvert_exporter": "python",
   "pygments_lexer": "ipython3",
   "version": "3.9.13"
  }
 },
 "nbformat": 4,
 "nbformat_minor": 2
}
