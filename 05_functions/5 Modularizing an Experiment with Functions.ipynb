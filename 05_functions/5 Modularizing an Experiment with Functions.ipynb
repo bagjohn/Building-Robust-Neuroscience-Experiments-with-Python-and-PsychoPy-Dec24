{
 "cells": [
  {
   "cell_type": "markdown",
   "metadata": {},
   "source": [
    "# Modularizing an Experiment with Functions\n",
    "\n",
    "The aim of this course is to learn how to create programs that are robust and reusable.\n",
    "Functions play an ingetral role in achieving this aim.\n",
    "Functions allow us to spearate our program into different logical units that have a clear scope and purpose.\n",
    "This allow us to reuse the same function in multiple programs.\n",
    "A function that does one thing can also be easily tested because its scope is limited. Finally, functions with a clear purpose and descriptive name make our code much more readable and act as a form of self-documenting code: it is very clear what unctions called `play_tone()` or `draw_circle()` do without having to consult any additional documentation."
   ]
  },
  {
   "cell_type": "code",
   "execution_count": 1,
   "metadata": {},
   "outputs": [
    {
     "name": "stdout",
     "output_type": "stream",
     "text": [
      "Requirement already satisfied: psychopy in /home/panos/anaconda3/envs/psychopy39/lib/python3.9/site-packages (2024.2.4)\n",
      "Requirement already satisfied: mypy in /home/panos/anaconda3/envs/psychopy39/lib/python3.9/site-packages (1.13.0)\n",
      "Requirement already satisfied: arabic-reshaper in /home/panos/anaconda3/envs/psychopy39/lib/python3.9/site-packages (from psychopy) (3.0.0)\n",
      "Requirement already satisfied: distro in /home/panos/anaconda3/envs/psychopy39/lib/python3.9/site-packages (from psychopy) (1.9.0)\n",
      "Requirement already satisfied: questplus>=2023.1 in /home/panos/anaconda3/envs/psychopy39/lib/python3.9/site-packages (from psychopy) (2023.1)\n",
      "Requirement already satisfied: pyzmq>=22.2.1 in /home/panos/anaconda3/envs/psychopy39/lib/python3.9/site-packages (from psychopy) (26.2.0)\n",
      "Requirement already satisfied: pyglet==1.5.27 in /home/panos/anaconda3/envs/psychopy39/lib/python3.9/site-packages (from psychopy) (1.5.27)\n",
      "Requirement already satisfied: psychtoolbox in /home/panos/anaconda3/envs/psychopy39/lib/python3.9/site-packages (from psychopy) (3.0.19.14)\n",
      "Requirement already satisfied: astunparse in /home/panos/anaconda3/envs/psychopy39/lib/python3.9/site-packages (from psychopy) (1.6.3)\n",
      "Requirement already satisfied: setuptools==70.3.0 in /home/panos/anaconda3/envs/psychopy39/lib/python3.9/site-packages (from psychopy) (70.3.0)\n",
      "Requirement already satisfied: soundfile in /home/panos/anaconda3/envs/psychopy39/lib/python3.9/site-packages (from psychopy) (0.12.1)\n",
      "Requirement already satisfied: python-gitlab in /home/panos/anaconda3/envs/psychopy39/lib/python3.9/site-packages (from psychopy) (5.1.0)\n",
      "Requirement already satisfied: python-vlc>=3.0.12118 in /home/panos/anaconda3/envs/psychopy39/lib/python3.9/site-packages (from psychopy) (3.0.21203)\n",
      "Requirement already satisfied: matplotlib in /home/panos/anaconda3/envs/psychopy39/lib/python3.9/site-packages (from psychopy) (3.9.3)\n",
      "Requirement already satisfied: markdown-it-py in /home/panos/anaconda3/envs/psychopy39/lib/python3.9/site-packages (from psychopy) (3.0.0)\n",
      "Requirement already satisfied: gevent in /home/panos/anaconda3/envs/psychopy39/lib/python3.9/site-packages (from psychopy) (24.11.1)\n",
      "Requirement already satisfied: pyparallel in /home/panos/anaconda3/envs/psychopy39/lib/python3.9/site-packages (from psychopy) (0.2.2)\n",
      "Requirement already satisfied: tables!=3.9.2 in /home/panos/anaconda3/envs/psychopy39/lib/python3.9/site-packages (from psychopy) (3.9.1)\n",
      "Requirement already satisfied: msgpack in /home/panos/anaconda3/envs/psychopy39/lib/python3.9/site-packages (from psychopy) (1.1.0)\n",
      "Requirement already satisfied: javascripthon>=0.12 in /home/panos/anaconda3/envs/psychopy39/lib/python3.9/site-packages (from psychopy) (0.13)\n",
      "Requirement already satisfied: numpy<2.0 in /home/panos/anaconda3/envs/psychopy39/lib/python3.9/site-packages (from psychopy) (1.26.4)\n",
      "Requirement already satisfied: imageio in /home/panos/anaconda3/envs/psychopy39/lib/python3.9/site-packages (from psychopy) (2.36.1)\n",
      "Requirement already satisfied: openpyxl in /home/panos/anaconda3/envs/psychopy39/lib/python3.9/site-packages (from psychopy) (3.1.5)\n",
      "Requirement already satisfied: imageio-ffmpeg in /home/panos/anaconda3/envs/psychopy39/lib/python3.9/site-packages (from psychopy) (0.5.1)\n",
      "Requirement already satisfied: pillow>=9.4.0 in /home/panos/anaconda3/envs/psychopy39/lib/python3.9/site-packages (from psychopy) (10.4.0)\n",
      "Requirement already satisfied: python-bidi in /home/panos/anaconda3/envs/psychopy39/lib/python3.9/site-packages (from psychopy) (0.6.3)\n",
      "Requirement already satisfied: freetype-py in /home/panos/anaconda3/envs/psychopy39/lib/python3.9/site-packages (from psychopy) (2.5.1)\n",
      "Requirement already satisfied: pypi-search>=1.2.1 in /home/panos/anaconda3/envs/psychopy39/lib/python3.9/site-packages (from psychopy) (2.0)\n",
      "Requirement already satisfied: ffpyplayer in /home/panos/anaconda3/envs/psychopy39/lib/python3.9/site-packages (from psychopy) (4.5.2)\n",
      "Requirement already satisfied: psutil in /home/panos/anaconda3/envs/psychopy39/lib/python3.9/site-packages (from psychopy) (6.1.0)\n",
      "Requirement already satisfied: esprima in /home/panos/anaconda3/envs/psychopy39/lib/python3.9/site-packages (from psychopy) (4.0.1)\n",
      "Requirement already satisfied: moviepy in /home/panos/anaconda3/envs/psychopy39/lib/python3.9/site-packages (from psychopy) (2.1.1)\n",
      "Requirement already satisfied: xmlschema in /home/panos/anaconda3/envs/psychopy39/lib/python3.9/site-packages (from psychopy) (3.4.3)\n",
      "Requirement already satisfied: gitpython in /home/panos/anaconda3/envs/psychopy39/lib/python3.9/site-packages (from psychopy) (3.1.43)\n",
      "Requirement already satisfied: websockets in /home/panos/anaconda3/envs/psychopy39/lib/python3.9/site-packages (from psychopy) (14.1)\n",
      "Requirement already satisfied: jedi>=0.16 in /home/panos/anaconda3/envs/psychopy39/lib/python3.9/site-packages (from psychopy) (0.19.2)\n",
      "Requirement already satisfied: pyyaml in /home/panos/anaconda3/envs/psychopy39/lib/python3.9/site-packages (from psychopy) (6.0.2)\n",
      "Requirement already satisfied: cryptography in /home/panos/anaconda3/envs/psychopy39/lib/python3.9/site-packages (from psychopy) (44.0.0)\n",
      "Requirement already satisfied: wxPython>=4.1.1 in /home/panos/anaconda3/envs/psychopy39/lib/python3.9/site-packages (from psychopy) (4.2.2)\n",
      "Requirement already satisfied: packaging>=24.0 in /home/panos/anaconda3/envs/psychopy39/lib/python3.9/site-packages (from psychopy) (24.2)\n",
      "Requirement already satisfied: opencv-python in /home/panos/anaconda3/envs/psychopy39/lib/python3.9/site-packages (from psychopy) (4.10.0.84)\n",
      "Requirement already satisfied: ujson in /home/panos/anaconda3/envs/psychopy39/lib/python3.9/site-packages (from psychopy) (5.10.0)\n",
      "Requirement already satisfied: scipy in /home/panos/anaconda3/envs/psychopy39/lib/python3.9/site-packages (from psychopy) (1.13.1)\n",
      "Requirement already satisfied: pyqt6 in /home/panos/anaconda3/envs/psychopy39/lib/python3.9/site-packages (from psychopy) (6.7.1)\n",
      "Requirement already satisfied: pandas>=1.5.3 in /home/panos/anaconda3/envs/psychopy39/lib/python3.9/site-packages (from psychopy) (2.2.3)\n",
      "Requirement already satisfied: future in /home/panos/anaconda3/envs/psychopy39/lib/python3.9/site-packages (from psychopy) (1.0.0)\n",
      "Requirement already satisfied: pyserial in /home/panos/anaconda3/envs/psychopy39/lib/python3.9/site-packages (from psychopy) (3.5)\n",
      "Requirement already satisfied: python-xlib in /home/panos/anaconda3/envs/psychopy39/lib/python3.9/site-packages (from psychopy) (0.33)\n",
      "Requirement already satisfied: requests in /home/panos/anaconda3/envs/psychopy39/lib/python3.9/site-packages (from psychopy) (2.32.3)\n",
      "Requirement already satisfied: msgpack-numpy in /home/panos/anaconda3/envs/psychopy39/lib/python3.9/site-packages (from psychopy) (0.4.8)\n",
      "Requirement already satisfied: typing-extensions>=4.6.0 in /home/panos/anaconda3/envs/psychopy39/lib/python3.9/site-packages (from mypy) (4.12.2)\n",
      "Requirement already satisfied: mypy-extensions>=1.0.0 in /home/panos/anaconda3/envs/psychopy39/lib/python3.9/site-packages (from mypy) (1.0.0)\n",
      "Requirement already satisfied: tomli>=1.1.0 in /home/panos/anaconda3/envs/psychopy39/lib/python3.9/site-packages (from mypy) (2.2.1)\n",
      "Requirement already satisfied: dukpy<=0.2.3 in /home/panos/anaconda3/envs/psychopy39/lib/python3.9/site-packages (from javascripthon>=0.12->psychopy) (0.2.3)\n",
      "Requirement already satisfied: parso<0.9.0,>=0.8.4 in /home/panos/anaconda3/envs/psychopy39/lib/python3.9/site-packages (from jedi>=0.16->psychopy) (0.8.4)\n",
      "Requirement already satisfied: pytz>=2020.1 in /home/panos/anaconda3/envs/psychopy39/lib/python3.9/site-packages (from pandas>=1.5.3->psychopy) (2024.2)\n",
      "Requirement already satisfied: tzdata>=2022.7 in /home/panos/anaconda3/envs/psychopy39/lib/python3.9/site-packages (from pandas>=1.5.3->psychopy) (2024.2)\n",
      "Requirement already satisfied: python-dateutil>=2.8.2 in /home/panos/anaconda3/envs/psychopy39/lib/python3.9/site-packages (from pandas>=1.5.3->psychopy) (2.9.0.post0)\n",
      "Requirement already satisfied: html2text>=2020.1.16 in /home/panos/anaconda3/envs/psychopy39/lib/python3.9/site-packages (from pypi-search>=1.2.1->psychopy) (2024.2.26)\n",
      "Requirement already satisfied: beautifulsoup4>=4.9.2 in /home/panos/anaconda3/envs/psychopy39/lib/python3.9/site-packages (from pypi-search>=1.2.1->psychopy) (4.12.3)\n",
      "Requirement already satisfied: xarray in /home/panos/anaconda3/envs/psychopy39/lib/python3.9/site-packages (from questplus>=2023.1->psychopy) (2024.7.0)\n",
      "Requirement already satisfied: json-tricks in /home/panos/anaconda3/envs/psychopy39/lib/python3.9/site-packages (from questplus>=2023.1->psychopy) (3.17.3)\n",
      "Requirement already satisfied: urllib3<3,>=1.21.1 in /home/panos/anaconda3/envs/psychopy39/lib/python3.9/site-packages (from requests->psychopy) (2.2.3)\n",
      "Requirement already satisfied: certifi>=2017.4.17 in /home/panos/anaconda3/envs/psychopy39/lib/python3.9/site-packages (from requests->psychopy) (2024.8.30)\n",
      "Requirement already satisfied: idna<4,>=2.5 in /home/panos/anaconda3/envs/psychopy39/lib/python3.9/site-packages (from requests->psychopy) (3.10)\n",
      "Requirement already satisfied: charset-normalizer<4,>=2 in /home/panos/anaconda3/envs/psychopy39/lib/python3.9/site-packages (from requests->psychopy) (3.4.0)\n",
      "Requirement already satisfied: blosc2>=2.2.8 in /home/panos/anaconda3/envs/psychopy39/lib/python3.9/site-packages (from tables!=3.9.2->psychopy) (2.5.1)\n",
      "Requirement already satisfied: py-cpuinfo in /home/panos/anaconda3/envs/psychopy39/lib/python3.9/site-packages (from tables!=3.9.2->psychopy) (9.0.0)\n",
      "Requirement already satisfied: numexpr>=2.6.2 in /home/panos/anaconda3/envs/psychopy39/lib/python3.9/site-packages (from tables!=3.9.2->psychopy) (2.10.2)\n",
      "Requirement already satisfied: six in /home/panos/anaconda3/envs/psychopy39/lib/python3.9/site-packages (from wxPython>=4.1.1->psychopy) (1.17.0)\n",
      "Requirement already satisfied: wheel<1.0,>=0.23.0 in /home/panos/anaconda3/envs/psychopy39/lib/python3.9/site-packages (from astunparse->psychopy) (0.38.4)\n",
      "Requirement already satisfied: cffi>=1.12 in /home/panos/anaconda3/envs/psychopy39/lib/python3.9/site-packages (from cryptography->psychopy) (1.17.1)\n",
      "Requirement already satisfied: greenlet>=3.1.1 in /home/panos/anaconda3/envs/psychopy39/lib/python3.9/site-packages (from gevent->psychopy) (3.1.1)\n",
      "Requirement already satisfied: zope.event in /home/panos/anaconda3/envs/psychopy39/lib/python3.9/site-packages (from gevent->psychopy) (5.0)\n",
      "Requirement already satisfied: zope.interface in /home/panos/anaconda3/envs/psychopy39/lib/python3.9/site-packages (from gevent->psychopy) (7.2)\n",
      "Requirement already satisfied: gitdb<5,>=4.0.1 in /home/panos/anaconda3/envs/psychopy39/lib/python3.9/site-packages (from gitpython->psychopy) (4.0.11)\n",
      "Requirement already satisfied: mdurl~=0.1 in /home/panos/anaconda3/envs/psychopy39/lib/python3.9/site-packages (from markdown-it-py->psychopy) (0.1.2)\n",
      "Requirement already satisfied: kiwisolver>=1.3.1 in /home/panos/anaconda3/envs/psychopy39/lib/python3.9/site-packages (from matplotlib->psychopy) (1.4.7)\n",
      "Requirement already satisfied: importlib-resources>=3.2.0 in /home/panos/anaconda3/envs/psychopy39/lib/python3.9/site-packages (from matplotlib->psychopy) (6.4.5)\n",
      "Requirement already satisfied: fonttools>=4.22.0 in /home/panos/anaconda3/envs/psychopy39/lib/python3.9/site-packages (from matplotlib->psychopy) (4.55.2)\n",
      "Requirement already satisfied: contourpy>=1.0.1 in /home/panos/anaconda3/envs/psychopy39/lib/python3.9/site-packages (from matplotlib->psychopy) (1.3.0)\n",
      "Requirement already satisfied: pyparsing>=2.3.1 in /home/panos/anaconda3/envs/psychopy39/lib/python3.9/site-packages (from matplotlib->psychopy) (3.2.0)\n",
      "Requirement already satisfied: cycler>=0.10 in /home/panos/anaconda3/envs/psychopy39/lib/python3.9/site-packages (from matplotlib->psychopy) (0.12.1)\n",
      "Requirement already satisfied: python-dotenv>=0.10 in /home/panos/anaconda3/envs/psychopy39/lib/python3.9/site-packages (from moviepy->psychopy) (1.0.1)\n",
      "Requirement already satisfied: decorator<6.0,>=4.0.2 in /home/panos/anaconda3/envs/psychopy39/lib/python3.9/site-packages (from moviepy->psychopy) (5.1.1)\n",
      "Requirement already satisfied: proglog<=1.0.0 in /home/panos/anaconda3/envs/psychopy39/lib/python3.9/site-packages (from moviepy->psychopy) (0.1.10)\n",
      "Requirement already satisfied: et-xmlfile in /home/panos/anaconda3/envs/psychopy39/lib/python3.9/site-packages (from openpyxl->psychopy) (2.0.0)\n",
      "Requirement already satisfied: PyQt6-sip<14,>=13.8 in /home/panos/anaconda3/envs/psychopy39/lib/python3.9/site-packages (from pyqt6->psychopy) (13.9.0)\n",
      "Requirement already satisfied: PyQt6-Qt6<6.8.0,>=6.7.0 in /home/panos/anaconda3/envs/psychopy39/lib/python3.9/site-packages (from pyqt6->psychopy) (6.7.3)\n",
      "Requirement already satisfied: requests-toolbelt>=1.0.0 in /home/panos/anaconda3/envs/psychopy39/lib/python3.9/site-packages (from python-gitlab->psychopy) (1.0.0)\n",
      "Requirement already satisfied: elementpath<5.0.0,>=4.4.0 in /home/panos/anaconda3/envs/psychopy39/lib/python3.9/site-packages (from xmlschema->psychopy) (4.6.0)\n",
      "Requirement already satisfied: soupsieve>1.2 in /home/panos/anaconda3/envs/psychopy39/lib/python3.9/site-packages (from beautifulsoup4>=4.9.2->pypi-search>=1.2.1->psychopy) (2.6)\n",
      "Requirement already satisfied: ndindex>=1.4 in /home/panos/anaconda3/envs/psychopy39/lib/python3.9/site-packages (from blosc2>=2.2.8->tables!=3.9.2->psychopy) (1.9.2)\n",
      "Requirement already satisfied: pycparser in /home/panos/anaconda3/envs/psychopy39/lib/python3.9/site-packages (from cffi>=1.12->cryptography->psychopy) (2.22)\n",
      "Requirement already satisfied: smmap<6,>=3.0.1 in /home/panos/anaconda3/envs/psychopy39/lib/python3.9/site-packages (from gitdb<5,>=4.0.1->gitpython->psychopy) (5.0.1)\n",
      "Requirement already satisfied: zipp>=3.1.0 in /home/panos/anaconda3/envs/psychopy39/lib/python3.9/site-packages (from importlib-resources>=3.2.0->matplotlib->psychopy) (3.21.0)\n",
      "Requirement already satisfied: tqdm in /home/panos/anaconda3/envs/psychopy39/lib/python3.9/site-packages (from proglog<=1.0.0->moviepy->psychopy) (4.67.1)\n",
      "Note: you may need to restart the kernel to use updated packages.\n"
     ]
    }
   ],
   "source": [
    "%pip install psychopy mypy\n",
    "%load_ext autoreload\n",
    "%autoreload 2"
   ]
  },
  {
   "cell_type": "code",
   "execution_count": null,
   "metadata": {},
   "outputs": [
    {
     "name": "stdout",
     "output_type": "stream",
     "text": [
      "{'audioLib': ['PTB', 'sounddevice', 'pyo', 'pygame'], 'audioLatencyMode': 0, 'audioDriver': ['portaudio'], 'audioDevice': ['default'], 'parallelPorts': ['/dev/parport0', '/dev/parport1'], 'qmixConfiguration': 'qmix_config'}\n",
      "PTB-CRITICAL: In call to PsychSetThreadPriority(): Failed to set new basePriority 2, tweakPriority 4, effective 4 [REALTIME] for thread (nil) provided!\n",
      "PTB-WARNING: In PsychPortAudio:paCallback(): Failed to switch to boosted realtime priority [Operation not permitted]! Audio may glitch.\n"
     ]
    }
   ],
   "source": [
    "import random\n",
    "from psychopy import prefs\n",
    "# prefs.hardware['audioLib']= ['sounddevice']\n",
    "# prefs.hardware['audioLatencyMode']=0\n",
    "print(prefs.hardware)\n",
    "from psychopy.sound import Sound\n",
    "from psychopy.event import waitKeys\n",
    "from psychopy.visual import Window\n",
    "# Sound(stereo=False);"
   ]
  },
  {
   "cell_type": "code",
   "execution_count": 23,
   "metadata": {},
   "outputs": [
    {
     "name": "stdout",
     "output_type": "stream",
     "text": [
      "{'audioLib': ['PTB', 'sounddevice', 'pyo', 'pygame'], 'audioLatencyMode': 0, 'audioDriver': ['portaudio'], 'audioDevice': ['default'], 'parallelPorts': ['/dev/parport0', '/dev/parport1'], 'qmixConfiguration': 'qmix_config'}\n"
     ]
    }
   ],
   "source": [
    "from psychopy import prefs\n",
    "print(prefs.hardware)"
   ]
  },
  {
   "cell_type": "markdown",
   "metadata": {},
   "source": [
    "## 1. Defining Functions\n",
    "\n",
    "A function is defined by the `def` keyword, may accept certain input parameters and may `return` a result. A function has only access to the parameters that are passed to it as arguments and any result produced by the function can only be accessed by other parts of the program if that value is explicitly returned. This limited scope makes functions great for testing and robustness! In this notebook you will find many `assert` statements which test the functions that you will write. Don't worry about how exactly `assert` works just yet - just treat it as a tool that provides feedback on the correctness of your functions.\n",
    "\n",
    "### Reference Table\n",
    "|Code | Duration |\n",
    "| ---| ---|\n",
    "|`def add(a,b):` <br> &nbsp;&nbsp;&nbsp;&nbsp; `return a+b` | Define an `add()` function that takes in two parameters `a` and `b` and returns their sum\n",
    "|`assert a == b` | Raise an `AssertionError` if `a` is NOT equal to `b`, otherwise do nothing |\n",
    "|`tone = Sound(value=350, secs=0.5)` | Create a `tone` at `350`Hz with a duration of `0.5` seconds |"
   ]
  },
  {
   "cell_type": "markdown",
   "metadata": {},
   "source": [
    "**Example**: Write the `add()` function below, so that running the tests below shows `\"Success!\"`\n"
   ]
  },
  {
   "cell_type": "code",
   "execution_count": 2,
   "metadata": {},
   "outputs": [
    {
     "name": "stdout",
     "output_type": "stream",
     "text": [
      "Success!\n"
     ]
    }
   ],
   "source": [
    "def add(a,b):\n",
    "    return a+b\n",
    "\n",
    "assert add(2,3) == 5\n",
    "assert add(4,4) == 8\n",
    "print('Success!')"
   ]
  },
  {
   "cell_type": "markdown",
   "metadata": {},
   "source": [
    "---\n",
    "**Exercise**: Write the `subtract()` function below, so that running the tests below shows `\"Success!\"`"
   ]
  },
  {
   "cell_type": "code",
   "execution_count": 4,
   "metadata": {},
   "outputs": [
    {
     "name": "stdout",
     "output_type": "stream",
     "text": [
      "Success!\n"
     ]
    }
   ],
   "source": [
    "def subtract(a,b):\n",
    "    return a-b  \n",
    "\n",
    "assert subtract(4,1) == 3\n",
    "assert subtract(7,12) == -5\n",
    "print('Success!')"
   ]
  },
  {
   "cell_type": "markdown",
   "metadata": {},
   "source": [
    "---\n",
    "**Exercise**: Write the `is_odd()` function below, so that running the tests below shows `\"Success!\"`"
   ]
  },
  {
   "cell_type": "code",
   "execution_count": 5,
   "metadata": {},
   "outputs": [
    {
     "name": "stdout",
     "output_type": "stream",
     "text": [
      "Success!\n"
     ]
    }
   ],
   "source": [
    "def is_odd(n):\n",
    "    return n%2 == 1\n",
    "\n",
    "assert is_odd(8) == False\n",
    "assert is_odd(5) == True\n",
    "print('Success!')"
   ]
  },
  {
   "cell_type": "markdown",
   "metadata": {},
   "source": [
    "---\n",
    "**Exercise**: Write the `make_list_of_zeros()` function below, so that running the tests below shows `\"Success!\"`\n"
   ]
  },
  {
   "cell_type": "code",
   "execution_count": 6,
   "metadata": {},
   "outputs": [
    {
     "name": "stdout",
     "output_type": "stream",
     "text": [
      "Success!\n"
     ]
    }
   ],
   "source": [
    "def make_list_of_zeros(n):\n",
    "    return [0]*n\n",
    "\n",
    "assert len(make_list_of_zeros(10)) == 10\n",
    "for z in make_list_of_zeros(5):\n",
    "    assert z == 0\n",
    "print('Success!')"
   ]
  },
  {
   "cell_type": "markdown",
   "metadata": {},
   "source": [
    "---\n",
    "**Exercise**: Write a `fist_and_last()` function below, so that running the tests below shows \"Success!\". (Hint: to return multiple values, separate them by a comma: `return val1, val2`)"
   ]
  },
  {
   "cell_type": "code",
   "execution_count": 7,
   "metadata": {},
   "outputs": [],
   "source": [
    "def first_and_last(x):\n",
    "    return x[0], x[-1]"
   ]
  },
  {
   "cell_type": "code",
   "execution_count": 8,
   "metadata": {},
   "outputs": [
    {
     "name": "stdout",
     "output_type": "stream",
     "text": [
      "Success!\n"
     ]
    }
   ],
   "source": [
    "assert first_and_last([1,2,3,4]) == (1,4)\n",
    "assert first_and_last([\"x\", \"c\"]) == (\"x\", \"c\")\n",
    "print(\"Success!\")"
   ]
  },
  {
   "cell_type": "markdown",
   "metadata": {},
   "source": [
    "---\n",
    "**Exercise**: Write the `make_tone()` function below, so that running the tests below shows `\"Success!\"`.<br>(Hint: `Sound(value==800).sound == 800`)\n"
   ]
  },
  {
   "cell_type": "code",
   "execution_count": 9,
   "metadata": {},
   "outputs": [
    {
     "name": "stdout",
     "output_type": "stream",
     "text": [
      "Success!\n"
     ]
    }
   ],
   "source": [
    "def make_tone(frequency):\n",
    "    return Sound(value=frequency)\n",
    "\n",
    "assert make_tone(500).sound == 500\n",
    "assert make_tone(1200).sound == 1200\n",
    "print('Success!')"
   ]
  },
  {
   "cell_type": "markdown",
   "metadata": {},
   "source": [
    "---\n",
    "**Exercise**: Write the `change_pitch()` function below, so that running the tests below shows `\"Success!\"`"
   ]
  },
  {
   "cell_type": "code",
   "execution_count": 11,
   "metadata": {},
   "outputs": [
    {
     "name": "stdout",
     "output_type": "stream",
     "text": [
      "Success!\n"
     ]
    }
   ],
   "source": [
    "def change_pitch(tone, amount):\n",
    "    return Sound(value=tone.sound+amount)\n",
    "\n",
    "tone = Sound(value=700)\n",
    "assert change_pitch(tone, 50).sound == 750\n",
    "assert change_pitch(tone, -100).sound == 600\n",
    "print('Success!')"
   ]
  },
  {
   "cell_type": "markdown",
   "metadata": {},
   "source": [
    "----\n",
    "**Exercise**: Write the `cumulative_duration()` function below, so that running the tests below shows `\"Success!\"`"
   ]
  },
  {
   "cell_type": "code",
   "execution_count": 13,
   "metadata": {},
   "outputs": [
    {
     "name": "stdout",
     "output_type": "stream",
     "text": [
      "Success!\n"
     ]
    }
   ],
   "source": [
    "def cumulative_duration(sound1, sound2):\n",
    "    return sound1.getDuration() + sound2.getDuration()\n",
    "\n",
    "assert cumulative_duration(Sound(secs=1.2), Sound(secs=0.5)) == 1.7\n",
    "assert cumulative_duration(Sound(secs=0.8), Sound(secs=2)) == 2.8\n",
    "print('Success!')"
   ]
  },
  {
   "cell_type": "markdown",
   "metadata": {},
   "source": [
    "# 2. Optional Arguments\n",
    "\n",
    "Parameters be passed to a function based on their name or their position. For example, we can call the `say_hi_to()` function below as `say_hi_to(\"John\", \"Doe\", True)`.\n",
    "However, this means we have to pass the parameters in the correct order.\n",
    "If we instead give the names of the parameters, we make the call more descriptive and independent of the parameters order: `say_hi_to(sout=True, first=\"John\", last=\"Doe\")`.\n",
    "Some arguments are **optional** which means that they have a default value defined in the function's definition.\n",
    "If we pass in a value for that parameter, the default will be overwritten, if not, the function will use the default.\n",
    "\n",
    "\n",
    "### Reference Table\n",
    "|Code | Duration |\n",
    "| ---| ---|\n",
    "|`def add(a,b, c=0):` <br> &nbsp;&nbsp;&nbsp;&nbsp; `return a+b+c` | Define an `add()` function that takes in two required parameters `a` and `b` and an optional parameter `c` and returns their sum |\n",
    "|`key = waitKeys(keyList=\"space\", timeStamped=True)` | Wait until the `\"space\"` key was pressed and return a list of lists with [[name, time]].|"
   ]
  },
  {
   "cell_type": "markdown",
   "metadata": {},
   "source": [
    "**Example**: Write the `say_hi_to()` function below, so that running the tests below shows `\"Success!\"`"
   ]
  },
  {
   "cell_type": "code",
   "execution_count": 4,
   "metadata": {},
   "outputs": [
    {
     "name": "stdout",
     "output_type": "stream",
     "text": [
      "Success!\n"
     ]
    }
   ],
   "source": [
    "def say_hi_to(first, last=\"\", shout=False):\n",
    "    text = f\"Hi {first} {last}!\"\n",
    "    if shout:\n",
    "        text = text.upper()\n",
    "    return text\n",
    "\n",
    "assert say_hi_to(first=\"Bob\") == \"Hi Bob !\"\n",
    "assert say_hi_to(first=\"Bob\", last=\"McBobface\") == \"Hi Bob McBobface!\"\n",
    "assert say_hi_to(first=\"Bob\", last=\"McBobface\", shout=True) == \"HI BOB MCBOBFACE!\"\n",
    "print(\"Success!\")"
   ]
  },
  {
   "cell_type": "markdown",
   "metadata": {},
   "source": [
    "---\n",
    "**Exercise**: Write the `make_tone()` function below, so that running the tests below shows `\"Success!\"`"
   ]
  },
  {
   "cell_type": "code",
   "execution_count": null,
   "metadata": {},
   "outputs": [],
   "source": [
    "assert make_tone(550).sound == 550\n",
    "assert make_tone(550).secs== 1.5\n",
    "assert make_tone(750, 0.1).sound == 750\n",
    "assert make_tone(750, 0.1).secs== 0.1\n",
    "print(\"Success!\")\n"
   ]
  },
  {
   "cell_type": "markdown",
   "metadata": {},
   "source": [
    "---\n",
    "**Exercise**: Write a `make_and_play_tone()` function below, so that running the tests below shows `\"Success!\"`"
   ]
  },
  {
   "cell_type": "code",
   "execution_count": null,
   "metadata": {},
   "outputs": [],
   "source": [
    "assert make_and_play_tone(500, duration=0.2, play=True).statusDetailed[\"State\"] == 1\n",
    "assert make_and_play_tone(500, 0.2).statusDetailed[\"State\"] == 0\n",
    "print(\"Success!\")"
   ]
  },
  {
   "cell_type": "markdown",
   "metadata": {},
   "source": [
    "---\n",
    "**Exercise**: Write a `make_two_tones()` function below, so that running the tests below shows `\"Success!\"`"
   ]
  },
  {
   "cell_type": "code",
   "execution_count": null,
   "metadata": {},
   "outputs": [],
   "source": [
    "assert make_two_tones(250, 4000)[0].sound == 250\n",
    "assert make_two_tones(250, 4000)[1].sound == 4000"
   ]
  },
  {
   "cell_type": "markdown",
   "metadata": {},
   "source": [
    "---\n",
    "**Exercise**: Write the `wait_keys()` function below, so that running the tests below shows `\"Success!\"`\n"
   ]
  },
  {
   "cell_type": "code",
   "execution_count": 7,
   "metadata": {},
   "outputs": [
    {
     "name": "stdout",
     "output_type": "stream",
     "text": [
      "661.4669 \tWARNING \tMonitor specification not found. Creating a temporary one...\n",
      "667.7574 \tWARNING \tCouldn't measure a consistent frame rate!\n",
      "  - Is your graphics card set to sync to vertical blank?\n",
      "  - Are you running other processes on your computer?\n",
      "\n",
      "Success!\n"
     ]
    }
   ],
   "source": [
    "def wait_keys(keys=['ab'], timed=False):\n",
    "    # return waitKeys(maxWait=2) if timed else waitKeys()\n",
    "    # if timed:\n",
    "        # return 2\n",
    "    # else:\n",
    "    return keys[0]\n",
    "\n",
    "with Window() as win:\n",
    "    assert wait_keys([\"space\"]) == \"space\"\n",
    "    assert len(wait_keys(timed=True)) == 2\n",
    "print(\"Success!\")\n",
    "    "
   ]
  },
  {
   "cell_type": "markdown",
   "metadata": {},
   "source": [
    "---\n",
    "**Exercise**: Write a different `wait_keys()` function below, so that running the tests below shows `\"Success!\"`"
   ]
  },
  {
   "cell_type": "code",
   "execution_count": 9,
   "metadata": {},
   "outputs": [
    {
     "name": "stdout",
     "output_type": "stream",
     "text": [
      "933.8528 \tWARNING \tMonitor specification not found. Creating a temporary one...\n",
      "940.1235 \tWARNING \tCouldn't measure a consistent frame rate!\n",
      "  - Is your graphics card set to sync to vertical blank?\n",
      "  - Are you running other processes on your computer?\n",
      "\n",
      "Success!\n"
     ]
    }
   ],
   "source": [
    "def wait_keys(keys=['space', 'time']):\n",
    "    return keys\n",
    "    \n",
    "with Window() as win:\n",
    "    assert len(wait_keys()) == 2\n",
    "    assert wait_keys()[0] == \"space\"\n",
    "print(\"Success!\")"
   ]
  },
  {
   "cell_type": "markdown",
   "metadata": {},
   "source": [
    "## 3. Importing functions\n",
    "\n",
    "Importing allows us to make our code truly reusable. We can build up our own library of functions and import from this library across all of our projects.\n",
    "When we import functions we have to provide their full name, similar to how you would locate files and folders on your computer. For example, the function `add()` within the file `maths.py` can be imported as `from maths import add`. Just like with variables, there can every only be one function with the same name in your namespace, so if there already is a function called `add()`, it will be overwritten by this import.\n",
    "Alternatively, you could just `import maths` and call the function as `maths.add()`. This is a bit more to type but it will make sure that your other `add()` function is not overwritten.\n",
    "\n",
    "### Reference Table\n",
    "|Code                      | Description                                         |\n",
    "|---                       | ---                                                 |\n",
    "|`import mymod` | Import the module `mymod`                                      |\n",
    "|`import mymod as m`       | Import the module `mymod` with the alias `m`     |\n",
    "|`from mymod import myfun` | Import the function `myfun` from the module `mymod` |\n",
    "|`from mymod import *`     | Import all functions from the module `mymod`        |\n"
   ]
  },
  {
   "cell_type": "markdown",
   "metadata": {},
   "source": [
    "**Example**: Create a file `say_hi_to.py` that contains a `say_hi_to()` function, and import it so it passes the tests below"
   ]
  },
  {
   "cell_type": "code",
   "execution_count": 10,
   "metadata": {},
   "outputs": [],
   "source": [
    "from say_hi_to import say_hi_to"
   ]
  },
  {
   "cell_type": "code",
   "execution_count": 11,
   "metadata": {},
   "outputs": [
    {
     "name": "stdout",
     "output_type": "stream",
     "text": [
      "Success!\n"
     ]
    }
   ],
   "source": [
    "assert say_hi_to(first=\"Bob\") == \"Hi Bob !\"\n",
    "assert say_hi_to(first=\"Bob\", last=\"McBobface\") == \"Hi Bob McBobface!\"\n",
    "assert say_hi_to(first=\"Bob\", last=\"McBobface\", shout=True) == \"HI BOB MCBOBFACE!\"\n",
    "print(\"Success!\")"
   ]
  },
  {
   "cell_type": "markdown",
   "metadata": {},
   "source": [
    "---\n",
    "**Example**: Create a file `make_tone.py` that contains a `make_tone()` function and import it so it passes the tests below"
   ]
  },
  {
   "cell_type": "code",
   "execution_count": null,
   "metadata": {},
   "outputs": [],
   "source": [
    "assert make_tone(frequency=700).secs== 0.3\n",
    "assert make_tone(duration=1).sound==300\n",
    "print(\"Success!\")\n"
   ]
  },
  {
   "cell_type": "markdown",
   "metadata": {},
   "source": [
    "---\n",
    "**Example**: Add a `make_and_play_tone()` function to `make_tone.py` and import it under the alias `mpt` so it passes the tests below"
   ]
  },
  {
   "cell_type": "code",
   "execution_count": null,
   "metadata": {},
   "outputs": [],
   "source": [
    "assert mpt(3000, duration=0.2, play=True).statusDetailed[\"State\"] == 1\n",
    "assert mpt(frequency=500, duration=0.2).statusDetailed[\"State\"] == 0\n",
    "print(\"Success!\")"
   ]
  },
  {
   "cell_type": "markdown",
   "metadata": {},
   "source": [
    "---\n",
    "**Example**: Create a file `keys.py` that contains a `wait_three_keys()` function and import it passes the tests below"
   ]
  },
  {
   "cell_type": "code",
   "execution_count": 13,
   "metadata": {},
   "outputs": [
    {
     "name": "stdout",
     "output_type": "stream",
     "text": [
      "1255.8760 \tWARNING \tMonitor specification not found. Creating a temporary one...\n",
      "Success!\n"
     ]
    }
   ],
   "source": [
    "import keys\n",
    "with Window() as win:\n",
    "    assert keys.wait_three_keys(\"space\", \"space\", \"space\") == (\"space\", \"space\", \"space\")\n",
    "    assert keys.wait_three_keys(\"a\", \"b\", \"c\") == (\"a\", \"b\", \"c\")\n",
    "print(\"Success!\")"
   ]
  },
  {
   "cell_type": "markdown",
   "metadata": {},
   "source": [
    "## 4. Type Hints\n",
    "\n",
    "Another great way of making code more readable is by introducing type hints. Type hints are an, entirely optional way of declaring the data type of the parameters and return values of a function. This allows specific type-checking tools to probe our code for logical inconsistencies. What's more, it gives additional information to the user by clearly declaring what types of data have to be provided as inputs and can be expected as returns. This can be really helpful to know, for example, if the length of a signal is defined in samples (an integer value) or in seconds (a float value).\n",
    "\n",
    "### Reference Table\n",
    "|Code | Duration |\n",
    "| ---| ---|\n",
    "|`def say_hi(name:str):` <br> &nbsp;&nbsp;&nbsp;&nbsp; `return a/b` | Define a `say_hi()` function that takes in one string parameter `name` |\n",
    "|`def divide(a:int,b:int)->float:` <br> &nbsp;&nbsp;&nbsp;&nbsp; `return a/b` | Define a `divide()` function that takes in two integer parameters `a` and `b` and returns a float |\n",
    "|`!mypy my_module.py`  | Run MyPy to typecheck the functions in `my_module.py`\n"
   ]
  },
  {
   "cell_type": "markdown",
   "metadata": {},
   "source": [
    "**Exercise** Add type hints to `find_primes` to indicate the types of the input and returned values"
   ]
  },
  {
   "cell_type": "code",
   "execution_count": null,
   "metadata": {},
   "outputs": [],
   "source": [
    "def find_primes(start:int, stop:int) -> list:\n",
    "    primes=[]\n",
    "    for i in range(start, stop):\n",
    "        is_prime = True\n",
    "        for j in range(2,int(i/2)):\n",
    "            if i%j == 0:\n",
    "                is_prime = False\n",
    "        if is_prime:\n",
    "            primes.append(i)\n",
    "    return primes"
   ]
  },
  {
   "cell_type": "markdown",
   "metadata": {},
   "source": [
    "---"
   ]
  },
  {
   "cell_type": "code",
   "execution_count": null,
   "metadata": {},
   "outputs": [],
   "source": [
    "def shuffle_trials(trials:list, max_iter=1000) -> list:\n",
    "    ok = False\n",
    "    count = 0\n",
    "    while not ok:\n",
    "        count+=1\n",
    "        if count > max_iter:\n",
    "            raise StopIteration\n",
    "        found_duplicate = False\n",
    "        for i in range(1, len(trials)):\n",
    "            if trials[i] == trials[i-1]:\n",
    "                found_duplicate = True\n",
    "        if not found_duplicate:\n",
    "            ok = True\n",
    "        else:\n",
    "            random.shuffle(trials)\n",
    "    return trials"
   ]
  },
  {
   "cell_type": "markdown",
   "metadata": {},
   "source": [
    "---\n",
    "**Exercise**: Include type hints to `say_hi_to()` to indictate the type of each variable and the type of the returned value"
   ]
  },
  {
   "cell_type": "code",
   "execution_count": 15,
   "metadata": {},
   "outputs": [],
   "source": [
    "def say_hi_to(first:str, last=\"\", do_print=False) ->str:\n",
    "    text = \"Hi\" + \" \" + first + \" \" + last + \"!\"\n",
    "    if print:\n",
    "        print(text)\n",
    "    else:\n",
    "        return text"
   ]
  },
  {
   "cell_type": "markdown",
   "metadata": {},
   "source": [
    "**Execise**: Move the type-annotated versions of `shuffle_trials()`, `find_primes()` and `say_hi_to()` to a new file called `my_functions.py`. Then run a static type analysis with MyPy using the script below"
   ]
  },
  {
   "cell_type": "code",
   "execution_count": 20,
   "metadata": {},
   "outputs": [
    {
     "name": "stdout",
     "output_type": "stream",
     "text": [
      "\u001b[1m\u001b[32mSuccess: no issues found in 1 source file\u001b[m\n"
     ]
    }
   ],
   "source": [
    "!mypy ./my_functions.py"
   ]
  },
  {
   "cell_type": "code",
   "execution_count": null,
   "metadata": {},
   "outputs": [],
   "source": []
  }
 ],
 "metadata": {
  "kernelspec": {
   "display_name": "psychopy39",
   "language": "python",
   "name": "python3"
  },
  "language_info": {
   "codemirror_mode": {
    "name": "ipython",
    "version": 3
   },
   "file_extension": ".py",
   "mimetype": "text/x-python",
   "name": "python",
   "nbconvert_exporter": "python",
   "pygments_lexer": "ipython3",
   "version": "3.9.13"
  }
 },
 "nbformat": 4,
 "nbformat_minor": 2
}
