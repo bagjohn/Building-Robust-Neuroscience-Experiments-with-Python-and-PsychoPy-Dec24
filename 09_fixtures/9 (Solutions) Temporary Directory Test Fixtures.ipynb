{
 "cells": [
  {
   "cell_type": "code",
   "execution_count": 1,
   "metadata": {},
   "outputs": [
    {
     "name": "stdout",
     "output_type": "stream",
     "text": [
      "Note: you may need to restart the kernel to use updated packages.\n"
     ]
    }
   ],
   "source": [
    "%pip install pytest>=0.2.2 ipytest requests"
   ]
  },
  {
   "cell_type": "code",
   "execution_count": 2,
   "metadata": {},
   "outputs": [],
   "source": [
    "from pathlib import Path\n",
    "import pytest\n",
    "import ipytest\n",
    "import numpy as np\n",
    "import pandas as pd\n",
    "ipytest.autoconfig()"
   ]
  },
  {
   "cell_type": "markdown",
   "metadata": {},
   "source": [
    "# Using Temporary Directories and Test Fixtures to Create Reproducible Automated Tests on Data Files\n",
    "\n",
    "Handling files and directories is a common task in computational neuroscience, especially when working with data pipelines, experiment outputs, or simulation results. This lesson focuses on essential tools for managing files in Python and organizing automated tests for research projects. You'll start by learning pathlib.Path, a modern way to work with file paths in a clear, cross-platform manner. Next, you'll explore tempfile.TemporaryDirectory for creating temporary storage, ensuring experiments don’t clutter your file system. Building on this, you’ll discover how pytest's tmp_path streamlines temporary file management in automated tests. Finally, you’ll learn to create custom fixtures in pytest for setting up complex test environments, enabling more robust, reproducible, and scalable test designs. These tools will help you write cleaner code, avoid common file-handling pitfalls, and develop reliable, well-tested research software."
   ]
  },
  {
   "cell_type": "markdown",
   "metadata": {},
   "source": [
    "## 1. Dessecting File Paths into components using the PathLib package\n",
    "\n",
    "There's a lot of information in a file path; it's more than just a string!  For example, in the following path we might want to learn the following|\n",
    "\n",
    "`C|\\\\Users\\Nick\\Documents\\Photos\\greece.jpg`, `../Desktop/Photos`, and `/usr/nickdg/desktop/data/mouse.ome.tif`\n",
    "\n",
    "  - Whether the path is an **absolute** path on the filesystem or is **relative** to the current working directory,\n",
    "  - What drive the data is on\n",
    "  - What directory or directories the file is inside\n",
    "  - Whether a file or folder is listed\n",
    "  - What the file's name is \n",
    "  - What the file's extension is\n",
    "  - Whether the file exists on our computer or not.\n",
    "   \n",
    "... and so on.  If we want to extract this data, we could do some fancy coding to figure it out from the string itself, but there's no need--the built-in `pathlib.Path` type has a lot of helper methods to get this information.  Here, we'll try out some of the most commonly-used helper methods in order to read and write data, plus create files and folders, easily.\n",
    "\n",
    "\n",
    "|**Code** | **Description** |\n",
    "| :---  | :--- |\n",
    "| **`path = Path('path/to/file.txt')`** | Create a `Path` object |\n",
    "| **`path.name`** | Get the path's filename, without the directory | \n",
    "| **`path.suffix`** | Get the path's file extension |\n",
    "| **`path.stem`** | Get the path's filename, without the file extension |\n",
    "| **`path.parent`** | Get the Parent Directory |\n",
    "| **`path.joinpath('newfile.txt')`** | Append a path to the end of the current path\n",
    "| **`path.exists()`** | Check whether this file exists on the current computer |\n",
    "| **`path.mkdir(exist_ok=True, parents=True)`** | Make a directory at this path. Don't raise an error if it already exists, or if the parents aren't yet created. |\n",
    "| **`text = path.read_text()`** | Read a text file. |\n",
    "| **`path.write_text(text)`** | Write text to a text file. |\n",
    "\n"
   ]
  },
  {
   "cell_type": "code",
   "execution_count": 3,
   "metadata": {},
   "outputs": [],
   "source": [
    "from pathlib import Path"
   ]
  },
  {
   "cell_type": "markdown",
   "metadata": {},
   "source": [
    "**Exercises**: In each example, answer the following question about the path given.  If the variable is a string, you'll probably want to make it into a `Path()` first to access the path attributes."
   ]
  },
  {
   "cell_type": "markdown",
   "metadata": {},
   "source": [
    "Use the `path` variable below to answer the following questions:"
   ]
  },
  {
   "cell_type": "markdown",
   "metadata": {},
   "source": [
    "*Example*: does the path described in `path` currently exist on the computer?"
   ]
  },
  {
   "cell_type": "markdown",
   "metadata": {},
   "source": [
    "What is the name of the file described in this filepath?"
   ]
  },
  {
   "cell_type": "markdown",
   "metadata": {},
   "source": [
    "What is the parent folder of the file described in this filepath?"
   ]
  },
  {
   "cell_type": "markdown",
   "metadata": {},
   "source": [
    "What is the file extension (e.g. the \"suffix\") of the file described in this filepath?"
   ]
  },
  {
   "cell_type": "markdown",
   "metadata": {},
   "source": [
    "What is the name of the file *without* the extension (e.g. the \"stem\") of the file described in this filepath?"
   ]
  },
  {
   "cell_type": "markdown",
   "metadata": {},
   "source": [
    "What is the parent directory the file described in this filepath?"
   ]
  },
  {
   "cell_type": "markdown",
   "metadata": {},
   "source": [
    "Make a new path called \"NewFolder\", and call the `mkdir()` to create it on the computer."
   ]
  },
  {
   "cell_type": "markdown",
   "metadata": {},
   "source": [
    "Make a text file: **hello.txt**, and write the text, 'Hi!' into the file."
   ]
  },
  {
   "cell_type": "markdown",
   "metadata": {},
   "source": [
    "Confirm--does the `hello.txt` file exist?"
   ]
  },
  {
   "cell_type": "markdown",
   "metadata": {},
   "source": [
    "Read from your hello file to a string variable and display the contents"
   ]
  },
  {
   "cell_type": "markdown",
   "metadata": {},
   "source": [
    "## 2. Working with Temporary Directories\n",
    "\n",
    "Sometimes, it is helpful to create a temporary directory to save files in, that you intend to delete later on in order to save space on the computer. However, keeping it cleaned up is not the most straightforward task.  This need is so common, that all operating systems (e.g. Windows, Mac OS, Linux) provide a special temporary directory that is self-cleaned-up whenever the operating system needs more space, making it so that you don't have to think about deleting the files!\n",
    "\n",
    "The built-in `TemporaryDirectory()` object from `tempfile` package in Python makes this simple to do; just follow the following receipe to get a fresh Path to a temporary directory on the computer, and save data to your heart's wish:\n",
    "\n",
    "| Code | Description |\n",
    "| :-- | :-- |\n",
    "| **`tmpdir = Path(TemporaryDirectory().name)`** | Creates a path to a potential temporary directory as a `Path` object. |\n",
    "| **`tmpdir.mkdir()`** |  Create the directory on disk. |\n",
    "| **`tmpfile = tmpdir.joinpath('file.txt')`** | Specifiy a filename in the temporary directory, making a temporary file. |\n",
    "| **`tmpfile.write_text('text')`** | Write text to the temporary file. |\n",
    " "
   ]
  },
  {
   "cell_type": "code",
   "execution_count": 15,
   "metadata": {},
   "outputs": [],
   "source": [
    "from tempfile import TemporaryDirectory\n",
    "from pathlib import Path"
   ]
  },
  {
   "cell_type": "markdown",
   "metadata": {},
   "source": [
    "**Exercises**"
   ]
  },
  {
   "cell_type": "markdown",
   "metadata": {},
   "source": [
    "Create a temporary directory.  Where is it located on your computer?"
   ]
  },
  {
   "cell_type": "markdown",
   "metadata": {},
   "source": [
    "Create another temporary directory.  Where is it located now?"
   ]
  },
  {
   "cell_type": "markdown",
   "metadata": {},
   "source": [
    "Create a \"hello.txt\" file in a temporary directory."
   ]
  },
  {
   "cell_type": "markdown",
   "metadata": {},
   "source": [
    "## 3. Using the `tmp_path` fixture in PyTest to Automatically Create Temporary Directoroy Paths in Automated Tests\n",
    "\n",
    "In automated testing for neuroscience research, managing temporary files and directories is crucial to ensure that tests run in isolation without affecting real data. pytest's tmp_path fixture provides a convenient, built-in way to create temporary directories unique to each test. This prevents file conflicts and ensures a clean environment, making tests more reliable and reproducible. Researchers can use tmp_path to simulate file-based experiments, save intermediate results, or test data processing pipelines without manual cleanup. By leveraging this fixture, tests remain independent and maintainable, supporting robust software development practices in computational neuroscience.\n",
    "\n",
    "\n",
    "| Code | Description |\n",
    "| :-- | :-- |\n",
    "| **`def test_x(tmp_path):`** | Tells Pytest to create a temporary directory on disk, make it a `Path`, and pass it to the test function. |"
   ]
  },
  {
   "cell_type": "markdown",
   "metadata": {},
   "source": [
    "**Example**: Write the `data` variable to a json file, then read it back in.  Write a test to confirm that:\n",
    "  - The data that is read is identical to what was written."
   ]
  },
  {
   "cell_type": "code",
   "execution_count": 19,
   "metadata": {},
   "outputs": [
    {
     "name": "stdout",
     "output_type": "stream",
     "text": [
      "\u001b[32m.\u001b[0m\u001b[32m                                                                                            [100%]\u001b[0m\n",
      "\u001b[32m\u001b[32m\u001b[1m1 passed\u001b[0m\u001b[32m in 0.04s\u001b[0m\u001b[0m\n"
     ]
    }
   ],
   "source": [
    "%%ipytest\n",
    "\n",
    "import json\n",
    "\n",
    "data = [1, 2, 3, 4, 5]\n",
    "\n",
    "def test_can_read_back_written_data(tmp_path):\n",
    "    \n",
    "    path = tmp_path.joinpath('data.json')\n",
    "    path.write_text(json.dumps(data))\n",
    "    data2 = json.loads(path.read_text())\n",
    "    assert data == data2\n",
    "    \n",
    "    "
   ]
  },
  {
   "cell_type": "markdown",
   "metadata": {},
   "source": [
    "**Exercises**"
   ]
  },
  {
   "cell_type": "markdown",
   "metadata": {},
   "source": [
    "Write the `message` variable to a text file, then read it back in.  Write a test to confirm that:\n",
    "  - The data that is read is identical to what was written."
   ]
  },
  {
   "cell_type": "markdown",
   "metadata": {},
   "source": [
    "## 4. Using Test Fixtures in PyTest\n",
    "\n",
    "\n",
    "Writing fixtures in automated testing is essential for creating clear, maintainable, and reusable test setups. Fixtures define the initial conditions required for tests, such as creating mock datasets, initializing hardware interfaces, or setting up database connections. By centralizing setup code, fixtures reduce duplication, making tests cleaner and easier to understand. They also promote modular test design, allowing researchers to adapt tests as experimental conditions evolve. In neuroscience research, where data processing pipelines and computational models can be complex, using fixtures ensures that tests remain consistent, reproducible, and focused on specific functionality rather than setup details.\n",
    "\n",
    "This uses the \"decorator\" feature in Python (the \"@\" symbol before defining a function) pattern.  Below is an example:\n",
    "\n",
    "```python\n",
    "@fixture\n",
    "def my_fixture():\n",
    "    return 3\n",
    "\n",
    "def test_fun(my_fixture):\n",
    "    assert my_fixture == 3\n",
    "```"
   ]
  },
  {
   "cell_type": "markdown",
   "metadata": {},
   "source": [
    "**Example**: Use the `dataset` test fixture below to write the following automated tests:\n",
    "  - None of the dataset's values are greater than 10  (Useful Functions: `np.max()`)\n",
    "  - None of the dataset's values are less than 0  (Useful Functions: `np.min()`)"
   ]
  },
  {
   "cell_type": "code",
   "execution_count": 21,
   "metadata": {},
   "outputs": [],
   "source": [
    "@pytest.fixture\n",
    "def dataset():\n",
    "    return np.array([1, 5, 3, 6, 7, 7, 4, 2, 4, 5, 0, 1])\n"
   ]
  },
  {
   "cell_type": "code",
   "execution_count": 22,
   "metadata": {},
   "outputs": [
    {
     "name": "stdout",
     "output_type": "stream",
     "text": [
      "\u001b[32m.\u001b[0m\u001b[32m.\u001b[0m\u001b[32m                                                                                           [100%]\u001b[0m\n",
      "\u001b[32m\u001b[32m\u001b[1m2 passed\u001b[0m\u001b[32m in 0.01s\u001b[0m\u001b[0m\n"
     ]
    }
   ],
   "source": [
    "%%ipytest\n",
    "\n",
    "def test_data_max_is_less_than_10(dataset):\n",
    "    assert np.max(dataset) <= 10\n",
    "\n",
    "def test_data_is_not_negative(dataset):\n",
    "    assert np.min(dataset) >= 0\n"
   ]
  },
  {
   "cell_type": "markdown",
   "metadata": {},
   "source": [
    "**Exercises**"
   ]
  },
  {
   "cell_type": "markdown",
   "metadata": {},
   "source": [
    "Fixtures can be used to reduce repetitive code; for example, to read in datasets.  Use the `titanic` test fixture below to write the following automated tests:\n",
    "  - All values in the 'age' column are positive (Useful Code: `data['age'].min()`)\n",
    "  - None of the values in the 'sex' column are missing (Useful Code: `data['sex'].isna().any()`)"
   ]
  },
  {
   "cell_type": "code",
   "execution_count": 23,
   "metadata": {},
   "outputs": [],
   "source": [
    "@pytest.fixture(scope='module')\n",
    "def titanic():\n",
    "    return pd.read_csv('https://raw.githubusercontent.com/mwaskom/seaborn-data/refs/heads/master/raw/titanic.csv')"
   ]
  },
  {
   "cell_type": "markdown",
   "metadata": {},
   "source": [
    "Fixtures can be used in complex situations; for example, if you need to download a dataset in case you don't have it already on disk.  Use the `data_path` test fixture below to write any two of the following automated tests:\n",
    "  - The data path exists on your computer (Useful Code: `path.exists()`)\n",
    "  - The data path can be read by pandas without raising an error (Useful Code: `pd.read_csv(path)`)\n",
    "  - Once read by pandas, the data contains a column called \"survived\" (Useful Code: `'column_name' in data`)\n",
    "  - Once read by pandas, the data has more than 100 rows (Useful Code: `len(data) > 50`)"
   ]
  },
  {
   "cell_type": "code",
   "execution_count": 25,
   "metadata": {},
   "outputs": [],
   "source": [
    "import os\n",
    "from pathlib import Path    \n",
    "import requests\n",
    "\n",
    "@pytest.fixture()\n",
    "def data_path() -> Path:\n",
    "    if not os.path.exists('titanic.csv'):\n",
    "        url = 'https://raw.githubusercontent.com/mwaskom/seaborn-data/refs/heads/master/raw/titanic.csv'\n",
    "        r = requests.get(url)\n",
    "        r.encoding = 'utf-8'\n",
    "        text = r.text\n",
    "        with open('titanic.csv', 'w') as f:\n",
    "            f.write(text)\n",
    "    \n",
    "    return Path('titanic.csv')\n"
   ]
  }
 ],
 "metadata": {
  "kernelspec": {
   "display_name": "psychopy",
   "language": "python",
   "name": "python3"
  },
  "language_info": {
   "codemirror_mode": {
    "name": "ipython",
    "version": 3
   },
   "file_extension": ".py",
   "mimetype": "text/x-python",
   "name": "python",
   "nbconvert_exporter": "python",
   "pygments_lexer": "ipython3",
   "version": "3.10.16"
  },
  "metadata": {
   "interpreter": {
    "hash": "96aaef06ee4620efb4426efa9d33cf4f7340991f4df94558c663a28125b37508"
   }
  }
 },
 "nbformat": 4,
 "nbformat_minor": 4
}
