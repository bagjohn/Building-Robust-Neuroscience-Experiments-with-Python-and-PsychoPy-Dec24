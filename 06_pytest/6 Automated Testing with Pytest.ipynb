{
 "cells": [
  {
   "cell_type": "markdown",
   "metadata": {},
   "source": [
    "# Automated Testing with Pytest\n",
    "\n",
    "Manual testing is an integral part of software development. However, it does not scale well with the size of a project. The more your codebase grows the more time you have to spend testing. What's more, as things become more complex it becomes difficult to understanded all the interactions between different part of your code and it is easy to break one part of your program by modifying another one.\n",
    "This is where automated testing are invaluable. By building a suite of tests you can constantly verify that your code works as expected and that new features are being integrated properly!"
   ]
  },
  {
   "cell_type": "code",
   "execution_count": 1,
   "metadata": {},
   "outputs": [
    {
     "name": "stdout",
     "output_type": "stream",
     "text": [
      "Requirement already satisfied: psychopy in /home/panos/anaconda3/envs/psychopy39/lib/python3.9/site-packages (2024.2.4)\n",
      "Requirement already satisfied: pytest in /home/panos/anaconda3/envs/psychopy39/lib/python3.9/site-packages (8.3.4)\n",
      "Requirement already satisfied: ipytest in /home/panos/anaconda3/envs/psychopy39/lib/python3.9/site-packages (0.14.2)\n",
      "Collecting pytest-cov\n",
      "  Downloading pytest_cov-6.0.0-py3-none-any.whl (22 kB)\n",
      "Requirement already satisfied: esprima in /home/panos/anaconda3/envs/psychopy39/lib/python3.9/site-packages (from psychopy) (4.0.1)\n",
      "Requirement already satisfied: jedi>=0.16 in /home/panos/anaconda3/envs/psychopy39/lib/python3.9/site-packages (from psychopy) (0.19.2)\n",
      "Requirement already satisfied: xmlschema in /home/panos/anaconda3/envs/psychopy39/lib/python3.9/site-packages (from psychopy) (3.4.3)\n",
      "Requirement already satisfied: pyparallel in /home/panos/anaconda3/envs/psychopy39/lib/python3.9/site-packages (from psychopy) (0.2.2)\n",
      "Requirement already satisfied: python-gitlab in /home/panos/anaconda3/envs/psychopy39/lib/python3.9/site-packages (from psychopy) (5.1.0)\n",
      "Requirement already satisfied: python-vlc>=3.0.12118 in /home/panos/anaconda3/envs/psychopy39/lib/python3.9/site-packages (from psychopy) (3.0.21203)\n",
      "Requirement already satisfied: astunparse in /home/panos/anaconda3/envs/psychopy39/lib/python3.9/site-packages (from psychopy) (1.6.3)\n",
      "Requirement already satisfied: gevent in /home/panos/anaconda3/envs/psychopy39/lib/python3.9/site-packages (from psychopy) (24.11.1)\n",
      "Requirement already satisfied: psutil in /home/panos/anaconda3/envs/psychopy39/lib/python3.9/site-packages (from psychopy) (6.1.0)\n",
      "Requirement already satisfied: pyyaml in /home/panos/anaconda3/envs/psychopy39/lib/python3.9/site-packages (from psychopy) (6.0.2)\n",
      "Requirement already satisfied: websockets in /home/panos/anaconda3/envs/psychopy39/lib/python3.9/site-packages (from psychopy) (14.1)\n",
      "Requirement already satisfied: cryptography in /home/panos/anaconda3/envs/psychopy39/lib/python3.9/site-packages (from psychopy) (44.0.0)\n",
      "Requirement already satisfied: arabic-reshaper in /home/panos/anaconda3/envs/psychopy39/lib/python3.9/site-packages (from psychopy) (3.0.0)\n",
      "Requirement already satisfied: ffpyplayer in /home/panos/anaconda3/envs/psychopy39/lib/python3.9/site-packages (from psychopy) (4.5.2)\n",
      "Requirement already satisfied: msgpack in /home/panos/anaconda3/envs/psychopy39/lib/python3.9/site-packages (from psychopy) (1.1.0)\n",
      "Requirement already satisfied: openpyxl in /home/panos/anaconda3/envs/psychopy39/lib/python3.9/site-packages (from psychopy) (3.1.5)\n",
      "Requirement already satisfied: distro in /home/panos/anaconda3/envs/psychopy39/lib/python3.9/site-packages (from psychopy) (1.9.0)\n",
      "Requirement already satisfied: freetype-py in /home/panos/anaconda3/envs/psychopy39/lib/python3.9/site-packages (from psychopy) (2.5.1)\n",
      "Requirement already satisfied: javascripthon in /home/panos/anaconda3/envs/psychopy39/lib/python3.9/site-packages (from psychopy) (0.13)\n",
      "Requirement already satisfied: msgpack-numpy in /home/panos/anaconda3/envs/psychopy39/lib/python3.9/site-packages (from psychopy) (0.4.8)\n",
      "Requirement already satisfied: markdown-it-py in /home/panos/anaconda3/envs/psychopy39/lib/python3.9/site-packages (from psychopy) (3.0.0)\n",
      "Requirement already satisfied: imageio in /home/panos/anaconda3/envs/psychopy39/lib/python3.9/site-packages (from psychopy) (2.36.1)\n",
      "Requirement already satisfied: imageio-ffmpeg in /home/panos/anaconda3/envs/psychopy39/lib/python3.9/site-packages (from psychopy) (0.5.1)\n",
      "Requirement already satisfied: gitpython in /home/panos/anaconda3/envs/psychopy39/lib/python3.9/site-packages (from psychopy) (3.1.43)\n",
      "Requirement already satisfied: matplotlib in /home/panos/anaconda3/envs/psychopy39/lib/python3.9/site-packages (from psychopy) (3.9.3)\n",
      "Requirement already satisfied: pillow>=9.4.0 in /home/panos/anaconda3/envs/psychopy39/lib/python3.9/site-packages (from psychopy) (10.4.0)\n",
      "Requirement already satisfied: psychtoolbox in /home/panos/anaconda3/envs/psychopy39/lib/python3.9/site-packages (from psychopy) (3.0.19.14)\n",
      "Requirement already satisfied: questplus>=2023.1 in /home/panos/anaconda3/envs/psychopy39/lib/python3.9/site-packages (from psychopy) (2023.1)\n",
      "Requirement already satisfied: opencv-python in /home/panos/anaconda3/envs/psychopy39/lib/python3.9/site-packages (from psychopy) (4.10.0.84)\n",
      "Requirement already satisfied: ujson in /home/panos/anaconda3/envs/psychopy39/lib/python3.9/site-packages (from psychopy) (5.10.0)\n",
      "Requirement already satisfied: setuptools==70.3.0 in /home/panos/anaconda3/envs/psychopy39/lib/python3.9/site-packages (from psychopy) (70.3.0)\n",
      "Requirement already satisfied: pyzmq>=22.2.1 in /home/panos/anaconda3/envs/psychopy39/lib/python3.9/site-packages (from psychopy) (26.2.0)\n",
      "Requirement already satisfied: requests in /home/panos/anaconda3/envs/psychopy39/lib/python3.9/site-packages (from psychopy) (2.32.3)\n",
      "Requirement already satisfied: pyqt6 in /home/panos/anaconda3/envs/psychopy39/lib/python3.9/site-packages (from psychopy) (6.7.1)\n",
      "Requirement already satisfied: future in /home/panos/anaconda3/envs/psychopy39/lib/python3.9/site-packages (from psychopy) (1.0.0)\n",
      "Requirement already satisfied: packaging>=24.0 in /home/panos/anaconda3/envs/psychopy39/lib/python3.9/site-packages (from psychopy) (24.2)\n",
      "Requirement already satisfied: pyserial in /home/panos/anaconda3/envs/psychopy39/lib/python3.9/site-packages (from psychopy) (3.5)\n",
      "Requirement already satisfied: moviepy in /home/panos/anaconda3/envs/psychopy39/lib/python3.9/site-packages (from psychopy) (2.1.1)\n",
      "Requirement already satisfied: numpy<2.0 in /home/panos/anaconda3/envs/psychopy39/lib/python3.9/site-packages (from psychopy) (1.26.4)\n",
      "Requirement already satisfied: tables!=3.9.2 in /home/panos/anaconda3/envs/psychopy39/lib/python3.9/site-packages (from psychopy) (3.9.1)\n",
      "Requirement already satisfied: python-bidi in /home/panos/anaconda3/envs/psychopy39/lib/python3.9/site-packages (from psychopy) (0.6.3)\n",
      "Requirement already satisfied: python-xlib in /home/panos/anaconda3/envs/psychopy39/lib/python3.9/site-packages (from psychopy) (0.33)\n",
      "Requirement already satisfied: wxPython>=4.1.1 in /home/panos/anaconda3/envs/psychopy39/lib/python3.9/site-packages (from psychopy) (4.2.2)\n",
      "Requirement already satisfied: soundfile in /home/panos/anaconda3/envs/psychopy39/lib/python3.9/site-packages (from psychopy) (0.12.1)\n",
      "Requirement already satisfied: pypi-search>=1.2.1 in /home/panos/anaconda3/envs/psychopy39/lib/python3.9/site-packages (from psychopy) (2.0)\n",
      "Requirement already satisfied: pyglet==1.5.27 in /home/panos/anaconda3/envs/psychopy39/lib/python3.9/site-packages (from psychopy) (1.5.27)\n",
      "Requirement already satisfied: scipy in /home/panos/anaconda3/envs/psychopy39/lib/python3.9/site-packages (from psychopy) (1.13.1)\n",
      "Requirement already satisfied: pandas>=1.5.3 in /home/panos/anaconda3/envs/psychopy39/lib/python3.9/site-packages (from psychopy) (2.2.3)\n",
      "Requirement already satisfied: exceptiongroup>=1.0.0rc8 in /home/panos/anaconda3/envs/psychopy39/lib/python3.9/site-packages (from pytest) (1.2.2)\n",
      "Requirement already satisfied: iniconfig in /home/panos/anaconda3/envs/psychopy39/lib/python3.9/site-packages (from pytest) (2.0.0)\n",
      "Requirement already satisfied: tomli>=1 in /home/panos/anaconda3/envs/psychopy39/lib/python3.9/site-packages (from pytest) (2.2.1)\n",
      "Requirement already satisfied: pluggy<2,>=1.5 in /home/panos/anaconda3/envs/psychopy39/lib/python3.9/site-packages (from pytest) (1.5.0)\n",
      "Requirement already satisfied: ipython in /home/panos/anaconda3/envs/psychopy39/lib/python3.9/site-packages (from ipytest) (8.18.1)\n",
      "Collecting coverage[toml]>=7.5\n",
      "  Downloading coverage-7.6.9-cp39-cp39-manylinux_2_5_x86_64.manylinux1_x86_64.manylinux_2_17_x86_64.manylinux2014_x86_64.whl (234 kB)\n",
      "\u001b[2K     \u001b[90m━━━━━━━━━━━━━━━━━━━━━━━━━━━━━━━━━━━━━━━\u001b[0m \u001b[32m234.5/234.5 kB\u001b[0m \u001b[31m3.7 MB/s\u001b[0m eta \u001b[36m0:00:00\u001b[0ma \u001b[36m0:00:01\u001b[0m\n",
      "\u001b[?25hRequirement already satisfied: dukpy<=0.2.3 in /home/panos/anaconda3/envs/psychopy39/lib/python3.9/site-packages (from javascripthon->psychopy) (0.2.3)\n",
      "Requirement already satisfied: parso<0.9.0,>=0.8.4 in /home/panos/anaconda3/envs/psychopy39/lib/python3.9/site-packages (from jedi>=0.16->psychopy) (0.8.4)\n",
      "Requirement already satisfied: python-dateutil>=2.8.2 in /home/panos/anaconda3/envs/psychopy39/lib/python3.9/site-packages (from pandas>=1.5.3->psychopy) (2.9.0.post0)\n",
      "Requirement already satisfied: pytz>=2020.1 in /home/panos/anaconda3/envs/psychopy39/lib/python3.9/site-packages (from pandas>=1.5.3->psychopy) (2024.2)\n",
      "Requirement already satisfied: tzdata>=2022.7 in /home/panos/anaconda3/envs/psychopy39/lib/python3.9/site-packages (from pandas>=1.5.3->psychopy) (2024.2)\n",
      "Requirement already satisfied: html2text>=2020.1.16 in /home/panos/anaconda3/envs/psychopy39/lib/python3.9/site-packages (from pypi-search>=1.2.1->psychopy) (2024.2.26)\n",
      "Requirement already satisfied: beautifulsoup4>=4.9.2 in /home/panos/anaconda3/envs/psychopy39/lib/python3.9/site-packages (from pypi-search>=1.2.1->psychopy) (4.12.3)\n",
      "Requirement already satisfied: json-tricks in /home/panos/anaconda3/envs/psychopy39/lib/python3.9/site-packages (from questplus>=2023.1->psychopy) (3.17.3)\n",
      "Requirement already satisfied: xarray in /home/panos/anaconda3/envs/psychopy39/lib/python3.9/site-packages (from questplus>=2023.1->psychopy) (2024.7.0)\n",
      "Requirement already satisfied: idna<4,>=2.5 in /home/panos/anaconda3/envs/psychopy39/lib/python3.9/site-packages (from requests->psychopy) (3.10)\n",
      "Requirement already satisfied: charset-normalizer<4,>=2 in /home/panos/anaconda3/envs/psychopy39/lib/python3.9/site-packages (from requests->psychopy) (3.4.0)\n",
      "Requirement already satisfied: urllib3<3,>=1.21.1 in /home/panos/anaconda3/envs/psychopy39/lib/python3.9/site-packages (from requests->psychopy) (2.2.3)\n",
      "Requirement already satisfied: certifi>=2017.4.17 in /home/panos/anaconda3/envs/psychopy39/lib/python3.9/site-packages (from requests->psychopy) (2024.8.30)\n",
      "Requirement already satisfied: numexpr>=2.6.2 in /home/panos/anaconda3/envs/psychopy39/lib/python3.9/site-packages (from tables!=3.9.2->psychopy) (2.10.2)\n",
      "Requirement already satisfied: py-cpuinfo in /home/panos/anaconda3/envs/psychopy39/lib/python3.9/site-packages (from tables!=3.9.2->psychopy) (9.0.0)\n",
      "Requirement already satisfied: blosc2>=2.2.8 in /home/panos/anaconda3/envs/psychopy39/lib/python3.9/site-packages (from tables!=3.9.2->psychopy) (2.5.1)\n",
      "Requirement already satisfied: six in /home/panos/anaconda3/envs/psychopy39/lib/python3.9/site-packages (from wxPython>=4.1.1->psychopy) (1.17.0)\n",
      "Requirement already satisfied: wheel<1.0,>=0.23.0 in /home/panos/anaconda3/envs/psychopy39/lib/python3.9/site-packages (from astunparse->psychopy) (0.38.4)\n",
      "Requirement already satisfied: cffi>=1.12 in /home/panos/anaconda3/envs/psychopy39/lib/python3.9/site-packages (from cryptography->psychopy) (1.17.1)\n",
      "Requirement already satisfied: zope.interface in /home/panos/anaconda3/envs/psychopy39/lib/python3.9/site-packages (from gevent->psychopy) (7.2)\n",
      "Requirement already satisfied: zope.event in /home/panos/anaconda3/envs/psychopy39/lib/python3.9/site-packages (from gevent->psychopy) (5.0)\n",
      "Requirement already satisfied: greenlet>=3.1.1 in /home/panos/anaconda3/envs/psychopy39/lib/python3.9/site-packages (from gevent->psychopy) (3.1.1)\n",
      "Requirement already satisfied: gitdb<5,>=4.0.1 in /home/panos/anaconda3/envs/psychopy39/lib/python3.9/site-packages (from gitpython->psychopy) (4.0.11)\n",
      "Requirement already satisfied: typing-extensions in /home/panos/anaconda3/envs/psychopy39/lib/python3.9/site-packages (from ipython->ipytest) (4.12.2)\n",
      "Requirement already satisfied: pexpect>4.3 in /home/panos/anaconda3/envs/psychopy39/lib/python3.9/site-packages (from ipython->ipytest) (4.9.0)\n",
      "Requirement already satisfied: matplotlib-inline in /home/panos/anaconda3/envs/psychopy39/lib/python3.9/site-packages (from ipython->ipytest) (0.1.7)\n",
      "Requirement already satisfied: decorator in /home/panos/anaconda3/envs/psychopy39/lib/python3.9/site-packages (from ipython->ipytest) (5.1.1)\n",
      "Requirement already satisfied: stack-data in /home/panos/anaconda3/envs/psychopy39/lib/python3.9/site-packages (from ipython->ipytest) (0.6.3)\n",
      "Requirement already satisfied: prompt-toolkit<3.1.0,>=3.0.41 in /home/panos/anaconda3/envs/psychopy39/lib/python3.9/site-packages (from ipython->ipytest) (3.0.48)\n",
      "Requirement already satisfied: pygments>=2.4.0 in /home/panos/anaconda3/envs/psychopy39/lib/python3.9/site-packages (from ipython->ipytest) (2.18.0)\n",
      "Requirement already satisfied: traitlets>=5 in /home/panos/anaconda3/envs/psychopy39/lib/python3.9/site-packages (from ipython->ipytest) (5.14.3)\n",
      "Requirement already satisfied: mdurl~=0.1 in /home/panos/anaconda3/envs/psychopy39/lib/python3.9/site-packages (from markdown-it-py->psychopy) (0.1.2)\n",
      "Requirement already satisfied: fonttools>=4.22.0 in /home/panos/anaconda3/envs/psychopy39/lib/python3.9/site-packages (from matplotlib->psychopy) (4.55.2)\n",
      "Requirement already satisfied: kiwisolver>=1.3.1 in /home/panos/anaconda3/envs/psychopy39/lib/python3.9/site-packages (from matplotlib->psychopy) (1.4.7)\n",
      "Requirement already satisfied: importlib-resources>=3.2.0 in /home/panos/anaconda3/envs/psychopy39/lib/python3.9/site-packages (from matplotlib->psychopy) (6.4.5)\n",
      "Requirement already satisfied: pyparsing>=2.3.1 in /home/panos/anaconda3/envs/psychopy39/lib/python3.9/site-packages (from matplotlib->psychopy) (3.2.0)\n",
      "Requirement already satisfied: cycler>=0.10 in /home/panos/anaconda3/envs/psychopy39/lib/python3.9/site-packages (from matplotlib->psychopy) (0.12.1)\n",
      "Requirement already satisfied: contourpy>=1.0.1 in /home/panos/anaconda3/envs/psychopy39/lib/python3.9/site-packages (from matplotlib->psychopy) (1.3.0)\n",
      "Requirement already satisfied: python-dotenv>=0.10 in /home/panos/anaconda3/envs/psychopy39/lib/python3.9/site-packages (from moviepy->psychopy) (1.0.1)\n",
      "Requirement already satisfied: proglog<=1.0.0 in /home/panos/anaconda3/envs/psychopy39/lib/python3.9/site-packages (from moviepy->psychopy) (0.1.10)\n",
      "Requirement already satisfied: et-xmlfile in /home/panos/anaconda3/envs/psychopy39/lib/python3.9/site-packages (from openpyxl->psychopy) (2.0.0)\n",
      "Requirement already satisfied: PyQt6-Qt6<6.8.0,>=6.7.0 in /home/panos/anaconda3/envs/psychopy39/lib/python3.9/site-packages (from pyqt6->psychopy) (6.7.3)\n",
      "Requirement already satisfied: PyQt6-sip<14,>=13.8 in /home/panos/anaconda3/envs/psychopy39/lib/python3.9/site-packages (from pyqt6->psychopy) (13.9.0)\n",
      "Requirement already satisfied: requests-toolbelt>=1.0.0 in /home/panos/anaconda3/envs/psychopy39/lib/python3.9/site-packages (from python-gitlab->psychopy) (1.0.0)\n",
      "Requirement already satisfied: elementpath<5.0.0,>=4.4.0 in /home/panos/anaconda3/envs/psychopy39/lib/python3.9/site-packages (from xmlschema->psychopy) (4.6.0)\n",
      "Requirement already satisfied: soupsieve>1.2 in /home/panos/anaconda3/envs/psychopy39/lib/python3.9/site-packages (from beautifulsoup4>=4.9.2->pypi-search>=1.2.1->psychopy) (2.6)\n",
      "Requirement already satisfied: ndindex>=1.4 in /home/panos/anaconda3/envs/psychopy39/lib/python3.9/site-packages (from blosc2>=2.2.8->tables!=3.9.2->psychopy) (1.9.2)\n",
      "Requirement already satisfied: pycparser in /home/panos/anaconda3/envs/psychopy39/lib/python3.9/site-packages (from cffi>=1.12->cryptography->psychopy) (2.22)\n",
      "Requirement already satisfied: smmap<6,>=3.0.1 in /home/panos/anaconda3/envs/psychopy39/lib/python3.9/site-packages (from gitdb<5,>=4.0.1->gitpython->psychopy) (5.0.1)\n",
      "Requirement already satisfied: zipp>=3.1.0 in /home/panos/anaconda3/envs/psychopy39/lib/python3.9/site-packages (from importlib-resources>=3.2.0->matplotlib->psychopy) (3.21.0)\n",
      "Requirement already satisfied: ptyprocess>=0.5 in /home/panos/anaconda3/envs/psychopy39/lib/python3.9/site-packages (from pexpect>4.3->ipython->ipytest) (0.7.0)\n",
      "Requirement already satisfied: tqdm in /home/panos/anaconda3/envs/psychopy39/lib/python3.9/site-packages (from proglog<=1.0.0->moviepy->psychopy) (4.67.1)\n",
      "Requirement already satisfied: wcwidth in /home/panos/anaconda3/envs/psychopy39/lib/python3.9/site-packages (from prompt-toolkit<3.1.0,>=3.0.41->ipython->ipytest) (0.2.13)\n",
      "Requirement already satisfied: asttokens>=2.1.0 in /home/panos/anaconda3/envs/psychopy39/lib/python3.9/site-packages (from stack-data->ipython->ipytest) (3.0.0)\n",
      "Requirement already satisfied: executing>=1.2.0 in /home/panos/anaconda3/envs/psychopy39/lib/python3.9/site-packages (from stack-data->ipython->ipytest) (2.1.0)\n",
      "Requirement already satisfied: pure-eval in /home/panos/anaconda3/envs/psychopy39/lib/python3.9/site-packages (from stack-data->ipython->ipytest) (0.2.3)\n",
      "Installing collected packages: coverage, pytest-cov\n",
      "Successfully installed coverage-7.6.9 pytest-cov-6.0.0\n",
      "Note: you may need to restart the kernel to use updated packages.\n"
     ]
    }
   ],
   "source": [
    "%pip install psychopy pytest ipytest pytest-cov"
   ]
  },
  {
   "cell_type": "code",
   "execution_count": 2,
   "metadata": {},
   "outputs": [],
   "source": [
    "import random\n",
    "import json\n",
    "# from psychopy.sound import Sound\n",
    "from psychopy.visual import Window\n",
    "from psychopy.event import waitKeys\n",
    "import pytest\n",
    "import ipytest\n",
    "ipytest.autoconfig()\n",
    "# Sound(stereo=False);"
   ]
  },
  {
   "cell_type": "markdown",
   "metadata": {},
   "source": [
    "## 1. Writing Assert Statements\n",
    "\n",
    "A key component of every test is the `assert` statement. It tests that result of some part of the code is what you would expect. `assert` is really simple - it raises an `AssertionError` if whateber you are asserting evaluates to `False` and does nothing otherwise.\n",
    "Generally, more asserts are better but often it is a good idea to focus your test on interesting edge cases, like: what happens when you pass in an empty list to a function that accepts lists? What if a time parameter is zero or negative? And so on ...\n",
    "\n",
    "### Reference Table\n",
    "|Code | Duration |\n",
    "| ---| ---|\n",
    "|`assert a == b` | Raise an `AssertionError` if `a` is NOT equal to `b`, otherwise do nothing |\n",
    "|`assert isinstance(a, int)` | Raise an `AssertionError` if `a` is not an integer, otherwise do nothing |\n",
    "|`assert a > b` | Raise an `AssertionError` if `a` is NOT greater than `b`, otherwise do nothing |\n",
    "|`tone = Sound(value=350, secs=0.5)` | Create a `tone` at `350`Hz with a duration of `0.5` seconds |\n",
    "|`key = waitKeys(keyList=\"space\", timeStamped=True)` | Wait until the `\"space\"` key was pressed and return a list of lists with [[name, time]].|"
   ]
  },
  {
   "cell_type": "markdown",
   "metadata": {},
   "source": [
    "**Example**: `assert` that the value `x` is positive and and `print(\"Success\"!)`\n"
   ]
  },
  {
   "cell_type": "code",
   "execution_count": 4,
   "metadata": {},
   "outputs": [
    {
     "name": "stdout",
     "output_type": "stream",
     "text": [
      "Success!\n"
     ]
    }
   ],
   "source": [
    "x = random.random();\n",
    "assert x>0\n",
    "print (\"Success!\")"
   ]
  },
  {
   "cell_type": "markdown",
   "metadata": {},
   "source": [
    "**Exercise**: `assert` that the absolute difference between x and y is smaller than 1 and and `print(\"Success\"!)`\n"
   ]
  },
  {
   "cell_type": "code",
   "execution_count": 5,
   "metadata": {},
   "outputs": [
    {
     "name": "stdout",
     "output_type": "stream",
     "text": [
      "Success!\n"
     ]
    }
   ],
   "source": [
    "x = random.random()\n",
    "y = random.random();\n",
    "assert abs(x-y)<1\n",
    "print (\"Success!\")"
   ]
  },
  {
   "cell_type": "markdown",
   "metadata": {},
   "source": [
    "**Exercise**: `assert` that all elements in x are strings and and `print(\"Success\"!)`\n"
   ]
  },
  {
   "cell_type": "code",
   "execution_count": 6,
   "metadata": {},
   "outputs": [
    {
     "name": "stdout",
     "output_type": "stream",
     "text": [
      "Success!\n"
     ]
    }
   ],
   "source": [
    "x = [\"1\", \"2\", \"3\"]\n",
    "for i in x:\n",
    "    assert type(i) == str\n",
    "print (\"Success!\")"
   ]
  },
  {
   "cell_type": "markdown",
   "metadata": {},
   "source": [
    "**Exercise** Write two assert statements that check that:\n",
    "- the value returned by `subtract(3, 5)` is `-2`\n",
    "- the value returned by `subtract(10, 7)` is `3`\n",
    "\n",
    "and `print(\"Success\"!)`"
   ]
  },
  {
   "cell_type": "code",
   "execution_count": 7,
   "metadata": {},
   "outputs": [
    {
     "name": "stdout",
     "output_type": "stream",
     "text": [
      "Success!\n"
     ]
    }
   ],
   "source": [
    "def subtract(a,b):\n",
    "    return a-b\n",
    "assert subtract(3,5) == -2\n",
    "assert subtract(10,7) == 3\n",
    "\n",
    "print (\"Success!\")"
   ]
  },
  {
   "cell_type": "markdown",
   "metadata": {},
   "source": [
    "**Exercise**: Write an `assert` statement that checks that:\n",
    "- the the length of the list returned by `concatenate_lists(a,b)` is equal to `len(a) + len(b)` \n",
    "\n",
    "and `print(\"Success\"!)`\n"
   ]
  },
  {
   "cell_type": "code",
   "execution_count": 9,
   "metadata": {},
   "outputs": [
    {
     "name": "stdout",
     "output_type": "stream",
     "text": [
      "Success!\n"
     ]
    }
   ],
   "source": [
    "def concatenate_lists(a,b):\n",
    "    return a+b\n",
    "l1 = [1,2,3]\n",
    "l2 = [4,5,6,7,8,9]\n",
    "assert len(concatenate_lists(l1,l2)) == len(l1)+len(l2)\n",
    "\n",
    "print (\"Success!\")"
   ]
  },
  {
   "cell_type": "markdown",
   "metadata": {},
   "source": [
    "**Exercise**: Write two `assert` statement that check that:\n",
    "- the tone returned by `make_tone(freq=800, dur=0.5)` has the attributes `tone.sound=800` and `tone.secs=0.5`\n",
    "- the tone returned by `make_tone(freq=1200, dur=0.3)` has the attributes `tone.sound=1200` and `tone.secs=0.3`\n",
    "\n",
    "\n",
    "and `print(\"Success\"!)`"
   ]
  },
  {
   "cell_type": "code",
   "execution_count": null,
   "metadata": {},
   "outputs": [],
   "source": [
    "def make_tone(freq, dur):\n",
    "    return Sound(value=freq, secs=dur)"
   ]
  },
  {
   "cell_type": "markdown",
   "metadata": {},
   "source": [
    "**Exercise**: Write four `assert` statement that check that:\n",
    "- The length of the list returned by `wait_keys([\"space\"])` is 1\n",
    "- The first element of the list returned by `wait_keys([\"space\"])` is `\"space\"`\n",
    "- The length of the list returned by `wait_keys([\"space\"], True)` is 2\n",
    "- The second element of the list returned by `wait_keys([\"space\"], True)` is a `float`\n",
    "\n",
    "and `print(\"Success\"!)`\n",
    "\n",
    "Hint: you have to wrap you tests inside a Window context manager, like this: <br>\n",
    "`with Window() as win:` \n",
    "<br> &nbsp;&nbsp;&nbsp;&nbsp; `assert ...`"
   ]
  },
  {
   "cell_type": "code",
   "execution_count": 14,
   "metadata": {},
   "outputs": [
    {
     "name": "stdout",
     "output_type": "stream",
     "text": [
      "1149.3729 \tWARNING \tMonitor specification not found. Creating a temporary one...\n",
      "1155.7449 \tWARNING \tCouldn't measure a consistent frame rate!\n",
      "  - Is your graphics card set to sync to vertical blank?\n",
      "  - Are you running other processes on your computer?\n",
      "\n"
     ]
    },
    {
     "ename": "AssertionError",
     "evalue": "assert <class 'psychopy.clock.Timestamp'> == float\n +  where <class 'psychopy.clock.Timestamp'> = type(1187.458553314209)",
     "output_type": "error",
     "traceback": [
      "\u001b[0;31m---------------------------------------------------------------------------\u001b[0m",
      "\u001b[0;31mAssertionError\u001b[0m                            Traceback (most recent call last)",
      "Cell \u001b[0;32mIn[14], line 12\u001b[0m\n\u001b[1;32m     10\u001b[0m     \u001b[38;5;28;01massert\u001b[39;00m wait_keys([\u001b[38;5;124m\"\u001b[39m\u001b[38;5;124mspace\u001b[39m\u001b[38;5;124m\"\u001b[39m])[\u001b[38;5;241m0\u001b[39m]\u001b[38;5;241m==\u001b[39m\u001b[38;5;124m\"\u001b[39m\u001b[38;5;124mspace\u001b[39m\u001b[38;5;124m\"\u001b[39m\n\u001b[1;32m     11\u001b[0m     \u001b[38;5;28;01massert\u001b[39;00m \u001b[38;5;28mlen\u001b[39m(wait_keys([\u001b[38;5;124m\"\u001b[39m\u001b[38;5;124mspace\u001b[39m\u001b[38;5;124m\"\u001b[39m], \u001b[38;5;28;01mTrue\u001b[39;00m))\u001b[38;5;241m==\u001b[39m\u001b[38;5;241m2\u001b[39m\n\u001b[0;32m---> 12\u001b[0m     \u001b[38;5;28;01massert\u001b[39;00m \u001b[38;5;28mtype\u001b[39m(wait_keys([\u001b[38;5;124m\"\u001b[39m\u001b[38;5;124mspace\u001b[39m\u001b[38;5;124m\"\u001b[39m], \u001b[38;5;28;01mTrue\u001b[39;00m)[\u001b[38;5;241m1\u001b[39m])\u001b[38;5;241m==\u001b[39m\u001b[38;5;28mfloat\u001b[39m\n\u001b[1;32m     13\u001b[0m \u001b[38;5;28mprint\u001b[39m (\u001b[38;5;124m\"\u001b[39m\u001b[38;5;124mSuccess!\u001b[39m\u001b[38;5;124m\"\u001b[39m)\n",
      "\u001b[0;31mAssertionError\u001b[0m: assert <class 'psychopy.clock.Timestamp'> == float\n +  where <class 'psychopy.clock.Timestamp'> = type(1187.458553314209)"
     ]
    }
   ],
   "source": [
    "def wait_keys(keys=None, timed=False):\n",
    "    keys = waitKeys(keyList=keys, timeStamped=timed)\n",
    "    if timed:\n",
    "        return keys[0]\n",
    "    else:\n",
    "        return keys\n",
    "\n",
    "with Window() as win:\n",
    "    assert len(wait_keys([\"space\"]))==1\n",
    "    assert wait_keys([\"space\"])[0]==\"space\"\n",
    "    assert len(wait_keys([\"space\"], True))==2\n",
    "    assert type(wait_keys([\"space\"], True)[1])==float\n",
    "print (\"Success!\")"
   ]
  },
  {
   "cell_type": "markdown",
   "metadata": {},
   "source": [
    "## 2. Writing Test Functions\n",
    "\n",
    "Usually `assert` statments are not used on their own but wrapped inside test functions. Organizing your tests into functions provides the same advantages as organizing your code in functions: it makes them more readable, maintainable and robust. What's more, it allow tools such as Pytest to do the testing automatically and report to you any failed tests. In this section we are going to use Ipytest which is a convenient tool to use Pytest inside a Jupyter notebook: simply include an %%ipytest tag at the top of a cell and, when you execute it, Pytest will run every function in the cell that starts with `test_`. The rules for writing good test functions are the same as the rules for writing good function: each test should have a clear purpose an a name that reflects this purpose like `test_file_was_written()`.\n",
    "\n",
    "|Code | Description |\n",
    "| --- | ---         |\n",
    "|`%%ipytest` | Use Pytest to execute every function in a cell that starts with `test_` |\n",
    "| `with pytest.raises(ValueError):` <br> &nbsp;&nbsp;&nbsp;&nbsp; `divide(1, \"hi)` | Assert that `divide(1,\"hi\")` raises a `ValueError`|"
   ]
  },
  {
   "cell_type": "markdown",
   "metadata": {},
   "source": [
    "We are going to test the `trial_sequence()` function defined below"
   ]
  },
  {
   "cell_type": "code",
   "execution_count": 15,
   "metadata": {},
   "outputs": [],
   "source": [
    "def trial_sequence(conditions: list, n_reps: int, shuffle:bool = True):\n",
    "    trials = conditions * n_reps\n",
    "    if shuffle:\n",
    "        random.shuffle(trials)\n",
    "    return trials\n"
   ]
  },
  {
   "cell_type": "markdown",
   "metadata": {},
   "source": [
    "**Example**: Write a test function `test_trial_sequence_is_shuffled()` that tests that the returned list is shuffled when `shuffle=True`. Add the `%%ipytest` tag to the top of the cell and run it to execute that cell."
   ]
  },
  {
   "cell_type": "code",
   "execution_count": 16,
   "metadata": {},
   "outputs": [
    {
     "name": "stdout",
     "output_type": "stream",
     "text": [
      "\u001b[32m.\u001b[0m\u001b[32m                                                                                            [100%]\u001b[0m\n",
      "\u001b[32m\u001b[32m\u001b[1m1 passed\u001b[0m\u001b[32m in 0.07s\u001b[0m\u001b[0m\n"
     ]
    }
   ],
   "source": [
    "%%ipytest\n",
    "def test_trial_sequence_is_shuffled():\n",
    "    trials1 = trial_sequence(conditions=[1,2,3], n_reps=1000)\n",
    "    trials2 = trial_sequence(conditions=[1,2,3], n_reps=1000)\n",
    "    assert trials1 != trials2"
   ]
  },
  {
   "cell_type": "markdown",
   "metadata": {},
   "source": [
    "**Exercise**: Write a test function `test_trial_sequence_is_shuffled()` that tests that the returned list is ordered when `shuffle=True`. Add the `%%ipytest` tag to the top of the cell and run it to execute that cell."
   ]
  },
  {
   "cell_type": "code",
   "execution_count": 18,
   "metadata": {},
   "outputs": [
    {
     "name": "stdout",
     "output_type": "stream",
     "text": [
      "\u001b[32m.\u001b[0m\u001b[32m                                                                                            [100%]\u001b[0m\n",
      "\u001b[32m\u001b[32m\u001b[1m1 passed\u001b[0m\u001b[32m in 0.05s\u001b[0m\u001b[0m\n"
     ]
    }
   ],
   "source": [
    "%%ipytest\n",
    "def test_trial_sequence_is_shuffled():\n",
    "    conditions=[1,2,3]\n",
    "    n_reps=1000\n",
    "    trials = trial_sequence(conditions=conditions, n_reps=n_reps, shuffle=False)\n",
    "    trials2=conditions*n_reps\n",
    "    # trials2.sort()\n",
    "    assert trials==trials2"
   ]
  },
  {
   "cell_type": "markdown",
   "metadata": {},
   "source": [
    "**Exercise**: Write a test function that tests the list returned by `test_trial_sequence_is_shuffled()` has the correct `len()` using three different `assert` conditions . Add the `%%ipytest` tag to the top of the cell and run it to execute that cell."
   ]
  },
  {
   "cell_type": "code",
   "execution_count": 19,
   "metadata": {},
   "outputs": [
    {
     "name": "stdout",
     "output_type": "stream",
     "text": [
      "\u001b[32m.\u001b[0m\u001b[32m                                                                                            [100%]\u001b[0m\n",
      "\u001b[32m\u001b[32m\u001b[1m1 passed\u001b[0m\u001b[32m in 0.09s\u001b[0m\u001b[0m\n"
     ]
    }
   ],
   "source": [
    "%%ipytest\n",
    "def test_trial_sequence_is_shuffled():\n",
    "    assert len(trial_sequence(conditions=[1,2,3], n_reps=1000, shuffle=False)) == 3000\n",
    "    assert len(trial_sequence(conditions=[1,2,3], n_reps=1000, shuffle=True)) == 3000\n",
    "    assert len(trial_sequence(conditions=[1,2,3,4], n_reps=100, shuffle=True)) == 400"
   ]
  },
  {
   "cell_type": "markdown",
   "metadata": {},
   "source": [
    "---\n",
    "We are going to test the `load_config` function defined in the cell below"
   ]
  },
  {
   "cell_type": "code",
   "execution_count": 21,
   "metadata": {},
   "outputs": [],
   "source": [
    "def load_config(fpath:str):\n",
    "    with open(fpath) as f:\n",
    "        config = json.load(f)\n",
    "    return config"
   ]
  },
  {
   "cell_type": "markdown",
   "metadata": {},
   "source": [
    "**Exercise** Write a test function that tests that the dictionary returned by `load_config()` contains the keys `\"conditions\"` and `\"n_trials\"`.\n",
    "\n",
    " (Hint: `\"a\" in config` is `True` if `config` contains a key named `\"a\"`)"
   ]
  },
  {
   "cell_type": "code",
   "execution_count": 22,
   "metadata": {},
   "outputs": [
    {
     "name": "stdout",
     "output_type": "stream",
     "text": [
      "\u001b[32m.\u001b[0m\u001b[32m                                                                                            [100%]\u001b[0m\n",
      "\u001b[32m\u001b[32m\u001b[1m1 passed\u001b[0m\u001b[32m in 0.04s\u001b[0m\u001b[0m\n"
     ]
    }
   ],
   "source": [
    "%%ipytest\n",
    "\n",
    "def test_load_config():\n",
    "    config = load_config(\"config.json\")\n",
    "    # assert type(config) == dict\n",
    "    assert \"conditions\" in config\n",
    "    assert \"n_trials\" in config\n"
   ]
  },
  {
   "cell_type": "markdown",
   "metadata": {},
   "source": [
    "**Exercise** Write a test function that tests the value stored under the key \"conditions\" in the dictionary returned by `load_config()` is a list of integers"
   ]
  },
  {
   "cell_type": "code",
   "execution_count": null,
   "metadata": {},
   "outputs": [
    {
     "name": "stdout",
     "output_type": "stream",
     "text": [
      "\u001b[1m======================================= test session starts ========================================\u001b[0m\n",
      "platform linux -- Python 3.9.13, pytest-8.3.4, pluggy-1.5.0\n",
      "rootdir: /home/panos/Science/git_repos/Building-Robust-Neuroscience-Experiments-with-Python-and-PsychoPy-Dec24/06_pytest\n",
      "plugins: cov-6.0.0\n",
      "collected 1 item\n",
      "\n",
      "t_fbe37e4d5d1d4663a65ba7f128794a73.py \u001b[32m.\u001b[0m\u001b[32m                                                      [100%]\u001b[0m\n",
      "\n",
      "\u001b[32m======================================== \u001b[32m\u001b[1m1 passed\u001b[0m\u001b[32m in 0.12s\u001b[0m\u001b[32m =========================================\u001b[0m\n"
     ]
    }
   ],
   "source": [
    "%%ipytest --verbose\n",
    "\n",
    "def test_load_config():\n",
    "    config = load_config(\"config.json\")\n",
    "    assert type(config[\"conditions\"])==list\n",
    "    for i in config[\"conditions\"]:\n",
    "        assert type(i)==int\n"
   ]
  },
  {
   "cell_type": "code",
   "execution_count": 26,
   "metadata": {},
   "outputs": [
    {
     "name": "stdout",
     "output_type": "stream",
     "text": [
      "\u001b[1m======================================= test session starts ========================================\u001b[0m\n",
      "platform linux -- Python 3.9.13, pytest-8.3.4, pluggy-1.5.0\n",
      "rootdir: /home/panos/Science/git_repos/Building-Robust-Neuroscience-Experiments-with-Python-and-PsychoPy-Dec24/06_pytest\n",
      "plugins: cov-6.0.0\n",
      "collected 1 item\n",
      "\n",
      "t_fbe37e4d5d1d4663a65ba7f128794a73.py \u001b[31mF\u001b[0m\u001b[31m                                                      [100%]\u001b[0m\n",
      "\n",
      "============================================= FAILURES =============================================\n",
      "\u001b[31m\u001b[1m_________________________________________ test_load_config _________________________________________\u001b[0m\n",
      "\n",
      "    \u001b[0m\u001b[94mdef\u001b[39;49;00m \u001b[92mtest_load_config\u001b[39;49;00m():\u001b[90m\u001b[39;49;00m\n",
      "        config = load_config(\u001b[33m\"\u001b[39;49;00m\u001b[33mconfig.json\u001b[39;49;00m\u001b[33m\"\u001b[39;49;00m)\u001b[90m\u001b[39;49;00m\n",
      "        \u001b[90m# assert type(config[\"conditions\"])==List[int]\u001b[39;49;00m\u001b[90m\u001b[39;49;00m\n",
      ">       \u001b[94massert\u001b[39;49;00m \u001b[96misinstance\u001b[39;49;00m(config[\u001b[33m\"\u001b[39;49;00m\u001b[33mconditions\u001b[39;49;00m\u001b[33m\"\u001b[39;49;00m],List[\u001b[96mint\u001b[39;49;00m])\u001b[90m\u001b[39;49;00m\n",
      "\n",
      "\u001b[1m\u001b[31m/tmp/ipykernel_21202/1506622409.py\u001b[0m:6: \n",
      "_ _ _ _ _ _ _ _ _ _ _ _ _ _ _ _ _ _ _ _ _ _ _ _ _ _ _ _ _ _ _ _ _ _ _ _ _ _ _ _ _ _ _ _ _ _ _ _ _ _ \n",
      "\u001b[1m\u001b[31m/home/panos/anaconda3/envs/psychopy39/lib/python3.9/typing.py\u001b[0m:720: in __instancecheck__\n",
      "    \u001b[0m\u001b[94mreturn\u001b[39;49;00m \u001b[96mself\u001b[39;49;00m.\u001b[92m__subclasscheck__\u001b[39;49;00m(\u001b[96mtype\u001b[39;49;00m(obj))\u001b[90m\u001b[39;49;00m\n",
      "_ _ _ _ _ _ _ _ _ _ _ _ _ _ _ _ _ _ _ _ _ _ _ _ _ _ _ _ _ _ _ _ _ _ _ _ _ _ _ _ _ _ _ _ _ _ _ _ _ _ \n",
      "\n",
      "self = typing.List[int], cls = <class 'list'>\n",
      "\n",
      "    \u001b[0m\u001b[94mdef\u001b[39;49;00m \u001b[92m__subclasscheck__\u001b[39;49;00m(\u001b[96mself\u001b[39;49;00m, \u001b[96mcls\u001b[39;49;00m):\u001b[90m\u001b[39;49;00m\n",
      ">       \u001b[94mraise\u001b[39;49;00m \u001b[96mTypeError\u001b[39;49;00m(\u001b[33m\"\u001b[39;49;00m\u001b[33mSubscripted generics cannot be used with\u001b[39;49;00m\u001b[33m\"\u001b[39;49;00m\u001b[90m\u001b[39;49;00m\n",
      "                        \u001b[33m\"\u001b[39;49;00m\u001b[33m class and instance checks\u001b[39;49;00m\u001b[33m\"\u001b[39;49;00m)\u001b[90m\u001b[39;49;00m\n",
      "\u001b[1m\u001b[31mE       TypeError: Subscripted generics cannot be used with class and instance checks\u001b[0m\n",
      "\n",
      "\u001b[1m\u001b[31m/home/panos/anaconda3/envs/psychopy39/lib/python3.9/typing.py\u001b[0m:723: TypeError\n",
      "\u001b[36m\u001b[1m===================================== short test summary info ======================================\u001b[0m\n",
      "\u001b[31mFAILED\u001b[0m t_fbe37e4d5d1d4663a65ba7f128794a73.py::\u001b[1mtest_load_config\u001b[0m - TypeError: Subscripted generics cannot be used with class and instance checks\n",
      "\u001b[31m======================================== \u001b[31m\u001b[1m1 failed\u001b[0m\u001b[31m in 0.58s\u001b[0m\u001b[31m =========================================\u001b[0m\n"
     ]
    }
   ],
   "source": [
    "%%ipytest --verbose\n",
    "\n",
    "from typing import List\n",
    "\n",
    "def test_load_config():\n",
    "    config = load_config(\"config.json\")\n",
    "    # assert type(config[\"conditions\"])==List[int]\n",
    "    assert isinstance(config[\"conditions\"],List[int])\n",
    "    "
   ]
  },
  {
   "cell_type": "markdown",
   "metadata": {},
   "source": [
    "**Exercise** Write a test function that tests that uses `pytest.raises` to test that `load_config` raises a `FileNotFoundError` when trying to load a file that does not exist"
   ]
  },
  {
   "cell_type": "code",
   "execution_count": null,
   "metadata": {},
   "outputs": [],
   "source": [
    "%%ipytest\n",
    "\n",
    "def test_load_config():\n",
    "    config = load_config(\"config.json\")\n",
    "    # assert type(config) == dict\n",
    "    assert \"conditions\" in config\n",
    "    assert \"n_trials\" in config"
   ]
  },
  {
   "cell_type": "markdown",
   "metadata": {},
   "source": [
    "## 3. Runnig Pytest from the Terminal\n",
    "\n",
    "Now that we understand how Pytest works we can start to develop our test module. The tests work exactly the same as in a notebook but you put them in a separate file. Usually this file is named like the file it tests with the \"test_\" prefix (e.g. `test_my_module.py` would contain the tests for `my_module`.py). In the test module, you can import the functions you want to test and then test them.\n",
    "Organizing your test like this has the advantage that you can run all of them by simply calling pytest a single time.\n",
    "Per default, Pytest will open every Python file that starts with `test_` and, inside that file, run every function that starts with `test_`.\n",
    "\n",
    "This folder contains a function called `sequencegen.py` by that contains 3 functions:\n",
    "- `has_repetitions()` which checks if a trial seuquence has repetitions of the same element within the given `min_dist` and returns `True` or `False`\n",
    "- `make_sequene()` that creates a sequence from a list of `conditions` with a given number of `n_trials` and shuffles that list until `has_repetitions()` returns `False`\n",
    "- `write_sequence()` which writes the trials sequence to a file\n",
    "\n",
    "Let's test these functions!"
   ]
  },
  {
   "cell_type": "markdown",
   "metadata": {},
   "source": [
    "\n",
    "\n",
    "**Exercise**: In this folder, create a new script called `test_sequencegen.py` where you `import` the three functions from `sequencegen.py`"
   ]
  },
  {
   "cell_type": "markdown",
   "metadata": {},
   "source": [
    "**Exercise**: In this folder create a new function called `test_has_repetitions()` that tests that:\n",
    "- Calling `test_has_repetitions()` on a list that has a repetition returns `True`\n",
    "- Calling `test_has_repetitions()` on a list that has a repetition returns `False`\n",
    "\n",
    "Then execute the cell below to run Pytest"
   ]
  },
  {
   "cell_type": "code",
   "execution_count": 30,
   "metadata": {},
   "outputs": [
    {
     "name": "stdout",
     "output_type": "stream",
     "text": [
      "\u001b[1m============================= test session starts ==============================\u001b[0m\n",
      "platform linux -- Python 3.9.13, pytest-8.3.4, pluggy-1.5.0\n",
      "rootdir: /home/panos/Science/git_repos/Building-Robust-Neuroscience-Experiments-with-Python-and-PsychoPy-Dec24/06_pytest\n",
      "plugins: cov-6.0.0\n",
      "collected 1 item                                                               \u001b[0m\n",
      "\n",
      "test_sequencegen.py \u001b[31mF\u001b[0m\u001b[31m                                                    [100%]\u001b[0m\n",
      "\n",
      "=================================== FAILURES ===================================\n",
      "\u001b[31m\u001b[1m_____________________________ test_has_repetitions _____________________________\u001b[0m\n",
      "\n",
      "    \u001b[0m\u001b[94mdef\u001b[39;49;00m \u001b[92mtest_has_repetitions\u001b[39;49;00m():\u001b[90m\u001b[39;49;00m\n",
      "        trials = [\u001b[94m1\u001b[39;49;00m, \u001b[94m2\u001b[39;49;00m, \u001b[94m3\u001b[39;49;00m, \u001b[94m4\u001b[39;49;00m, \u001b[94m5\u001b[39;49;00m, \u001b[94m6\u001b[39;49;00m, \u001b[94m7\u001b[39;49;00m, \u001b[94m8\u001b[39;49;00m, \u001b[94m9\u001b[39;49;00m, \u001b[94m10\u001b[39;49;00m]\u001b[90m\u001b[39;49;00m\n",
      "        \u001b[94massert\u001b[39;49;00m has_repetitions(trials, \u001b[94m1\u001b[39;49;00m) == \u001b[94mFalse\u001b[39;49;00m\u001b[90m\u001b[39;49;00m\n",
      "        trials = [\u001b[94m1\u001b[39;49;00m, \u001b[94m2\u001b[39;49;00m, \u001b[94m3\u001b[39;49;00m, \u001b[94m4\u001b[39;49;00m, \u001b[94m5\u001b[39;49;00m, \u001b[94m6\u001b[39;49;00m, \u001b[94m7\u001b[39;49;00m, \u001b[94m8\u001b[39;49;00m, \u001b[94m9\u001b[39;49;00m, \u001b[94m1\u001b[39;49;00m]\u001b[90m\u001b[39;49;00m\n",
      ">       \u001b[94massert\u001b[39;49;00m has_repetitions(trials, \u001b[94m1\u001b[39;49;00m) == \u001b[94mTrue\u001b[39;49;00m\u001b[90m\u001b[39;49;00m\n",
      "\u001b[1m\u001b[31mE       assert False == True\u001b[0m\n",
      "\u001b[1m\u001b[31mE        +  where False = has_repetitions([1, 2, 3, 4, 5, 6, ...], 1)\u001b[0m\n",
      "\n",
      "\u001b[1m\u001b[31mtest_sequencegen.py\u001b[0m:7: AssertionError\n",
      "\u001b[36m\u001b[1m=========================== short test summary info ============================\u001b[0m\n",
      "\u001b[31mFAILED\u001b[0m test_sequencegen.py::\u001b[1mtest_has_repetitions\u001b[0m - assert False == True\n",
      "\u001b[31m============================== \u001b[31m\u001b[1m1 failed\u001b[0m\u001b[31m in 0.76s\u001b[0m\u001b[31m ===============================\u001b[0m\n"
     ]
    }
   ],
   "source": [
    "!pytest"
   ]
  },
  {
   "cell_type": "markdown",
   "metadata": {},
   "source": [
    "**Exercise**: add another function called `test_has_repetitions_respects_min_dist` to test that:\n",
    "- Calling `test_has_repetitions()` on a list that has a repetition further away that `min_dist` returns `False`\n",
    "- Calling `test_has_repetitions()` on a list that has a repetition within `min_dist` returns `True`\n",
    "\n",
    "Then execute the cell below to run Pytest"
   ]
  },
  {
   "cell_type": "code",
   "execution_count": null,
   "metadata": {},
   "outputs": [],
   "source": [
    "!pytest"
   ]
  },
  {
   "cell_type": "markdown",
   "metadata": {},
   "source": [
    "**Exercises**: Write a function called `test_sequence_has_correct_len()` that tests that the sequence returned by `make_sequence` has desired length given by `n_trials`.\n",
    "\n",
    "Then execute the cell below to run Pytest"
   ]
  },
  {
   "cell_type": "code",
   "execution_count": null,
   "metadata": {},
   "outputs": [],
   "source": [
    "!pytest"
   ]
  },
  {
   "cell_type": "markdown",
   "metadata": {},
   "source": [
    "**Exercises**: Write a function called `test_max_iterations()`, that uses `pytest.raises` to test that `make_sequence()` raises a `StopIteration` if you try to generate an impossible sequence (e.g. a sequence with a `min_dist` that is too large).\n",
    "\n",
    "Then execute the cell below to run Pytest"
   ]
  },
  {
   "cell_type": "code",
   "execution_count": null,
   "metadata": {},
   "outputs": [],
   "source": [
    "!pytest"
   ]
  },
  {
   "cell_type": "markdown",
   "metadata": {},
   "source": [
    "Another nice feature of pytest is that it can determine our test coverage which tells us the percentage of code that is covered by our tests.\n",
    "A test coverage below 100% means that there are certain parts of your code that are never executed.\n",
    "This can help us to identify any blind spots in our code. Just run the cell below to let Pytest mesure the test coverage for `sequencegen.py`"
   ]
  },
  {
   "cell_type": "code",
   "execution_count": null,
   "metadata": {},
   "outputs": [],
   "source": [
    "!pytet --cov"
   ]
  },
  {
   "cell_type": "markdown",
   "metadata": {},
   "source": [
    "## 4. Parameterizing Tests\n",
    "\n",
    "Writing assert statements to tests all the different combinations of parameters that may be important for you program can be laborious. This is where parameterization is extremely useful. It provides us with an esy interface to run a large number of test. For example, we could test a function like `add` with a large number of values by parameterizing it with the `range()` function.\n",
    "Pytets will take all those values and run our test function with every single one.\n",
    "For this to work, the name in parameterize `\"a\"` must have the same name as the parameter of the test function `a`.\n",
    "\n",
    "```python\n",
    "@pytest.mark.parametrize(\"a\", range(1000))\n",
    "def test_add(a)\n",
    "    add(a+3) == a+3\n",
    "```\n",
    "\n",
    "We can also parameterize multiple parameters. In this case, we pass in both variable names followed by a list of tuples, each of which contains the parameters for one run of the test. In the example below, `a` will take on the values 1, 3, and 4 and `b` will take on the values `2`, `4` and `6`.\n",
    "\n",
    "```python\n",
    "@pytest.mark.parametrize(\"a, b\", [(1,2), (3,4), (5,6)])\n",
    "def test_add(a, b):\n",
    "    assert add(a+b) == a+b \n",
    "```"
   ]
  },
  {
   "cell_type": "markdown",
   "metadata": {},
   "source": [
    "**Exercise**: Parameterize the function `test_sequence_has_correct_len()` so that it tests that the sequence returned by `make_sequence` has desired length for  different values of `n_trials`"
   ]
  },
  {
   "cell_type": "markdown",
   "metadata": {},
   "source": [
    "**Exercise**: Parameterize the function `test_max_iteration()` so that it tests that it raises a `StopIteration` if you try to generate a sequence with three different impossible combionations of `conditions` and `n_trials`."
   ]
  }
 ],
 "metadata": {
  "kernelspec": {
   "display_name": "psychopy39",
   "language": "python",
   "name": "python3"
  },
  "language_info": {
   "codemirror_mode": {
    "name": "ipython",
    "version": 3
   },
   "file_extension": ".py",
   "mimetype": "text/x-python",
   "name": "python",
   "nbconvert_exporter": "python",
   "pygments_lexer": "ipython3",
   "version": "3.9.13"
  }
 },
 "nbformat": 4,
 "nbformat_minor": 2
}
