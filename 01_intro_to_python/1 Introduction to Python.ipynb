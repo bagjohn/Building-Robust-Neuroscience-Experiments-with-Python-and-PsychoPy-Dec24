{
 "cells": [
  {
   "cell_type": "markdown",
   "metadata": {},
   "source": [
    "# Introduction to Python\n",
    "\n",
    "Welcome to the course!\n",
    "Our aim is to develop robust experiment applications in Python and use structured approaches and techniques for programming that make our lives easier.\n",
    "We start our journey by building or revising our fundamental knowledge of Python.\n",
    "This notebook focuses on how to represent and manipulate different kinds of data using basic Python operations."
   ]
  },
  {
   "cell_type": "code",
   "execution_count": null,
   "metadata": {},
   "outputs": [],
   "source": [
    "# run this cell to check your installation of psychopy\n",
    "%pip install psychopy"
   ]
  },
  {
   "cell_type": "markdown",
   "metadata": {},
   "source": [
    "## 1. Data Types and Variables\n",
    "\n",
    "Programs receive, create and operate on data.\n",
    "There are many different types but a few **essential** ones can be found in most programming languages.\n",
    " In Python, they are called:\n",
    "\n",
    "- **int**: integers or non-decimal numbers, example -7, 0, 101\n",
    "- **float**: floating-point numbers with a limited number of decimal places, for example: 0.1, pi, 1/3\n",
    "- **str**: a string of characters, marked by quotations, for example \"a\", \"13\", \"hello\"\n",
    "- **bool**: boolean logical values, can be either True or False\n",
    "\n",
    "The type determines the range of **values** the data can take on as well as the set of **operations** that can be performed on them (more on this in the next section).\n",
    "For each type there is a function with the same name that converts data to that type.\n",
    "For example `int(x)` converts the value of `x` to an integer --- this is known as **type casting**.\n",
    "\n",
    "\n",
    "### Reference Table\n",
    "| Code                | Description                                                                                    |\n",
    "| ---                 | ---                                                                                            |\n",
    "| `x = 3`             | Assign the integer number `3` to the variable `x`                                              |\n",
    "| `x = 3.14`          | Assign the floating number `3.14` to the variable `x`                                          |\n",
    "| `x = \"hi\"`          | Assign the string `\"hi\"` to the variable `x`                                                   |\n",
    "| `x = True`          | Assign the boolean value `True` to the variable `x`                                            |\n",
    "| `type(x)`           | Get the data type of variable `x`                                                              |\n",
    "| `int(x)`, `float(x)`, `str(x)`, `bool(x)` | Convert the variable `x` to an integer, float, string, boolean  |"
   ]
  },
  {
   "cell_type": "markdown",
   "metadata": {},
   "source": [
    "**Exercise**: Determine the type of `x`"
   ]
  },
  {
   "cell_type": "code",
   "execution_count": 4,
   "metadata": {},
   "outputs": [
    {
     "data": {
      "text/plain": [
       "int"
      ]
     },
     "execution_count": 4,
     "metadata": {},
     "output_type": "execute_result"
    }
   ],
   "source": [
    "a = 123;\n",
    "x=3\n",
    "type(x)"
   ]
  },
  {
   "cell_type": "markdown",
   "metadata": {},
   "source": [
    "**Exercise**: Determine the type of `ok`"
   ]
  },
  {
   "cell_type": "code",
   "execution_count": 5,
   "metadata": {},
   "outputs": [
    {
     "data": {
      "text/plain": [
       "bool"
      ]
     },
     "execution_count": 5,
     "metadata": {},
     "output_type": "execute_result"
    }
   ],
   "source": [
    "ok = True;\n",
    "type(ok)"
   ]
  },
  {
   "cell_type": "markdown",
   "metadata": {},
   "source": [
    "**Exercise**: Convert `n_trials` to a float"
   ]
  },
  {
   "cell_type": "code",
   "execution_count": 8,
   "metadata": {},
   "outputs": [
    {
     "data": {
      "text/plain": [
       "float"
      ]
     },
     "execution_count": 8,
     "metadata": {},
     "output_type": "execute_result"
    }
   ],
   "source": [
    "n_trials = 13;\n",
    "n_trials = float(n_trials)\n",
    "type(n_trials)"
   ]
  },
  {
   "cell_type": "markdown",
   "metadata": {},
   "source": [
    "**Exercise**: Convert `percent` to a string"
   ]
  },
  {
   "cell_type": "code",
   "execution_count": 9,
   "metadata": {},
   "outputs": [],
   "source": [
    "percent = 0.75;\n",
    "percent = str(percent)"
   ]
  },
  {
   "cell_type": "markdown",
   "metadata": {},
   "source": [
    "**Exercise**: Convert `nothing` to a boolean"
   ]
  },
  {
   "cell_type": "code",
   "execution_count": 10,
   "metadata": {},
   "outputs": [
    {
     "name": "stdout",
     "output_type": "stream",
     "text": [
      "False\n"
     ]
    }
   ],
   "source": [
    "nothing = \"\";\n",
    "nothing= bool(nothing)\n",
    "print(nothing)"
   ]
  },
  {
   "cell_type": "markdown",
   "metadata": {},
   "source": [
    "**Exercise**: Create a boolean variable that is `False` and convert it to an integer"
   ]
  },
  {
   "cell_type": "code",
   "execution_count": 11,
   "metadata": {},
   "outputs": [
    {
     "data": {
      "text/plain": [
       "0"
      ]
     },
     "execution_count": 11,
     "metadata": {},
     "output_type": "execute_result"
    }
   ],
   "source": [
    "x=False\n",
    "x= int(x)\n",
    "x"
   ]
  },
  {
   "cell_type": "markdown",
   "metadata": {},
   "source": [
    "**Exercise**: Create a float variable that is `0.001` and convert it to a string"
   ]
  },
  {
   "cell_type": "code",
   "execution_count": 12,
   "metadata": {},
   "outputs": [
    {
     "data": {
      "text/plain": [
       "'0.001'"
      ]
     },
     "execution_count": 12,
     "metadata": {},
     "output_type": "execute_result"
    }
   ],
   "source": [
    "x=0.001\n",
    "x= str(x)\n",
    "x"
   ]
  },
  {
   "cell_type": "markdown",
   "metadata": {},
   "source": [
    "**Exercise**: Create a string variable `\"Hello\"` and convert it to a boolean"
   ]
  },
  {
   "cell_type": "code",
   "execution_count": 14,
   "metadata": {},
   "outputs": [
    {
     "data": {
      "text/plain": [
       "True"
      ]
     },
     "execution_count": 14,
     "metadata": {},
     "output_type": "execute_result"
    }
   ],
   "source": [
    "x=\"False\"\n",
    "x= bool(x)\n",
    "x"
   ]
  },
  {
   "cell_type": "markdown",
   "metadata": {},
   "source": [
    "## 2. Operators\n",
    "\n",
    "Operators are special symbols or keywords that perform operations on values and variables.\n",
    "They're the basic tools Python uses to work with data.\n",
    "One important class are arithmetic operators, like `+` and `*`.\n",
    "In some situations, these behave as you would expect: for example, adding two numbers computes their sum.\n",
    "However, sometimes they do things that may be unexpected: for example, adding two strings concatenates them.\n",
    "Some combinations of data types an operators are not defined at all: for example, you can't subtract one string from another.\n",
    "Another important class are comparisons such as `<` or `==`.\n",
    "These allow us to ask: is one value greater, smaller or the same as another one, and they always return either `True` or `False`.\n",
    "\n",
    "### Reference Table\n",
    "\n",
    "|Code                             |Description                                                         |\n",
    "|---                              |---                                                                 |\n",
    "|`x+y`,`x-y`,`x/y`, `x*y`         | Add, subtract, divide, multiply two numbers `x` and `y`            |\n",
    "| `x<y`, `x>y`, `x==y`, `x!=y`    | Check whether `x` is smaller, larger, equal to, not equal to `y`   |\n",
    "| `x<=y`, `x>=y`                  | Check whether `x` is smaller than or equal to, larger than or equal to `y` |\n",
    "| `\"Psycho\"+\"Py\"`                 | Concatenate the two strings (result: `\"PsychoPy\"`)                 |\n",
    "| `\"pew\" * 2`                     | Repeat the string two times (result: `\"pewpew\"`)                   |\n",
    "| `9 ** 2`                        | Square the number `9` (result: `81`)                               |\n",
    "| `7 % 3`                         | Get the remainder of dividing `7` by `3` (result: `1`)             |"
   ]
  },
  {
   "cell_type": "markdown",
   "metadata": {},
   "source": [
    "**Exercise**: Add `134` and `4721`"
   ]
  },
  {
   "cell_type": "code",
   "execution_count": 16,
   "metadata": {},
   "outputs": [
    {
     "data": {
      "text/plain": [
       "4855"
      ]
     },
     "execution_count": 16,
     "metadata": {},
     "output_type": "execute_result"
    }
   ],
   "source": [
    "x=134\n",
    "y=4721\n",
    "x+y"
   ]
  },
  {
   "cell_type": "markdown",
   "metadata": {},
   "source": [
    "**Exercise**: What is the remainder of dividng 13 by 5?"
   ]
  },
  {
   "cell_type": "code",
   "execution_count": 17,
   "metadata": {},
   "outputs": [
    {
     "data": {
      "text/plain": [
       "3"
      ]
     },
     "execution_count": 17,
     "metadata": {},
     "output_type": "execute_result"
    }
   ],
   "source": [
    "x=13\n",
    "y=5\n",
    "x%y"
   ]
  },
  {
   "cell_type": "markdown",
   "metadata": {},
   "source": [
    "**Exercise**: What is `567` squared?"
   ]
  },
  {
   "cell_type": "code",
   "execution_count": 18,
   "metadata": {},
   "outputs": [
    {
     "data": {
      "text/plain": [
       "321489"
      ]
     },
     "execution_count": 18,
     "metadata": {},
     "output_type": "execute_result"
    }
   ],
   "source": [
    "x=567\n",
    "x**2"
   ]
  },
  {
   "cell_type": "markdown",
   "metadata": {},
   "source": [
    "**Exercise**: Concatenate the two strings"
   ]
  },
  {
   "cell_type": "code",
   "execution_count": 19,
   "metadata": {},
   "outputs": [
    {
     "data": {
      "text/plain": [
       "'HelloWorld'"
      ]
     },
     "execution_count": 19,
     "metadata": {},
     "output_type": "execute_result"
    }
   ],
   "source": [
    "x = \"Hello\"\n",
    "y = \"World\";\n",
    "x+y"
   ]
  },
  {
   "cell_type": "markdown",
   "metadata": {},
   "source": [
    "**Exercise**: What is the data type of the result from dividing `6` by `2`"
   ]
  },
  {
   "cell_type": "code",
   "execution_count": 20,
   "metadata": {},
   "outputs": [
    {
     "data": {
      "text/plain": [
       "float"
      ]
     },
     "execution_count": 20,
     "metadata": {},
     "output_type": "execute_result"
    }
   ],
   "source": [
    "x=6\n",
    "y=2\n",
    "type(x/y)"
   ]
  },
  {
   "cell_type": "markdown",
   "metadata": {},
   "source": [
    "**Exercise**: What is larger? 23 times 81 or 44 squared?"
   ]
  },
  {
   "cell_type": "code",
   "execution_count": 21,
   "metadata": {},
   "outputs": [
    {
     "data": {
      "text/plain": [
       "False"
      ]
     },
     "execution_count": 21,
     "metadata": {},
     "output_type": "execute_result"
    }
   ],
   "source": [
    "x1=23\n",
    "x2=81\n",
    "y=44\n",
    "x1*x2>y**2\n"
   ]
  },
  {
   "cell_type": "markdown",
   "metadata": {},
   "source": [
    "**Exercise**: Divide 28 by the sum of 3 and 5"
   ]
  },
  {
   "cell_type": "code",
   "execution_count": 22,
   "metadata": {},
   "outputs": [
    {
     "data": {
      "text/plain": [
       "3.5"
      ]
     },
     "execution_count": 22,
     "metadata": {},
     "output_type": "execute_result"
    }
   ],
   "source": [
    "x=28\n",
    "y1,y2=3,5\n",
    "x/(y1+y2)"
   ]
  },
  {
   "cell_type": "markdown",
   "metadata": {},
   "source": [
    "**Exercise**: Repeat the string below 3 times"
   ]
  },
  {
   "cell_type": "code",
   "execution_count": 24,
   "metadata": {},
   "outputs": [
    {
     "name": "stdout",
     "output_type": "stream",
     "text": [
      "List with 3 elements ['He', 'He', 'He']\n",
      "Concatenated string of 3 elements HeHeHe\n"
     ]
    }
   ],
   "source": [
    "he = \"He\";\n",
    "print(\"List with 3 elements\", [he]*3)\n",
    "print(\"Concatenated string of 3 elements\", he*3)"
   ]
  },
  {
   "cell_type": "markdown",
   "metadata": {},
   "source": [
    "**Exercise**: Which string value is larger, `\"a\"` or `\"b\"`?"
   ]
  },
  {
   "cell_type": "code",
   "execution_count": 30,
   "metadata": {},
   "outputs": [
    {
     "name": "stdout",
     "output_type": "stream",
     "text": [
      "equal length\n"
     ]
    },
    {
     "data": {
      "text/plain": [
       "True"
      ]
     },
     "execution_count": 30,
     "metadata": {},
     "output_type": "execute_result"
    }
   ],
   "source": [
    "if len(\"a\")>len(\"b\"):\n",
    "    print(\"a\")\n",
    "elif len(\"a\")<len(\"b\"):\n",
    "    print(\"b\")\n",
    "else:\n",
    "    print(\"equal length\")\n",
    "    \n",
    "\"c\">\"b\""
   ]
  },
  {
   "cell_type": "markdown",
   "metadata": {},
   "source": [
    "**Exercise**: Can `N` be evenly divided by 3?\n"
   ]
  },
  {
   "cell_type": "code",
   "execution_count": 32,
   "metadata": {},
   "outputs": [
    {
     "name": "stdout",
     "output_type": "stream",
     "text": [
      "False\n"
     ]
    }
   ],
   "source": [
    "N = 35627\n",
    "print(N%3==0)"
   ]
  },
  {
   "cell_type": "markdown",
   "metadata": {},
   "source": [
    "## 3. Lists\n",
    "\n",
    "Often, we want to represent not only a single datum but collections of data.\n",
    "The `list` is a datatype that allows us to do exactly that.\n",
    "Think of lists as a container that can hold any kind of data --- even other lists.\n",
    "Since lists are ordered we can also access specific elements of the list by providing their indices.\n",
    "One think to keep in mind is that Python starts to count at 0 so `x[0]` will return the 1st element of a list and `x[1]` will actually return the second one.\n",
    "\n",
    "### Reference Table\n",
    "|Code|Description|\n",
    "|---|---|\n",
    "| `x = [7, 1, 4]` | Define a list containing three values |\n",
    "| `[2, 3] + [1]` | Concatenate two lists (result: `(2,3,1)`)|\n",
    "| `[1] * 3`      | Repeat the list (result: `[1,1,1]`)|\n",
    "| `x[-1]`       | Get the last element of `x`   |\n",
    "| `x[2:5]`      |  Get the 3rd, 4th and 5th element of `x`|\n",
    "| `x[1:]`       | Get all elements of `x`, except the first |\n",
    "| `x.append(1)` |  Append the number `1` to the list `x`|\n",
    "| `len(x)` | Get the length (i.e. number of elements in) a tuple or list `x`| \n",
    "| `sum(x)`  | Get the sum of a tuple or list `x` |\n"
   ]
  },
  {
   "cell_type": "markdown",
   "metadata": {},
   "source": [
    "**Exercise**: Create a list that contains the numbers 1, 2, and 3"
   ]
  },
  {
   "cell_type": "code",
   "execution_count": 33,
   "metadata": {},
   "outputs": [],
   "source": [
    "l=[1,2,3]"
   ]
  },
  {
   "cell_type": "markdown",
   "metadata": {},
   "source": [
    "**Exercise**: Concatenate the two lists defined below"
   ]
  },
  {
   "cell_type": "code",
   "execution_count": 34,
   "metadata": {},
   "outputs": [
    {
     "data": {
      "text/plain": [
       "['mo', 'tue', 'wed', 'thu', 'fr', 'Sa', 'Sun']"
      ]
     },
     "execution_count": 34,
     "metadata": {},
     "output_type": "execute_result"
    }
   ],
   "source": [
    "weekdays = [\"mo\", \"tue\", \"wed\", \"thu\", \"fr\"]\n",
    "weekend = [\"Sa\", \"Sun\"]\n",
    "weekdays+weekend"
   ]
  },
  {
   "cell_type": "markdown",
   "metadata": {},
   "source": [
    "**Exercise**: Append the next number `8` to the `fibonacci` list"
   ]
  },
  {
   "cell_type": "code",
   "execution_count": 35,
   "metadata": {},
   "outputs": [
    {
     "data": {
      "text/plain": [
       "[0, 1, 1, 2, 3, 5, 8]"
      ]
     },
     "execution_count": 35,
     "metadata": {},
     "output_type": "execute_result"
    }
   ],
   "source": [
    "fibonacci = [0, 1, 1, 2, 3, 5];\n",
    "fibonacci.append(8)\n",
    "fibonacci"
   ]
  },
  {
   "cell_type": "markdown",
   "metadata": {},
   "source": [
    "**Exercise**: Get the length of the list of `zeros` defined below"
   ]
  },
  {
   "cell_type": "code",
   "execution_count": 36,
   "metadata": {},
   "outputs": [
    {
     "data": {
      "text/plain": [
       "92"
      ]
     },
     "execution_count": 36,
     "metadata": {},
     "output_type": "execute_result"
    }
   ],
   "source": [
    "zeros = [0, 0, 0, 0] * 23;\n",
    "len(zeros)"
   ]
  },
  {
   "cell_type": "markdown",
   "metadata": {},
   "source": [
    "**Exercise**: What is the sum of the list `true_and_false`?"
   ]
  },
  {
   "cell_type": "code",
   "execution_count": 37,
   "metadata": {},
   "outputs": [
    {
     "data": {
      "text/plain": [
       "4"
      ]
     },
     "execution_count": 37,
     "metadata": {},
     "output_type": "execute_result"
    }
   ],
   "source": [
    "true_and_false = [True, False, False, True, True, True]\n",
    "sum(true_and_false)"
   ]
  },
  {
   "cell_type": "markdown",
   "metadata": {},
   "source": [
    "**Exercise**: Get the 3rd element of the `dice_numbers` list"
   ]
  },
  {
   "cell_type": "code",
   "execution_count": 38,
   "metadata": {},
   "outputs": [
    {
     "data": {
      "text/plain": [
       "3"
      ]
     },
     "execution_count": 38,
     "metadata": {},
     "output_type": "execute_result"
    }
   ],
   "source": [
    "dice_numbers = [1, 2, 3, 4, 5, 6];\n",
    "dice_numbers[2]"
   ]
  },
  {
   "cell_type": "markdown",
   "metadata": {},
   "source": [
    "**Exercise**: Get all letters of the `alphabet` except for `\"z\"`"
   ]
  },
  {
   "cell_type": "code",
   "execution_count": 40,
   "metadata": {},
   "outputs": [
    {
     "data": {
      "text/plain": [
       "['a',\n",
       " 'b',\n",
       " 'c',\n",
       " 'd',\n",
       " 'e',\n",
       " 'f',\n",
       " 'g',\n",
       " 'h',\n",
       " 'i',\n",
       " 'j',\n",
       " 'k',\n",
       " 'l',\n",
       " 'm',\n",
       " 'n',\n",
       " 'o',\n",
       " 'p',\n",
       " 'q',\n",
       " 'r',\n",
       " 's',\n",
       " 't',\n",
       " 'u',\n",
       " 'v',\n",
       " 'w',\n",
       " 'x',\n",
       " 'y']"
      ]
     },
     "execution_count": 40,
     "metadata": {},
     "output_type": "execute_result"
    }
   ],
   "source": [
    "alphabet = ['a', 'b', 'c', 'd', 'e', 'f', 'g', 'h', 'i', 'j', 'k', 'l', 'm', 'n', 'o', 'p', 'q', 'r', 's', 't', 'u', 'v', 'w', 'x', 'y', 'z'];\n",
    "alphabet.remove('z')\n",
    "alphabet"
   ]
  },
  {
   "cell_type": "markdown",
   "metadata": {},
   "source": [
    "**Exercise**: Create a list of 100 zeros"
   ]
  },
  {
   "cell_type": "code",
   "execution_count": 41,
   "metadata": {},
   "outputs": [
    {
     "data": {
      "text/plain": [
       "100"
      ]
     },
     "execution_count": 41,
     "metadata": {},
     "output_type": "execute_result"
    }
   ],
   "source": [
    "z100=[0]*100\n",
    "len(z100)"
   ]
  },
  {
   "cell_type": "markdown",
   "metadata": {},
   "source": [
    "**Exercise**: Which of the two lists defined below is longer?"
   ]
  },
  {
   "cell_type": "code",
   "execution_count": null,
   "metadata": {},
   "outputs": [
    {
     "data": {
      "text/plain": [
       "False"
      ]
     },
     "execution_count": 60,
     "metadata": {},
     "output_type": "execute_result"
    }
   ],
   "source": [
    "list_of_lists = [[[3], [1]], [[2]]]\n",
    "l1=list_of_lists[0]\n",
    "l2=list_of_lists[1]\n",
    "l1>l2"
   ]
  },
  {
   "cell_type": "code",
   "execution_count": null,
   "metadata": {},
   "outputs": [],
   "source": []
  },
  {
   "cell_type": "markdown",
   "metadata": {},
   "source": [
    "## BONUS: Puzzles\n",
    "\n",
    "Here is a little bonus section that lets you explore some more intricate details of data types and operators and see some ways in which they can produce unexpected results."
   ]
  },
  {
   "cell_type": "markdown",
   "metadata": {},
   "source": [
    "**Excercise**: Compute the square root of 1156 using only the operators introduced in this notebook"
   ]
  },
  {
   "cell_type": "code",
   "execution_count": 42,
   "metadata": {},
   "outputs": [
    {
     "data": {
      "text/plain": [
       "34.0"
      ]
     },
     "execution_count": 42,
     "metadata": {},
     "output_type": "execute_result"
    }
   ],
   "source": [
    "1156**0.5"
   ]
  },
  {
   "cell_type": "markdown",
   "metadata": {},
   "source": [
    "**Excercise**: What percentage of Elements in the list below is `True`?"
   ]
  },
  {
   "cell_type": "code",
   "execution_count": 45,
   "metadata": {},
   "outputs": [
    {
     "name": "stdout",
     "output_type": "stream",
     "text": [
      "Percentage of 1s is 42.857142857142854\n"
     ]
    }
   ],
   "source": [
    "was_hit = [True, False, True, True, False, False, True, False, False, True, False, False, False, True]\n",
    "p=sum(was_hit)/len(was_hit)*100\n",
    "print(\"Percentage of 1s is\", p)"
   ]
  },
  {
   "cell_type": "markdown",
   "metadata": {},
   "source": [
    "**Exercise**: What happens if you convert a boolean value `False` to a `str` and then back to a `bool`?"
   ]
  },
  {
   "cell_type": "code",
   "execution_count": 47,
   "metadata": {},
   "outputs": [
    {
     "data": {
      "text/plain": [
       "(False, 'False', True)"
      ]
     },
     "execution_count": 47,
     "metadata": {},
     "output_type": "execute_result"
    }
   ],
   "source": [
    "x1=False\n",
    "x2=str(x1)\n",
    "x3=bool(x2)\n",
    "x1, x2,x3"
   ]
  },
  {
   "cell_type": "markdown",
   "metadata": {},
   "source": [
    "**Exercise**: Check if `0.1 + 0.2` is equal to `0.3`:"
   ]
  },
  {
   "cell_type": "code",
   "execution_count": 63,
   "metadata": {},
   "outputs": [
    {
     "name": "stdout",
     "output_type": "stream",
     "text": [
      "With math.isclose True\n",
      "With round (,2) True\n"
     ]
    }
   ],
   "source": [
    "import math\n",
    "\n",
    "x1,x2,x3=0.1,0.2,0.3\n",
    "print(\"With math.isclose\", math.isclose(x1+x2,x3))\n",
    "print(\"With round (,2)\", round(x1+x2,2)==round(x3,2))"
   ]
  },
  {
   "cell_type": "code",
   "execution_count": null,
   "metadata": {},
   "outputs": [],
   "source": []
  }
 ],
 "metadata": {
  "kernelspec": {
   "display_name": "psychopy39",
   "language": "python",
   "name": "python3"
  },
  "language_info": {
   "codemirror_mode": {
    "name": "ipython",
    "version": 3
   },
   "file_extension": ".py",
   "mimetype": "text/x-python",
   "name": "python",
   "nbconvert_exporter": "python",
   "pygments_lexer": "ipython3",
   "version": "3.9.13"
  }
 },
 "nbformat": 4,
 "nbformat_minor": 2
}
