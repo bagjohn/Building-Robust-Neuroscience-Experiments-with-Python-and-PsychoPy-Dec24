{
 "cells": [
  {
   "cell_type": "markdown",
   "metadata": {},
   "source": [
    "# Introduction to Python\n",
    "\n",
    "Welcome to the course!\n",
    "Our aim is to develop robust experiment applications in Python and use structured approaches and techniques for programming that make our lives easier.\n",
    "We start our journey by building or revising our fundamental knowledge of Python.\n",
    "This notebook focuses on how to represent and manipulate different kinds of data using basic Python operations."
   ]
  },
  {
   "cell_type": "code",
   "execution_count": null,
   "metadata": {},
   "outputs": [],
   "source": [
    "# run this cell to check your installation of psychopy\n",
    "%pip install psychopy"
   ]
  },
  {
   "cell_type": "markdown",
   "metadata": {},
   "source": [
    "## 1. Data Types and Variables\n",
    "\n",
    "Programs receive, create and operate on data.\n",
    "There are many different types but a few **essential** ones can be found in most programming languages.\n",
    " In Python, they are called:\n",
    "\n",
    "- **int**: integers or non-decimal numbers, example -7, 0, 101\n",
    "- **float**: floating-point numbers with a limited number of decimal places, for example: 0.1, pi, 1/3\n",
    "- **str**: a string of characters, marked by quotations, for example \"a\", \"13\", \"hello\"\n",
    "- **bool**: boolean logical values, can be either True or False\n",
    "\n",
    "The type determines the range of **values** the data can take on as well as the set of **operations** that can be performed on them (more on this in the next section).\n",
    "For each type there is a function with the same name that converts data to that type.\n",
    "For example `int(x)` converts the value of `x` to an integer --- this is known as **type casting**.\n",
    "\n",
    "\n",
    "### Reference Table\n",
    "| Code                | Description                                                                                    |\n",
    "| ---                 | ---                                                                                            |\n",
    "| `x = 3`             | Assign the integer number `3` to the variable `x`                                              |\n",
    "| `x = 3.14`          | Assign the floating number `3.14` to the variable `x`                                          |\n",
    "| `x = \"hi\"`          | Assign the string `\"hi\"` to the variable `x`                                                   |\n",
    "| `x = True`          | Assign the boolean value `True` to the variable `x`                                            |\n",
    "| `type(x)`           | Get the data type of variable `x`                                                              |\n",
    "| `int(x)`, `float(x)`, `str(x)`, `bool(x)` | Convert the variable `x` to an integer, float, string, boolean  |"
   ]
  },
  {
   "cell_type": "markdown",
   "metadata": {},
   "source": [
    "**Exercise**: Determine the type of `x`"
   ]
  },
  {
   "cell_type": "code",
   "execution_count": null,
   "metadata": {},
   "outputs": [],
   "source": [
    "a = 123;"
   ]
  },
  {
   "cell_type": "markdown",
   "metadata": {},
   "source": [
    "**Exercise**: Determine the type of `ok`"
   ]
  },
  {
   "cell_type": "code",
   "execution_count": null,
   "metadata": {},
   "outputs": [],
   "source": [
    "ok = True;"
   ]
  },
  {
   "cell_type": "markdown",
   "metadata": {},
   "source": [
    "**Exercise**: Convert `n_trials` to a float"
   ]
  },
  {
   "cell_type": "code",
   "execution_count": null,
   "metadata": {},
   "outputs": [],
   "source": [
    "n_trials = 13;"
   ]
  },
  {
   "cell_type": "markdown",
   "metadata": {},
   "source": [
    "**Exercise**: Convert `percent` to a string"
   ]
  },
  {
   "cell_type": "code",
   "execution_count": null,
   "metadata": {},
   "outputs": [],
   "source": [
    "percent = 0.75;"
   ]
  },
  {
   "cell_type": "markdown",
   "metadata": {},
   "source": [
    "**Exercise**: Convert `nothing` to a boolean"
   ]
  },
  {
   "cell_type": "code",
   "execution_count": null,
   "metadata": {},
   "outputs": [],
   "source": [
    "nothing = \"\";"
   ]
  },
  {
   "cell_type": "markdown",
   "metadata": {},
   "source": [
    "**Exercise**: Create a boolean variable that is `False` and convert it to an integer"
   ]
  },
  {
   "cell_type": "markdown",
   "metadata": {},
   "source": [
    "**Exercise**: Create a float variable that is `0.001` and convert it to a string"
   ]
  },
  {
   "cell_type": "markdown",
   "metadata": {},
   "source": [
    "**Exercise**: Create a string variable `\"Hello\"` and convert it to a boolean"
   ]
  },
  {
   "cell_type": "markdown",
   "metadata": {},
   "source": [
    "## 2. Operators\n",
    "\n",
    "Operators are special symbols or keywords that perform operations on values and variables.\n",
    "They're the basic tools Python uses to work with data.\n",
    "One important class are arithmetic operators, like `+` and `*`.\n",
    "In some situations, these behave as you would expect: for example, adding two numbers computes their sum.\n",
    "However, sometimes they do things that may be unexpected: for example, adding two strings concatenates them.\n",
    "Some combinations of data types an operators are not defined at all: for example, you can't subtract one string from another.\n",
    "Another important class are comparisons such as `<` or `==`.\n",
    "These allow us to ask: is one value greater, smaller or the same as another one, and they always return either `True` or `False`.\n",
    "\n",
    "### Reference Table\n",
    "\n",
    "|Code                             |Description                                                         |\n",
    "|---                              |---                                                                 |\n",
    "|`x+y`,`x-y`,`x/y`, `x*y`         | Add, subtract, divide, multiply two numbers `x` and `y`            |\n",
    "| `x<y`, `x>y`, `x==y`, `x!=y`    | Check whether `x` is smaller, larger, equal to, not equal to `y`   |\n",
    "| `x<=y`, `x>=y`                  | Check whether `x` is smaller than or equal to, larger than or equal to `y` |\n",
    "| `\"Psycho\"+\"Py\"`                 | Concatenate the two strings (result: `\"PsychoPy\"`)                 |\n",
    "| `\"pew\" * 2`                     | Repeat the string two times (result: `\"pewpew\"`)                   |\n",
    "| `9 ** 2`                        | Square the number `9` (result: `81`)                               |\n",
    "| `7 % 3`                         | Get the remainder of dividing `7` by `3` (result: `1`)             |"
   ]
  },
  {
   "cell_type": "markdown",
   "metadata": {},
   "source": [
    "**Exercise**: Add `134` and `4721`"
   ]
  },
  {
   "cell_type": "markdown",
   "metadata": {},
   "source": [
    "**Exercise**: What is the remainder of dividng 13 by 5?"
   ]
  },
  {
   "cell_type": "markdown",
   "metadata": {},
   "source": [
    "**Exercise**: What is `567` squared?"
   ]
  },
  {
   "cell_type": "markdown",
   "metadata": {},
   "source": [
    "**Exercise**: Concatenate the two strings"
   ]
  },
  {
   "cell_type": "code",
   "execution_count": null,
   "metadata": {},
   "outputs": [],
   "source": [
    "x = \"Hello\"\n",
    "y = \"World\";"
   ]
  },
  {
   "cell_type": "markdown",
   "metadata": {},
   "source": [
    "**Exercise**: What is the data type of the result from dividing `6` by `2`"
   ]
  },
  {
   "cell_type": "markdown",
   "metadata": {},
   "source": [
    "**Exercise**: What is larger? 23 times 81 or 44 squared?"
   ]
  },
  {
   "cell_type": "markdown",
   "metadata": {},
   "source": [
    "**Exercise**: Divide 28 by the sum of 3 and 5"
   ]
  },
  {
   "cell_type": "markdown",
   "metadata": {},
   "source": [
    "**Exercise**: Repeat the string below 3 times"
   ]
  },
  {
   "cell_type": "code",
   "execution_count": null,
   "metadata": {},
   "outputs": [],
   "source": [
    "he = \"He\";"
   ]
  },
  {
   "cell_type": "markdown",
   "metadata": {},
   "source": [
    "**Exercise**: Which string value is larger, `\"a\"` or `\"b\"`?"
   ]
  },
  {
   "cell_type": "markdown",
   "metadata": {},
   "source": [
    "**Exercise**: Can `N` be evenly divided by 3?\n"
   ]
  },
  {
   "cell_type": "code",
   "execution_count": null,
   "metadata": {},
   "outputs": [],
   "source": [
    "N = 35627"
   ]
  },
  {
   "cell_type": "markdown",
   "metadata": {},
   "source": [
    "## 3. Lists\n",
    "\n",
    "Often, we want to represent not only a single datum but collections of data.\n",
    "The `list` is a datatype that allows us to do exactly that.\n",
    "Think of lists as a container that can hold any kind of data --- even other lists.\n",
    "Since lists are ordered we can also access specific elements of the list by providing their indices.\n",
    "One think to keep in mind is that Python starts to count at 0 so `x[0]` will return the 1st element of a list and `x[1]` will actually return the second one.\n",
    "\n",
    "### Reference Table\n",
    "|Code|Description|\n",
    "|---|---|\n",
    "| `x = [7, 1, 4]` | Define a list containing three values |\n",
    "| `[2, 3] + [1]` | Concatenate two lists (result: `(2,3,1)`)|\n",
    "| `[1] * 3`      | Repeat the list (result: `[1,1,1]`)|\n",
    "| `x[-1]`       | Get the last element of `x`   |\n",
    "| `x[2:5]`      |  Get the 3rd, 4th and 5th element of `x`|\n",
    "| `x[1:]`       | Get all elements of `x`, except the first |\n",
    "| `x.append(1)` |  Append the number `1` to the list `x`|\n",
    "| `len(x)` | Get the length (i.e. number of elements in) a tuple or list `x`| \n",
    "| `sum(x)`  | Get the sum of a tuple or list `x` |\n"
   ]
  },
  {
   "cell_type": "markdown",
   "metadata": {},
   "source": [
    "**Exercise**: Create a list that contains the numbers 1, 2, and 3"
   ]
  },
  {
   "cell_type": "markdown",
   "metadata": {},
   "source": [
    "**Exercise**: Concatenate the two lists defined below"
   ]
  },
  {
   "cell_type": "code",
   "execution_count": null,
   "metadata": {},
   "outputs": [],
   "source": [
    "weekdays = [\"mo\", \"tue\", \"wed\", \"thu\", \"fr\"]\n",
    "weekend = [\"Sa\", \"Sun\"]"
   ]
  },
  {
   "cell_type": "markdown",
   "metadata": {},
   "source": [
    "**Exercise**: Append the next number `8` to the `fibonacci` list"
   ]
  },
  {
   "cell_type": "code",
   "execution_count": null,
   "metadata": {},
   "outputs": [],
   "source": [
    "fibonacci = [0, 1, 1, 2, 3, 5];"
   ]
  },
  {
   "cell_type": "markdown",
   "metadata": {},
   "source": [
    "**Exercise**: Get the length of the list of `zeros` defined below"
   ]
  },
  {
   "cell_type": "code",
   "execution_count": null,
   "metadata": {},
   "outputs": [],
   "source": [
    "zeros = [0, 0, 0, 0] * 23;"
   ]
  },
  {
   "cell_type": "markdown",
   "metadata": {},
   "source": [
    "**Exercise**: What is the sum of the list `true_and_false`?"
   ]
  },
  {
   "cell_type": "code",
   "execution_count": null,
   "metadata": {},
   "outputs": [],
   "source": [
    "true_and_false = [True, False, False, True, True, True]"
   ]
  },
  {
   "cell_type": "markdown",
   "metadata": {},
   "source": [
    "**Exercise**: Get the 3rd element of the `dice_numbers` list"
   ]
  },
  {
   "cell_type": "code",
   "execution_count": null,
   "metadata": {},
   "outputs": [],
   "source": [
    "dice_numbers = [1, 2, 3, 4, 5, 6];"
   ]
  },
  {
   "cell_type": "markdown",
   "metadata": {},
   "source": [
    "**Exercise**: Get all letters of the `alphabet` except for `\"z\"`"
   ]
  },
  {
   "cell_type": "code",
   "execution_count": null,
   "metadata": {},
   "outputs": [],
   "source": [
    "alphabet = ['a', 'b', 'c', 'd', 'e', 'f', 'g', 'h', 'i', 'j', 'k', 'l', 'm', 'n', 'o', 'p', 'q', 'r', 's', 't', 'u', 'v', 'w', 'x', 'y', 'z'];"
   ]
  },
  {
   "cell_type": "markdown",
   "metadata": {},
   "source": [
    "**Exercise**: Create a list of 100 zeros"
   ]
  },
  {
   "cell_type": "markdown",
   "metadata": {},
   "source": [
    "**Exercise**: Which of the two lists defined below is longer?"
   ]
  },
  {
   "cell_type": "markdown",
   "metadata": {},
   "source": [
    "## BONUS: Puzzles\n",
    "\n",
    "Here is a little bonus section that lets you explore some more intricate details of data types and operators and see some ways in which they can produce unexpected results."
   ]
  },
  {
   "cell_type": "markdown",
   "metadata": {},
   "source": [
    "**Excercise**: Compute the square root of 1156 using only the operators introduced in this notebook"
   ]
  },
  {
   "cell_type": "markdown",
   "metadata": {},
   "source": [
    "**Excercise**: What percentage of Elements in the list below is `True`?"
   ]
  },
  {
   "cell_type": "code",
   "execution_count": null,
   "metadata": {},
   "outputs": [],
   "source": [
    "was_hit = [True, False, True, True, False, False, True, False, False, True, False, False, False, True]"
   ]
  },
  {
   "cell_type": "markdown",
   "metadata": {},
   "source": [
    "**Exercise**: What happens if you convert a boolean value `False` to a `str` and then back to a `bool`?"
   ]
  },
  {
   "cell_type": "markdown",
   "metadata": {},
   "source": [
    "**Exercise**: Check if `0.1 + 0.2` is equal to `0.3`:"
   ]
  },
  {
   "cell_type": "markdown",
   "metadata": {},
   "source": [
    "**Excercise**: Compute the square root of 1156 using only the operators introduced in this notebook"
   ]
  },
  {
   "cell_type": "code",
   "execution_count": null,
   "metadata": {},
   "outputs": [],
   "source": [
    "list_of_lists = [[[3], [1]], [[2]]]"
   ]
  }
 ],
 "metadata": {
  "kernelspec": {
   "display_name": "psychopy",
   "language": "python",
   "name": "python3"
  },
  "language_info": {
   "codemirror_mode": {
    "name": "ipython",
    "version": 3
   },
   "file_extension": ".py",
   "mimetype": "text/x-python",
   "name": "python",
   "nbconvert_exporter": "python",
   "pygments_lexer": "ipython3",
   "version": "3.10.16"
  }
 },
 "nbformat": 4,
 "nbformat_minor": 2
}
