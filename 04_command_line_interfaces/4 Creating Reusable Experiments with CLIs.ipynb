{
 "cells": [
  {
   "cell_type": "markdown",
   "metadata": {
    "vscode": {
     "languageId": "plaintext"
    }
   },
   "source": [
    "# Creating Reusable Experiments with Command Line Interfaces\n",
    "\n",
    "In the previous session, we learned how to use configuration files to make our experiments more reusable. However, this approach still requires us to change something when we want to change the behavior of the experiment, namely the configuration file. What if there are parameters that I want to change regularly, maybe even on every single run of the experiment (e.g. the subject ID). Always changing the config file does not seem like a good strategy for that.\n",
    "This is where command line interfaces (CLIs) come into play. A CLI provides an easy and convenient way to pass parameters to our program by simply typing the name of the program and, next to it, the values we want to put in. In this notebook, we will learn how to build powerful CLIs that make our programs even more reusable!"
   ]
  },
  {
   "cell_type": "code",
   "execution_count": null,
   "metadata": {},
   "outputs": [],
   "source": [
    "%pip install psychopy"
   ]
  },
  {
   "cell_type": "code",
   "execution_count": null,
   "metadata": {},
   "outputs": [],
   "source": [
    "from argparse import ArgumentParser\n",
    "from psychopy.event import waitKeys\n",
    "from psychopy.sound import Sound\n",
    "from psychopy.visual import Window\n",
    "Sound(stereo=False);  # avoid bug that results from automatically setting `stereo`"
   ]
  },
  {
   "cell_type": "markdown",
   "metadata": {
    "vscode": {
     "languageId": "plaintext"
    }
   },
   "source": [
    "## 1. Creating an Argument Parser\n",
    "\n",
    "An argument parser takes in arguments from the command line and feeds them into our Python program.\n",
    "Python has a builtin module called `argparse` that does this for us.\n",
    "Let's assume we have a CLI program that adds two numbers.\n",
    "To call this program we would type in our terminal something like that `python add.py 3 2`, where `add.py` is the name of the program and `3` and `2` are the values provided to the CLI.\n",
    "However, it would be annoying to constantly jump between our editor and the terminal.\n",
    "Fortunately, argparse has a method of directly providing the `args` as if we were calling the program from the terminal.\n",
    "This gives us a convenient way for writing and testing our scripts in the same interface.\n",
    "In this section we are  going to write CLI scripts that allow us to play different sounds using PsychoPy's `Sound` class.\n",
    "\n",
    "### Reference Table\n",
    "\n",
    "| Code                                            | Description |\n",
    "| :---------------------------------------------- | :---------- |\n",
    "| `parser = ArgumentParser()`                 | Create a parser for command line arguments |\n",
    "| `parser.add_argument(\"x\", type=int)`        | Add an integer argument `\"x\"` to the parser |\n",
    "| `parser.add_argument(\"y\", type=str)`        | Add a string argument `\"y\"` to the parser |\n",
    "| `parser.print_help()`                                              | Print the help documentation of the `parser`            |\n",
    "| `args = parser.parse_args(args=[\"3\", \"y\"])` | Parse the arguments and set the `\"x\"` to `\"3\"` and `\"y\"` to `\"hi\"`|\n",
    "| `args.x`                                    | Access the value passed to the argument `\"x\"`             |\n",
    "| `tone = Sound()`                         | Create a pure tone |\n",
    "| `tone = Sound(value=800)`                | Create a pure tone with a frequency of `800` Hz |\n",
    "| `tone = Sound(secs=1.5)`                 | Create a pure tone with a duration of `1.5` seconds |\n",
    "| `tone = Sound(hamming=True)`              | Create a sound where the onset and offset are smoothly ramped up/down using a hamming window |\n",
    "| `tone.play()`              | Play the sound |"
   ]
  },
  {
   "cell_type": "markdown",
   "metadata": {},
   "source": [
    "---\n",
    "**Example**: Make a parser that accepts integers for `n_trials`:"
   ]
  },
  {
   "cell_type": "code",
   "execution_count": null,
   "metadata": {},
   "outputs": [],
   "source": [
    "parser = ArgumentParser()\n",
    "parser.add_argument(\"n_trials\", type=int)\n",
    "parser.print_help()"
   ]
  },
  {
   "cell_type": "markdown",
   "metadata": {},
   "source": [
    "Make `args` from the `parser` above, with `args.n_trials` set to `10`:"
   ]
  },
  {
   "cell_type": "code",
   "execution_count": null,
   "metadata": {},
   "outputs": [],
   "source": [
    "args = parser.parse_args(args=[\"10\"])\n",
    "args.n_trials"
   ]
  },
  {
   "cell_type": "markdown",
   "metadata": {},
   "source": [
    "Make `args` from the `parser` above, with `args.n_trials` set to `18`:"
   ]
  },
  {
   "cell_type": "code",
   "execution_count": null,
   "metadata": {},
   "outputs": [],
   "source": [
    "args = parser.parse_args(args=[\"18\"])\n",
    "args.n_trials"
   ]
  },
  {
   "cell_type": "markdown",
   "metadata": {},
   "source": [
    "---\n",
    "**Exercise**: Make a parser that accepts integers for `n_blocks`:\n",
    "\n"
   ]
  },
  {
   "cell_type": "code",
   "execution_count": null,
   "metadata": {},
   "outputs": [],
   "source": [
    "# Solution\n",
    "parser = ArgumentParser()\n",
    "parser.add_argument('n_blocks', type=int)\n",
    "parser.print_help()"
   ]
  },
  {
   "cell_type": "markdown",
   "metadata": {},
   "source": [
    "Make `args` from the `parser` above, with `args.n_blocks` set to `2`:"
   ]
  },
  {
   "cell_type": "code",
   "execution_count": null,
   "metadata": {},
   "outputs": [],
   "source": [
    "# Solution\n",
    "args = parser.parse_args(args=['2'])\n",
    "args.n_blocks"
   ]
  },
  {
   "cell_type": "markdown",
   "metadata": {},
   "source": [
    "Make `args` from the `parser` above, with `args.n_blocks` set to `5`:"
   ]
  },
  {
   "cell_type": "code",
   "execution_count": null,
   "metadata": {},
   "outputs": [],
   "source": [
    "# Solution\n",
    "args = parser.parse_args(args=['5'])\n",
    "args.n_blocks"
   ]
  },
  {
   "cell_type": "markdown",
   "metadata": {},
   "source": [
    "---\n",
    "**Exercise**: Make a parser that accepts strings for `subject`:\n"
   ]
  },
  {
   "cell_type": "code",
   "execution_count": null,
   "metadata": {},
   "outputs": [],
   "source": [
    "# Solution\n",
    "parser = ArgumentParser()\n",
    "parser.add_argument('subject', type=str)\n",
    "parser.print_help()"
   ]
  },
  {
   "cell_type": "markdown",
   "metadata": {},
   "source": [
    "Make `args` from the `parser` above,  with `args.subject` set to `Fred`:"
   ]
  },
  {
   "cell_type": "code",
   "execution_count": null,
   "metadata": {},
   "outputs": [],
   "source": [
    "# Solution\n",
    "args = parser.parse_args(args=['Fred'])\n",
    "args.subject"
   ]
  },
  {
   "cell_type": "markdown",
   "metadata": {},
   "source": [
    "Make `args` from the `parser` above,  with `args.subject` set to `Julia`:"
   ]
  },
  {
   "cell_type": "code",
   "execution_count": null,
   "metadata": {},
   "outputs": [],
   "source": [
    "# Solution\n",
    "args = parser.parse_args(args=['Julia'])\n",
    "args.subject"
   ]
  },
  {
   "cell_type": "markdown",
   "metadata": {},
   "source": [
    "---\n",
    "**Exercise**: Make a parser that accepts integers for `freq`:"
   ]
  },
  {
   "cell_type": "code",
   "execution_count": null,
   "metadata": {},
   "outputs": [],
   "source": [
    "# Solution\n",
    "parser = ArgumentParser()\n",
    "parser.add_argument('freq', type=int)\n",
    "parser.print_help()"
   ]
  },
  {
   "cell_type": "markdown",
   "metadata": {},
   "source": [
    "Make PsychoPy play a sound at **800** Hz when `args.freq` is set to `800`:"
   ]
  },
  {
   "cell_type": "code",
   "execution_count": null,
   "metadata": {},
   "outputs": [],
   "source": [
    "# Solution\n",
    "args = parser.parse_args(args=['800'])\n",
    "sound = Sound(value=args.freq)\n",
    "sound.play()"
   ]
  },
  {
   "cell_type": "markdown",
   "metadata": {},
   "source": [
    "Make Psychopy play a sound at **1200** Hz when `args.freq` is set to `1200`:"
   ]
  },
  {
   "cell_type": "code",
   "execution_count": null,
   "metadata": {},
   "outputs": [],
   "source": [
    "# Solution\n",
    "args = parser.parse_args(args=['1200'])\n",
    "sound = Sound(value=args.freq)\n",
    "sound.play()"
   ]
  },
  {
   "cell_type": "markdown",
   "metadata": {},
   "source": [
    "---\n",
    "**Exercise**: Make a parser that accepts integers for `freq` and `dur`:"
   ]
  },
  {
   "cell_type": "code",
   "execution_count": null,
   "metadata": {},
   "outputs": [],
   "source": [
    "# Solution\n",
    "parser = ArgumentParser()\n",
    "parser.add_argument('freq', type=int)\n",
    "parser.add_argument('secs', type=float)\n",
    "parser.print_help()"
   ]
  },
  {
   "cell_type": "markdown",
   "metadata": {},
   "source": [
    "Make PsychoPy play a **500** Hz tone with a duration of **1.8** seconds with `args` from the `parser` above, when `args.freq` set to `500` and `args.secs` set to `1.8`:"
   ]
  },
  {
   "cell_type": "code",
   "execution_count": null,
   "metadata": {},
   "outputs": [],
   "source": [
    "# Solution\n",
    "args = parser.parse_args(args=[\"500\", \"1.8\"])\n",
    "sound = Sound(value=args.freq, secs=args.secs)\n",
    "sound.play()"
   ]
  },
  {
   "cell_type": "markdown",
   "metadata": {},
   "source": [
    "Make PsychoPy play a **4000** Hz tone with a duration of **0.25** seconds with `args` from the `parser` above, when `args.freq` set to `4000` and `args.secs` set to `0.25`:"
   ]
  },
  {
   "cell_type": "code",
   "execution_count": null,
   "metadata": {},
   "outputs": [],
   "source": [
    "# Solution\n",
    "args = parser.parse_args(args=[\"4000\", \"0.25\"])\n",
    "sound = Sound(value=args.freq, secs=args.secs)\n",
    "sound.play()"
   ]
  },
  {
   "cell_type": "markdown",
   "metadata": {},
   "source": [
    "---\n",
    "**Exercise**: Make a parser that accepts integers for `freq` and booleans for `hamming`:"
   ]
  },
  {
   "cell_type": "code",
   "execution_count": null,
   "metadata": {},
   "outputs": [],
   "source": [
    "# Solution\n",
    "parser = ArgumentParser()\n",
    "parser.add_argument('freq', type=int)\n",
    "parser.add_argument('hamming', type=bool)\n",
    "parser.print_help()"
   ]
  },
  {
   "cell_type": "markdown",
   "metadata": {},
   "source": [
    "Make PsychoPy play a **330** Hz tone with onset and offset ramp with `args` from the `parser` above, when `args.freq` is set to `330` and `args.hamming` set to `True`:"
   ]
  },
  {
   "cell_type": "code",
   "execution_count": null,
   "metadata": {},
   "outputs": [],
   "source": [
    "args = parser.parse_args(args=[\"330\", \"True\"])\n",
    "sound = Sound(value=args.freq, hamming=args.hamming)\n",
    "sound.play()"
   ]
  },
  {
   "cell_type": "markdown",
   "metadata": {},
   "source": [
    "Make PsychoPy play a **950** Hz tone without onset and offset ramp with `args` from the `parser` above, when `args.freq` is set to `950` and `args.hamming` set to `False`:"
   ]
  },
  {
   "cell_type": "code",
   "execution_count": null,
   "metadata": {},
   "outputs": [],
   "source": [
    "args = parser.parse_args(args=[\"300\", \"False\"])\n",
    "sound = Sound(value=args.freq, hamming=args.hamming)\n",
    "sound.play()"
   ]
  },
  {
   "cell_type": "markdown",
   "metadata": {},
   "source": [
    "## 2. Documenting your CLI\n",
    "\n",
    "Adding arguments to a CLI can make a program more versatile but also harder to understand.\n",
    "To make our program easy to use, we can provide documentation that explains what the program and the individual parameters are doing.\n",
    "We can also use named arguments where each value is preceded by an identifier like `python add.py --num1 3 --num2 5`.\n",
    "This makes it easier to understand what each parameter does, and it also allows us to pass in the parameters in any order.\n",
    "Its important to keep in mind that named arguments are **optional**, so our program has to be able to run without them!\n",
    "In this section, we are exploring some advanced CLI functions together with PsychoPy's `waitKeys` functions that allows us to record responses using a keyboard.\n",
    "Even though we won't show any images, we'll still have to open a `Window` because PsychPy will only record keys from an active window.\n",
    "\n",
    "\n",
    "### Reference Table\n",
    "| Code                                                                   | Description |\n",
    "| :--------------------------------------------------------------------- | :---------- |\n",
    "| `parser = ArgumentParser(description=\"This program ...\")`    | Create an argument parser and add a `description` about the program|\n",
    "| `parser.add_argument(\"n\", help=\"This argument...\")`        | Add a positional argument `\"n\"` and add a `help` text about the argument             |\n",
    "| `parser.add_argument(\"--sub\", type=str)`                           | Add an optional named argument `\"--sub\"` of type string             | \n",
    "| `parser.add_argument(\"--train\", action=\"store_true\")`                 | Add an optional named argument `\"--train\"` that, when included, takes the value `True`             |\n",
    "| `args = parser.parse_args(args=[\"--sub\", \"Bob\", \"--train\"])` | Parse the arguments and set `args.sub` to `\"Bob\"` and `args.train` to `True`             | \n",
    "| `with Window() as win:`                           | Open a `Window` within a context manager (required for recording key presses)                 |\n",
    "| `keys = waitKeys()`                                | Wait until any key is pressed |\n",
    "| `keys = waitKeys(keyList=[\"a\", \"b\"])`              | Wait until the keys `\"a\"` or `\"b\"` are pressed | \n",
    "| `keys = waitKeys(maxWait=3)`                       | Wait until any key is pressed or `3` seconds passed |\n",
    "| `keys = waitKeys(timeStamped=True)`                | Wait until any key is pressed and return the time of the event |\n"
   ]
  },
  {
   "cell_type": "markdown",
   "metadata": {},
   "source": [
    "**Example**: Make an argument parser that accepts strings for `--key1` and `--key2`"
   ]
  },
  {
   "cell_type": "code",
   "execution_count": null,
   "metadata": {},
   "outputs": [],
   "source": [
    "parser = ArgumentParser()\n",
    "parser.add_argument(\"--key1\", type=str)\n",
    "parser.add_argument(\"--key2\", type=str)\n",
    "parser.print_help()"
   ]
  },
  {
   "cell_type": "markdown",
   "metadata": {},
   "source": [
    "Make PsychoPy wait until the keys **q** or **p** were pressed with `args` from the `parser` above, when `args.key1` is set to `\"q\"` and `args.key2` set to `\"p\"` and print the recorded key:"
   ]
  },
  {
   "cell_type": "code",
   "execution_count": null,
   "metadata": {},
   "outputs": [],
   "source": [
    "args = parser.parse_args(args=[\"--key1\", \"q\", \"--key2\", \"p\"])\n",
    "with Window() as win:\n",
    "    keys = waitKeys(keyList=[args.key1, args.key2])\n",
    "keys"
   ]
  },
  {
   "cell_type": "markdown",
   "metadata": {},
   "source": [
    "Make PsychoPy wait until the **return/enter** key was pressed with `args` from the `parser` above, when `args.key1` is set to `\"return\"` and `args.key2` is not used at all:"
   ]
  },
  {
   "cell_type": "code",
   "execution_count": null,
   "metadata": {},
   "outputs": [],
   "source": [
    "args = parser.parse_args(args=[\"--key1\", \"return\"])\n",
    "with Window() as win:\n",
    "    keys = waitKeys(keyList=[args.key1, args.key2])\n",
    "keys"
   ]
  },
  {
   "cell_type": "markdown",
   "metadata": {},
   "source": [
    "---\n",
    "**Exercise**: Make an argument parser that accepts strings for `--yes` and `--no` "
   ]
  },
  {
   "cell_type": "code",
   "execution_count": null,
   "metadata": {},
   "outputs": [],
   "source": [
    "# Solution\n",
    "parser = ArgumentParser()\n",
    "parser.add_argument(\"--yes\", type=str)\n",
    "parser.add_argument(\"--no\", type=str)\n",
    "parser.print_help()"
   ]
  },
  {
   "cell_type": "markdown",
   "metadata": {},
   "source": [
    "Make PsychoPy wait until the keys **y** or **n** were pressed with `args` from the `parser` above, when `args.yes` is set to `\"y\"` and `args.no` is set to `\"n\"`:"
   ]
  },
  {
   "cell_type": "code",
   "execution_count": null,
   "metadata": {},
   "outputs": [],
   "source": [
    "# Solution\n",
    "args = parser.parse_args(args=[\"--yes\", \"y\", \"--no\", \"n\"])\n",
    "with Window() as win:\n",
    "    keys = waitKeys(keyList=[args.yes, args.no])\n",
    "keys"
   ]
  },
  {
   "cell_type": "markdown",
   "metadata": {},
   "source": [
    "Make PsychoPy wait until the key **space** was pressed with `args` from the `parser` above, when `args.yes` is set to `\"space\"` and `args.no` is not used at all:"
   ]
  },
  {
   "cell_type": "code",
   "execution_count": null,
   "metadata": {},
   "outputs": [],
   "source": [
    "# Solution\n",
    "args = parser.parse_args(args=[\"--yes\", \"space\"])\n",
    "with Window() as win:\n",
    "    keys = waitKeys(keyList=[args.yes, args.no])\n",
    "keys"
   ]
  },
  {
   "cell_type": "markdown",
   "metadata": {},
   "source": [
    "---\n",
    "**Exercise**: Make an argument parser and add the description: **\"This program waits until 'maxwait' has passed or the 'key' was pressed\"**.\n",
    "Make the parser accept strings for `\"--key\"` and add the help: **\"Wait for this key\"**.\n",
    "Also make the parser accept floats for `\"--maxwait\"` and add the help: **\"Maximum time to wait in seconds\"**:"
   ]
  },
  {
   "cell_type": "code",
   "execution_count": null,
   "metadata": {},
   "outputs": [],
   "source": [
    "# Solution\n",
    "parser = ArgumentParser(description=\"This program waits until 'maxwait has passed or the `key` was pressed\")\n",
    "parser.add_argument(\"--key\", type=str, help=\"Wait for this key (e.g. 'space')\")\n",
    "parser.add_argument(\"--maxwait\", type=float, help=\"Maximum time to wait in seconds\")\n",
    "parser.print_help()"
   ]
  },
  {
   "cell_type": "markdown",
   "metadata": {},
   "source": [
    "Make PsychoPy wait until the key **z** was pressed or **2.5** seconds passed with `args` from the `parser` above, when `args.key` is set to `\"z\"` and `args.maxwait` is set to `\"2.5\"`:"
   ]
  },
  {
   "cell_type": "code",
   "execution_count": null,
   "metadata": {},
   "outputs": [],
   "source": [
    "# Solution\n",
    "args = parser.parse_args(args=[\"--key\", \"z\", \"--maxwait\", \"2.5\"])\n",
    "with Window() as win:\n",
    "    keys = waitKeys(keyList=[args.key], maxWait=args.maxwait)"
   ]
  },
  {
   "cell_type": "markdown",
   "metadata": {},
   "source": [
    "Make PsychoPy wait until the key **g** was pressed or **3.25** seconds passed with `args` from the `parser` above, when `args.key` is set to `\"g\"` and `args.maxwait` is set to `\"3.25\"`:"
   ]
  },
  {
   "cell_type": "code",
   "execution_count": null,
   "metadata": {},
   "outputs": [],
   "source": [
    "# Solution\n",
    "args = parser.parse_args(args=[\"--key\", \"g\", \"--maxwait\", \"3.25\"])\n",
    "with Window() as win:\n",
    "    keys = waitKeys(keyList=[args.key], maxWait=args.maxwait)"
   ]
  },
  {
   "cell_type": "markdown",
   "metadata": {},
   "source": [
    "---\n",
    "**Exercise**: Make an argument parser that accepts strings for `\"--key\"` and add a `\"--timed\"` flag with `action=\"store_true\"`:"
   ]
  },
  {
   "cell_type": "code",
   "execution_count": null,
   "metadata": {},
   "outputs": [],
   "source": [
    "# Solution\n",
    "parser = ArgumentParser()\n",
    "parser.add_argument(\"--key\", type=str)\n",
    "parser.add_argument(\"--timed\", action=\"store_true\")\n",
    "parser.print_help()"
   ]
  },
  {
   "cell_type": "markdown",
   "metadata": {},
   "source": [
    "Make PsychoPy wait until the key **space** was pressed with `args` from the `parser` above when `args.key` is set to `\"space\"` and return the time at which the key was pressed `if args.timed == True`:"
   ]
  },
  {
   "cell_type": "code",
   "execution_count": null,
   "metadata": {},
   "outputs": [],
   "source": [
    "args = parser.parse_args(args=[\"--key\", \"space\", \"--timed\"])\n",
    "with Window() as win:\n",
    "    keys = waitKeys(keyList=[args.key], timeStamped=args.timed)\n",
    "keys"
   ]
  },
  {
   "cell_type": "markdown",
   "metadata": {},
   "source": [
    "Make PsychoPy wait until the key **space** was pressed with `args` from the `parser` above when `args.key` is set to `\"space\"` and don't return the time at which the key was pressed if the `\"--timed\"` flag was not included:"
   ]
  },
  {
   "cell_type": "code",
   "execution_count": null,
   "metadata": {},
   "outputs": [],
   "source": [
    "args = parser.parse_args(args=[\"--key\", \"space\"])\n",
    "with Window() as win:\n",
    "    keys = waitKeys(keyList=[args.key], timeStamped=args.timed)"
   ]
  },
  {
   "cell_type": "markdown",
   "metadata": {},
   "source": [
    "---\n",
    "**Exercise**: Make an argument parser that accepts strings for `\"--left\"` and `\"--right\"` and add a `\"--wait\"` flag with `action=\"store_true\"`:"
   ]
  },
  {
   "cell_type": "code",
   "execution_count": null,
   "metadata": {},
   "outputs": [],
   "source": [
    "# Solution\n",
    "parser = ArgumentParser()\n",
    "parser.add_argument(\"--left\", type=str)\n",
    "parser.add_argument(\"--right\", type=str)\n",
    "parser.add_argument(\"--wait\", action=\"store_true\")\n",
    "parser.print_help()"
   ]
  },
  {
   "cell_type": "markdown",
   "metadata": {},
   "source": [
    "Make PsychoPy wait until the **left** or **right** arrow key was pressed if `args.left=\"left\"` and `args.right=\"right\"` but only wait `if args.wait==True`:"
   ]
  },
  {
   "cell_type": "code",
   "execution_count": null,
   "metadata": {},
   "outputs": [],
   "source": [
    "args = parser.parse_args(args=['--left', 'left', '--right', 'right', '--wait'])\n",
    "with Window() as win:\n",
    "    if args.wait:\n",
    "        waitKeys(keyList=[args.left, args.right])"
   ]
  },
  {
   "cell_type": "markdown",
   "metadata": {},
   "source": [
    "Execute the code from above again but without waiting by omitting `\"--wait\"` flag from `\"args\"`."
   ]
  },
  {
   "cell_type": "code",
   "execution_count": null,
   "metadata": {},
   "outputs": [],
   "source": [
    "args = parser.parse_args(args=['--left', 'left', '--right', 'right'])\n",
    "with Window() as win:\n",
    "    if args.wait:\n",
    "        waitKeys(keyList=[args.left, args.right])"
   ]
  },
  {
   "cell_type": "markdown",
   "metadata": {
    "vscode": {
     "languageId": "plaintext"
    }
   },
   "source": [
    "## 3. Writing a program with a command line interface\n",
    "\n",
    "Now we know how to write CLIs, play Sounds and record Responses - Let's create some progamms.\n",
    "In this section you are going to create new files to write your scripts in.\n",
    "Make sure that you place the files in the same folder as this notebook (4_command_line_interface), so Python will be able to find them!\n",
    "To run a program from the terminal, simply write `!` before its name and execute the notebook cell. \n",
    "\n",
    "**IMPORTANT**: By running this notebook, PsychoPy connected to your audio device. As long as this connection is activte you will not be able to run other PsychoPy programs that also need to communicate with your audio interface. Thus, before you continue, make sure that you click the **Restart** button at the top your VSCode editor to let go of any existing connection.\n",
    "\n",
    "#### Reference Table\n",
    "\n",
    "|Code | Description |\n",
    "|---|---|\n",
    "|`!python some_program.py -h` | Print the help documentation of `some_program`'s command line interface |\n",
    "|`!python some_program.py hi` | Execute `some_program.py` with `hi` as the first positional argument |\n",
    "|`!python some_program.py hi --arg1 2` | Execute `some_program.py` with `hi` as the first positional argument and `2` as the value of the optional argument `--arg1` |"
   ]
  },
  {
   "cell_type": "markdown",
   "metadata": {},
   "source": [
    "**Exercise**: Call the help of the Python program `say_hi_to.py`"
   ]
  },
  {
   "cell_type": "code",
   "execution_count": null,
   "metadata": {},
   "outputs": [],
   "source": [
    "!python say_hi_to.py -h"
   ]
  },
  {
   "cell_type": "markdown",
   "metadata": {},
   "source": [
    "**Exercise**: Use `say_hi_to.py` to say hi to **\"John Doe\"**"
   ]
  },
  {
   "cell_type": "code",
   "execution_count": null,
   "metadata": {},
   "outputs": [],
   "source": [
    "!python say_hi_to.py --first John --last Doe"
   ]
  },
  {
   "cell_type": "markdown",
   "metadata": {},
   "source": [
    "**Exercise**: Use `say_hi_to.py` to say hi to shout **\"HI BOB!\"**"
   ]
  },
  {
   "cell_type": "code",
   "execution_count": null,
   "metadata": {},
   "outputs": [],
   "source": [
    "!python say_hi_to.py --first Bob --shout"
   ]
  },
  {
   "cell_type": "markdown",
   "metadata": {},
   "source": [
    "---\n",
    "**Exercise**: Write a program called `react_to_tone.py` with an `ArgumentParser` that accepts a string argument `key`, an integer argument `freq` and a `--timed` flag.\n",
    " Make the program play a tone at the given frequency, wait fo the `key` and prints the value returned by `waitKeys()`. \n",
    " Make the program return the time at which the key was pressed if the `--timed` flag was included."
   ]
  },
  {
   "cell_type": "markdown",
   "metadata": {},
   "source": [
    "Make `react_to_tone.py` play a **600 Hz** tone and wait until **y** was pressed:"
   ]
  },
  {
   "cell_type": "code",
   "execution_count": null,
   "metadata": {},
   "outputs": [],
   "source": [
    "# Solution\n",
    "!python react_to_tone.py 600 y"
   ]
  },
  {
   "cell_type": "markdown",
   "metadata": {},
   "source": [
    "Make `react_to_tone.py` play a **750 Hz** tone and wait until the key **n** was pressed and return the **time** the key was pressed:"
   ]
  },
  {
   "cell_type": "code",
   "execution_count": null,
   "metadata": {},
   "outputs": [],
   "source": [
    "# Solution\n",
    "!python react_to_tone.py 750 n --timed"
   ]
  },
  {
   "cell_type": "markdown",
   "metadata": {},
   "source": [
    "---\n",
    "**Exercise**: Write a program called `react_to_tones.py` with an `ArgumentParser` that accepts a string argument `key`, an integer argument `freq` and an integer argument `n_trials`.\n",
    "Make the program play multiple tones at the given frequency in a loop with `for i in range(args.n_trials)`. \n",
    "Make the program wait for the `key` and print out the value returned by `Keyboard.waitKeys()` after every tone."
   ]
  },
  {
   "cell_type": "markdown",
   "metadata": {},
   "source": [
    "Make `react_to_tones.py` play **3** tones at **1000** Hz and wait for the **space** key"
   ]
  },
  {
   "cell_type": "code",
   "execution_count": null,
   "metadata": {},
   "outputs": [],
   "source": [
    "# Solution\n",
    "!python react_to_tones.py 1000 space 3"
   ]
  },
  {
   "cell_type": "markdown",
   "metadata": {},
   "source": [
    "Make `react_to_tones.py` play **5** tones at **1600** Hz and wait for the **n** key"
   ]
  },
  {
   "cell_type": "code",
   "execution_count": null,
   "metadata": {},
   "outputs": [],
   "source": [
    "# Solution\n",
    "!python react_to_tones.py 1600 n 5"
   ]
  },
  {
   "cell_type": "markdown",
   "metadata": {},
   "source": [
    "---\n",
    "**Exercise**: Write a program called `change_pitch.py` with an ArgumentParser that accepts integers for `freq`, `step` and `n_trials`.\n",
    "Make the program play mutliple tones using a loop with `for i in range(args.n_trials)`. After every tone, wait until the `\"up\"` or `\"down\"` key was pressed.\n",
    "If the `\"down\"` key was pressed, decrease the tone frequency by `step`, if `\"up\"` was pressed, increase the tone frequency by `step`. \n",
    "Start at the frequency passed to the `freq` parameter.\n",
    "(Hint: `Keyboard.waitKeys()` returns a list of `keys` --- access the name of the pressed key as `keys[0].name`)"
   ]
  },
  {
   "cell_type": "markdown",
   "metadata": {},
   "source": [
    "Make `change_pitch.py` play **10** tones, starting at **1200** Hz with a step size of **50** Hz"
   ]
  },
  {
   "cell_type": "code",
   "execution_count": null,
   "metadata": {},
   "outputs": [],
   "source": [
    "# Solution\n",
    "!python change_pitch.py 1200 50 10"
   ]
  },
  {
   "cell_type": "markdown",
   "metadata": {},
   "source": [
    "Make `change_pitch.py` play **5** tones, starting at **2100** Hz with a step size of **100** Hz"
   ]
  },
  {
   "cell_type": "code",
   "execution_count": null,
   "metadata": {},
   "outputs": [],
   "source": [
    "# Solution\n",
    "!python change_pitch.py 2100 100 5"
   ]
  },
  {
   "cell_type": "markdown",
   "metadata": {},
   "source": [
    "## 4. Combining CLI and Configuration Files\n",
    "\n",
    "Now we can combine CLIs and configuration files to get the best of both worlds: We can use CLIs to pass in parameters that we want to change all of the time and configuration files to store the parameters that we don't want to change as often.\n",
    "The program that is executed below runs a pure tone audiogram to detect the hearing threshold at a given frequency, a perfect use case to combine CLIs and config files!"
   ]
  },
  {
   "cell_type": "code",
   "execution_count": null,
   "metadata": {},
   "outputs": [],
   "source": [
    "!python pure_tone_audiogram.py"
   ]
  },
  {
   "cell_type": "markdown",
   "metadata": {},
   "source": [
    "**Exercise**: In the beginning of the script `pure_tone_audiogram.py`, multiple parameters are defined (e.g. `FREQUENCY`). Create a file called `audiogram_config.json` that stores these parameters. Then, modify `pure_tone_audiogram.py` so that it loads `audiogram_config.json` and replace the parameters with the values stored in the file. Change the **start volume** to 0.5 and the **number of reversals** to 6 and rerun `pure_tone_audiogram.py`"
   ]
  },
  {
   "cell_type": "markdown",
   "metadata": {},
   "source": [
    "Now add add an `ArgumentParser` to `pure_tone_audiogram.py` that accepts strings for `--config_file` and use the value of `args.config_file` as path when loading the configuration file. Write a new file called `audiogram_config2.json` and change the **frequency** to **2000** Hz. Then, execute the cell below to run `pure_tone_audiogram.py` with the new configuration."
   ]
  },
  {
   "cell_type": "code",
   "execution_count": null,
   "metadata": {},
   "outputs": [],
   "source": [
    "!python pure_tone_audiogram.py --config_file audiogram_config2.json"
   ]
  },
  {
   "cell_type": "markdown",
   "metadata": {},
   "source": [
    "Add a `--frequency` argument to the parser and use this argument instead of the value stored in the configuration file to set the `value` of the tone. Then, the two cells below should run the same audiogram but with different frequency"
   ]
  },
  {
   "cell_type": "code",
   "execution_count": 3,
   "metadata": {},
   "outputs": [
    {
     "name": "stdout",
     "output_type": "stream",
     "text": [
      "The detection threshold for 1000 Hz is: 0.86\n",
      "5.3133 \tWARNING \tMonitor specification not found. Creating a temporary one...\n"
     ]
    }
   ],
   "source": [
    "!python pure_tone_audiogram.py --config_file audiogram_config2.json --frequency 600"
   ]
  },
  {
   "cell_type": "code",
   "execution_count": 4,
   "metadata": {},
   "outputs": [
    {
     "name": "stdout",
     "output_type": "stream",
     "text": [
      "The detection threshold for 1000 Hz is: 0.78\n",
      "4.7140 \tWARNING \tMonitor specification not found. Creating a temporary one...\n"
     ]
    }
   ],
   "source": [
    "!python pure_tone_audiogram.py --config_file audiogram_config2.json --frequency 1250"
   ]
  }
 ],
 "metadata": {
  "kernelspec": {
   "display_name": "psychopy",
   "language": "python",
   "name": "python3"
  },
  "language_info": {
   "codemirror_mode": {
    "name": "ipython",
    "version": 3
   },
   "file_extension": ".py",
   "mimetype": "text/x-python",
   "name": "python",
   "nbconvert_exporter": "python",
   "pygments_lexer": "ipython3",
   "version": "3.9.20"
  }
 },
 "nbformat": 4,
 "nbformat_minor": 2
}
